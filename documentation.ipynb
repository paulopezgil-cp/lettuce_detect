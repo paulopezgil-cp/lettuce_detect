{
 "cells": [
  {
   "cell_type": "markdown",
   "id": "474d23b7",
   "metadata": {},
   "source": [
    "# Abstract\n",
    "\n",
    "LettuceDetect is a new lightweight, open-source framework designed to identify hallucinations in Retrieval-Augmented Generation (RAG) systems.\n",
    "\n",
    "This framework addresses two critical limitations of existing methods by utilizing ModernBERT's extended context capabilities and being significantly more computationally efficient than comparable Large Language Model (LLM)-based approaches:\n",
    "- Context window constraints of traditional encoder-based methods\n",
    "\n",
    "- Computational inefficiency of LLM-based approaches\n",
    "\n",
    "Evaluated on the RAGTruth benchmark dataset, LettuceDetect outperforms previous encoder-based models and most prompt-based models in detecting unsupported claims at a token level."
   ]
  },
  {
   "cell_type": "markdown",
   "id": "6a93a38e",
   "metadata": {},
   "source": [
    "# 2. HallucinationDetector class\n",
    "\n",
    "I've documented the class HallucinationDetector."
   ]
  },
  {
   "cell_type": "markdown",
   "id": "c2ffb735",
   "metadata": {},
   "source": [
    "## 2.1 The constructor\n",
    "\n",
    "`def __init__(self, method: str = \"transformer\", **kwargs)`\n",
    "\n",
    "The constructor of the HallucinationDetector class accepts an argument called method of type string. This argument can take the following values:\n",
    "\n",
    "- `\"transformer\"`: In this case, the constructor delegates the task to the class TransformerDetector\n",
    "\n",
    "- `\"llm\"`: In this case, the constructor delegates the task to the class \"LLMDetector\"\n",
    "\n",
    "### 2.1.1 The TransformerDetector class\n",
    "```\n",
    "def __init__(\n",
    "        self,\n",
    "        model_path: str,\n",
    "        max_length: int = 4096,\n",
    "        device=None,\n",
    "        lang: Lang = \"en\",\n",
    "        **tok_kwargs\n",
    "):\n",
    "```\n",
    "\n",
    "- `model_path`: Path to the pre-trained model. The full list of pretrained BERT transformers is available [here](https://huggingface.co/KRLabsOrg).\n",
    "- `max_length`: Maximum length of the input sequence.\n",
    "- `device`: Device to use for inference. If `None`, by default will be `torch.device(\"cuda\")` or `torch.device(\"cpu\")`\n",
    "- `lang`: Language of the model. Supported languages:\n",
    "    ```\n",
    "    \"en\": \"English\",\n",
    "    \"de\": \"German\",\n",
    "    \"fr\": \"French\",\n",
    "    \"es\": \"Spanish\",\n",
    "    \"it\": \"Italian\",\n",
    "    \"pl\": \"Polish\",\n",
    "    \"cn\": \"Chinese\",\n",
    "    ```\n",
    "- `tok_kwargs`: Additional keyword arguments for the tokenizer.\n",
    "\n"
   ]
  },
  {
   "cell_type": "markdown",
   "id": "f3d01b73",
   "metadata": {},
   "source": [
    "### 2.1.2 The LLMDetector class\n",
    "```\n",
    "def __init__(\n",
    "        self,\n",
    "        model: str = \"gpt-4.1-mini\",\n",
    "        temperature: float = 0.0,\n",
    "        lang: Lang = \"en\",\n",
    "        zero_shot: bool = False,\n",
    "        fewshot_path: str | None = None,\n",
    "        prompt_path: str | None = None,\n",
    "        cache_file: str | None = None,\n",
    "):\n",
    "```\n",
    "\n",
    "- `model`: The model to use for hallucination detection.\n",
    "- `temperature`: The temperature to use for hallucination detection.\n",
    "- `lang`: The language to use for hallucination detection (cf. the previous language list).\n",
    "- `zero_shot`: Whether to use zero-shot hallucination detection.\n",
    "- `fewshot_path`: The path to the few-shot examples.\n",
    "- `prompt_path`: The path to the prompt.\n",
    "- `cache_file`: The path to the cache file.\n",
    "\n",
    "When using the LLMDetector, only the 'spans' output format is supported."
   ]
  },
  {
   "cell_type": "markdown",
   "id": "552e85c3",
   "metadata": {},
   "source": [
    "## 2.2 The predict function\n",
    "\n",
    "```\n",
    "def predict(\n",
    "    self,\n",
    "    context: list[str],\n",
    "    answer: str,\n",
    "    question: str | None = None,\n",
    "    output_format: str = \"tokens\",\n",
    ") -> list:\n",
    "```\n",
    "\n",
    "This function predicts hallucination tokens or spans given passages and an answer.\n",
    "\n",
    "- context: List of passages that were supplied to the LLM / user.\n",
    "- answer: Model‑generated answer to inspect.\n",
    "- question: Original question (``None`` for summarisation).\n",
    "- output_format: ``\"tokens\"`` for token‑level dicts, ``\"spans\"`` for character spans.\n",
    "\n",
    "It first uses `PromptUtils.format_context()` to format the context and question intro a single prompt and then it uses the internal `_predict()` function to convert a single (prompt, answer) pair into hallucination spans.\n",
    "\n",
    "### 2.2.1 Comments on the predict function of the LLMDetector class\n",
    "\n",
    "Two important things to note for this case:\n",
    "\n",
    "1. The specified output format can only be `\"spans\"`. Otherwise, an exception will be thrown.\n",
    "\n",
    "2. This function is written so it uses the OpenAI API. However, modifying the code in order to use another LLM doesn't seem very difficult.\n",
    "\n",
    "### 2.2.2 The output format\n",
    "For the span format:\n",
    "```\n",
    "[{\n",
    "    'text': str,        # The hallucinated text\n",
    "    'start': int,       # Start position in answer\n",
    "    'end': int,         # End position in answer\n",
    "    'confidence': float # Model's confidence (0-1)\n",
    "}]\n",
    "```\n",
    "\n",
    "For the token format (only available for the TransformerDetector class):\n",
    "```\n",
    "[{\n",
    "    'token': str,       # The token\n",
    "    'pred': int,        # 0: supported, 1: hallucinated\n",
    "    'prob': float       # Model's confidence (0-1)\n",
    "}]\n",
    "```"
   ]
  },
  {
   "cell_type": "markdown",
   "id": "a1127ac4",
   "metadata": {},
   "source": [
    "# 3. Demos\n",
    "\n",
    "The following demo is extracted from the original GitHub repository of the project:"
   ]
  },
  {
   "cell_type": "code",
   "execution_count": 1,
   "id": "7587f5a5",
   "metadata": {},
   "outputs": [
    {
     "name": "stdout",
     "output_type": "stream",
     "text": [
      "Requirement already satisfied: lettucedetect in ./.venv/lib/python3.12/site-packages (0.1.7)\n",
      "Requirement already satisfied: torch>=2.6.0 in ./.venv/lib/python3.12/site-packages (from lettucedetect) (2.7.1)\n",
      "Requirement already satisfied: transformers>=4.48.3 in ./.venv/lib/python3.12/site-packages (from lettucedetect) (4.53.3)\n",
      "Requirement already satisfied: tqdm>=4.65.0 in ./.venv/lib/python3.12/site-packages (from lettucedetect) (4.67.1)\n",
      "Requirement already satisfied: scikit-learn>=1.6.1 in ./.venv/lib/python3.12/site-packages (from lettucedetect) (1.7.1)\n",
      "Requirement already satisfied: numpy>=2.2.2 in ./.venv/lib/python3.12/site-packages (from lettucedetect) (2.3.1)\n",
      "Requirement already satisfied: openai==1.66.3 in ./.venv/lib/python3.12/site-packages (from lettucedetect) (1.66.3)\n",
      "Requirement already satisfied: anyio<5,>=3.5.0 in ./.venv/lib/python3.12/site-packages (from openai==1.66.3->lettucedetect) (4.9.0)\n",
      "Requirement already satisfied: distro<2,>=1.7.0 in ./.venv/lib/python3.12/site-packages (from openai==1.66.3->lettucedetect) (1.9.0)\n",
      "Requirement already satisfied: httpx<1,>=0.23.0 in ./.venv/lib/python3.12/site-packages (from openai==1.66.3->lettucedetect) (0.28.1)\n",
      "Requirement already satisfied: jiter<1,>=0.4.0 in ./.venv/lib/python3.12/site-packages (from openai==1.66.3->lettucedetect) (0.10.0)\n",
      "Requirement already satisfied: pydantic<3,>=1.9.0 in ./.venv/lib/python3.12/site-packages (from openai==1.66.3->lettucedetect) (2.11.7)\n",
      "Requirement already satisfied: sniffio in ./.venv/lib/python3.12/site-packages (from openai==1.66.3->lettucedetect) (1.3.1)\n",
      "Requirement already satisfied: typing-extensions<5,>=4.11 in ./.venv/lib/python3.12/site-packages (from openai==1.66.3->lettucedetect) (4.14.1)\n",
      "Requirement already satisfied: scipy>=1.8.0 in ./.venv/lib/python3.12/site-packages (from scikit-learn>=1.6.1->lettucedetect) (1.16.0)\n",
      "Requirement already satisfied: joblib>=1.2.0 in ./.venv/lib/python3.12/site-packages (from scikit-learn>=1.6.1->lettucedetect) (1.5.1)\n",
      "Requirement already satisfied: threadpoolctl>=3.1.0 in ./.venv/lib/python3.12/site-packages (from scikit-learn>=1.6.1->lettucedetect) (3.6.0)\n",
      "Requirement already satisfied: filelock in ./.venv/lib/python3.12/site-packages (from torch>=2.6.0->lettucedetect) (3.18.0)\n",
      "Requirement already satisfied: setuptools in ./.venv/lib/python3.12/site-packages (from torch>=2.6.0->lettucedetect) (80.9.0)\n",
      "Requirement already satisfied: sympy>=1.13.3 in ./.venv/lib/python3.12/site-packages (from torch>=2.6.0->lettucedetect) (1.14.0)\n",
      "Requirement already satisfied: networkx in ./.venv/lib/python3.12/site-packages (from torch>=2.6.0->lettucedetect) (3.5)\n",
      "Requirement already satisfied: jinja2 in ./.venv/lib/python3.12/site-packages (from torch>=2.6.0->lettucedetect) (3.1.6)\n",
      "Requirement already satisfied: fsspec in ./.venv/lib/python3.12/site-packages (from torch>=2.6.0->lettucedetect) (2025.7.0)\n",
      "Requirement already satisfied: nvidia-cuda-nvrtc-cu12==12.6.77 in ./.venv/lib/python3.12/site-packages (from torch>=2.6.0->lettucedetect) (12.6.77)\n",
      "Requirement already satisfied: nvidia-cuda-runtime-cu12==12.6.77 in ./.venv/lib/python3.12/site-packages (from torch>=2.6.0->lettucedetect) (12.6.77)\n",
      "Requirement already satisfied: nvidia-cuda-cupti-cu12==12.6.80 in ./.venv/lib/python3.12/site-packages (from torch>=2.6.0->lettucedetect) (12.6.80)\n",
      "Requirement already satisfied: nvidia-cudnn-cu12==9.5.1.17 in ./.venv/lib/python3.12/site-packages (from torch>=2.6.0->lettucedetect) (9.5.1.17)\n",
      "Requirement already satisfied: nvidia-cublas-cu12==12.6.4.1 in ./.venv/lib/python3.12/site-packages (from torch>=2.6.0->lettucedetect) (12.6.4.1)\n",
      "Requirement already satisfied: nvidia-cufft-cu12==11.3.0.4 in ./.venv/lib/python3.12/site-packages (from torch>=2.6.0->lettucedetect) (11.3.0.4)\n",
      "Requirement already satisfied: nvidia-curand-cu12==10.3.7.77 in ./.venv/lib/python3.12/site-packages (from torch>=2.6.0->lettucedetect) (10.3.7.77)\n",
      "Requirement already satisfied: nvidia-cusolver-cu12==11.7.1.2 in ./.venv/lib/python3.12/site-packages (from torch>=2.6.0->lettucedetect) (11.7.1.2)\n",
      "Requirement already satisfied: nvidia-cusparse-cu12==12.5.4.2 in ./.venv/lib/python3.12/site-packages (from torch>=2.6.0->lettucedetect) (12.5.4.2)\n",
      "Requirement already satisfied: nvidia-cusparselt-cu12==0.6.3 in ./.venv/lib/python3.12/site-packages (from torch>=2.6.0->lettucedetect) (0.6.3)\n",
      "Requirement already satisfied: nvidia-nccl-cu12==2.26.2 in ./.venv/lib/python3.12/site-packages (from torch>=2.6.0->lettucedetect) (2.26.2)\n",
      "Requirement already satisfied: nvidia-nvtx-cu12==12.6.77 in ./.venv/lib/python3.12/site-packages (from torch>=2.6.0->lettucedetect) (12.6.77)\n",
      "Requirement already satisfied: nvidia-nvjitlink-cu12==12.6.85 in ./.venv/lib/python3.12/site-packages (from torch>=2.6.0->lettucedetect) (12.6.85)\n",
      "Requirement already satisfied: nvidia-cufile-cu12==1.11.1.6 in ./.venv/lib/python3.12/site-packages (from torch>=2.6.0->lettucedetect) (1.11.1.6)\n",
      "Requirement already satisfied: triton==3.3.1 in ./.venv/lib/python3.12/site-packages (from torch>=2.6.0->lettucedetect) (3.3.1)\n",
      "Requirement already satisfied: huggingface-hub<1.0,>=0.30.0 in ./.venv/lib/python3.12/site-packages (from transformers>=4.48.3->lettucedetect) (0.33.4)\n",
      "Requirement already satisfied: packaging>=20.0 in ./.venv/lib/python3.12/site-packages (from transformers>=4.48.3->lettucedetect) (25.0)\n",
      "Requirement already satisfied: pyyaml>=5.1 in ./.venv/lib/python3.12/site-packages (from transformers>=4.48.3->lettucedetect) (6.0.2)\n",
      "Requirement already satisfied: regex!=2019.12.17 in ./.venv/lib/python3.12/site-packages (from transformers>=4.48.3->lettucedetect) (2024.11.6)\n",
      "Requirement already satisfied: requests in ./.venv/lib/python3.12/site-packages (from transformers>=4.48.3->lettucedetect) (2.32.4)\n",
      "Requirement already satisfied: tokenizers<0.22,>=0.21 in ./.venv/lib/python3.12/site-packages (from transformers>=4.48.3->lettucedetect) (0.21.2)\n",
      "Requirement already satisfied: safetensors>=0.4.3 in ./.venv/lib/python3.12/site-packages (from transformers>=4.48.3->lettucedetect) (0.5.3)\n",
      "Requirement already satisfied: idna>=2.8 in ./.venv/lib/python3.12/site-packages (from anyio<5,>=3.5.0->openai==1.66.3->lettucedetect) (3.10)\n",
      "Requirement already satisfied: certifi in ./.venv/lib/python3.12/site-packages (from httpx<1,>=0.23.0->openai==1.66.3->lettucedetect) (2025.7.14)\n",
      "Requirement already satisfied: httpcore==1.* in ./.venv/lib/python3.12/site-packages (from httpx<1,>=0.23.0->openai==1.66.3->lettucedetect) (1.0.9)\n",
      "Requirement already satisfied: h11>=0.16 in ./.venv/lib/python3.12/site-packages (from httpcore==1.*->httpx<1,>=0.23.0->openai==1.66.3->lettucedetect) (0.16.0)\n",
      "Requirement already satisfied: hf-xet<2.0.0,>=1.1.2 in ./.venv/lib/python3.12/site-packages (from huggingface-hub<1.0,>=0.30.0->transformers>=4.48.3->lettucedetect) (1.1.5)\n",
      "Requirement already satisfied: annotated-types>=0.6.0 in ./.venv/lib/python3.12/site-packages (from pydantic<3,>=1.9.0->openai==1.66.3->lettucedetect) (0.7.0)\n",
      "Requirement already satisfied: pydantic-core==2.33.2 in ./.venv/lib/python3.12/site-packages (from pydantic<3,>=1.9.0->openai==1.66.3->lettucedetect) (2.33.2)\n",
      "Requirement already satisfied: typing-inspection>=0.4.0 in ./.venv/lib/python3.12/site-packages (from pydantic<3,>=1.9.0->openai==1.66.3->lettucedetect) (0.4.1)\n",
      "Requirement already satisfied: mpmath<1.4,>=1.1.0 in ./.venv/lib/python3.12/site-packages (from sympy>=1.13.3->torch>=2.6.0->lettucedetect) (1.3.0)\n",
      "Requirement already satisfied: MarkupSafe>=2.0 in ./.venv/lib/python3.12/site-packages (from jinja2->torch>=2.6.0->lettucedetect) (3.0.2)\n",
      "Requirement already satisfied: charset_normalizer<4,>=2 in ./.venv/lib/python3.12/site-packages (from requests->transformers>=4.48.3->lettucedetect) (3.4.2)\n",
      "Requirement already satisfied: urllib3<3,>=1.21.1 in ./.venv/lib/python3.12/site-packages (from requests->transformers>=4.48.3->lettucedetect) (2.5.0)\n",
      "Note: you may need to restart the kernel to use updated packages.\n"
     ]
    }
   ],
   "source": [
    "%pip install lettucedetect"
   ]
  },
  {
   "cell_type": "code",
   "execution_count": 4,
   "id": "4f8ec443",
   "metadata": {},
   "outputs": [],
   "source": [
    "contexts = [\n",
    "    \"France is a country in Europe. The capital of France is Paris. The population of France is 67 million.\",\n",
    "]\n",
    "question = \"What is the capital of France? What is the population of France?\"\n",
    "answer = \"The capital of France is Paris. The population of France is 67 million.\""
   ]
  },
  {
   "cell_type": "code",
   "execution_count": 5,
   "id": "f6c1a40c",
   "metadata": {},
   "outputs": [
    {
     "data": {
      "text/plain": [
       "[]"
      ]
     },
     "execution_count": 5,
     "metadata": {},
     "output_type": "execute_result"
    }
   ],
   "source": [
    "from lettucedetect.models.inference import HallucinationDetector\n",
    "\n",
    "# Transformer-based detector\n",
    "detector = HallucinationDetector(\n",
    "    method=\"transformer\", model_path=\"KRLabsOrg/lettucedect-base-modernbert-en-v1\"\n",
    ")\n",
    "\n",
    "# Then predict the same way\n",
    "predictions = detector.predict(context=contexts, question=question, answer=answer, output_format=\"spans\")\n",
    "predictions"
   ]
  },
  {
   "cell_type": "markdown",
   "id": "951d2898",
   "metadata": {},
   "source": [
    "# 4. What's next\n",
    "\n",
    "Possible ideas for using this framework:\n",
    "\n",
    "- Try to modify the prediction function so it uses a different LLM API (like Azure OpenAI).\n",
    "\n",
    "- Research how to use the detector in combination with a RAG system that uses a vector database (like ChromaDB or FAISS)"
   ]
  },
  {
   "cell_type": "markdown",
   "id": "4772ddc0",
   "metadata": {},
   "source": [
    "# 5. References\n",
    "\n",
    "Paper - [LettuceDetect: A Hallucination Detection Framework for RAG Applications](https://arxiv.org/abs/2502.17125)\n",
    "\n",
    "GitHub repository - [LettuceDetect](https://github.com/KRLabsOrg/LettuceDetect)"
   ]
  }
 ],
 "metadata": {
  "kernelspec": {
   "display_name": ".venv (3.12.3)",
   "language": "python",
   "name": "python3"
  },
  "language_info": {
   "codemirror_mode": {
    "name": "ipython",
    "version": 3
   },
   "file_extension": ".py",
   "mimetype": "text/x-python",
   "name": "python",
   "nbconvert_exporter": "python",
   "pygments_lexer": "ipython3",
   "version": "3.12.3"
  }
 },
 "nbformat": 4,
 "nbformat_minor": 5
}
