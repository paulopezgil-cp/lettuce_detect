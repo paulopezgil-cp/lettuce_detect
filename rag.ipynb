{
 "cells": [
  {
   "cell_type": "markdown",
   "id": "7885d414",
   "metadata": {},
   "source": [
    "# 1. Description of the project\n",
    "\n",
    "In this project, a RAG system is implemented and used in combination with LettuceDetect.\n",
    "\n",
    "# 2. Setup\n",
    "\n",
    "1. **Install these packages:**"
   ]
  },
  {
   "cell_type": "code",
   "execution_count": 54,
   "id": "0477ba76",
   "metadata": {},
   "outputs": [
    {
     "name": "stdout",
     "output_type": "stream",
     "text": [
      "Note: you may need to restart the kernel to use updated packages.\n"
     ]
    }
   ],
   "source": [
    "%pip install -qq langchain langchain-unstructured langchain-chroma langchain-openai unstructured langchain-community unstructured[pdf] dotenv lettucedetect gradio"
   ]
  },
  {
   "cell_type": "markdown",
   "id": "09f4b2de",
   "metadata": {},
   "source": [
    "2. **Import the necessary modules**"
   ]
  },
  {
   "cell_type": "code",
   "execution_count": 55,
   "id": "46796ec0",
   "metadata": {},
   "outputs": [],
   "source": [
    "from langchain.text_splitter import RecursiveCharacterTextSplitter\n",
    "from langchain_unstructured import UnstructuredLoader\n",
    "from langchain_openai import AzureOpenAIEmbeddings\n",
    "from langchain_chroma.vectorstores import Chroma\n",
    "from langchain_community.vectorstores.utils import filter_complex_metadata\n",
    "from langchain_core.documents.base import Document\n",
    "import os\n",
    "from dotenv import load_dotenv, find_dotenv\n",
    "from lettucedetect.models.inference import HallucinationDetector\n",
    "import gradio as gr"
   ]
  },
  {
   "cell_type": "markdown",
   "id": "2af561e9",
   "metadata": {},
   "source": [
    "3. **Deploy an Azure OpenAI LLM resource and embedding resource**\n",
    "\n",
    "    Use the following link: https://ai.azure.com/\n",
    "4. **Save the details to the .env file:**\n",
    "    ```bash\n",
    "    echo AZURE_OPENAI_API_KEY=\\\"your-api-key-here\\\" >> .env\n",
    "    echo AZURE_OPENAI_API_VERSION=\\\"your-version-here\\\" >> .env\n",
    "    echo AZURE_OPENAI_ENDPOINT=\\\"your-endpoint-here\\\" >> .env\n",
    "    echo GPT_MODEL=\\\"your-llm-model-here\\\" >> .env\n",
    "    echo EMBEDDINGS_MODEL_NAME=\\\"your-embeddings-model-here\\\" >> .env\n",
    "    echo EMBEDDINGS_DEPLOYMENT=\\\"your-embeddings-deployment-here\\\" >> .env\n",
    "    ```"
   ]
  },
  {
   "cell_type": "markdown",
   "id": "add108f6",
   "metadata": {},
   "source": [
    "# 3. ChromaDB setup"
   ]
  },
  {
   "cell_type": "markdown",
   "id": "1d2abe90",
   "metadata": {},
   "source": [
    "## 3.1 The text splitter\n",
    "\n",
    "The text splitter divides documents into manageable chunks to optimize downstream processing and retrieval in RAG workflows."
   ]
  },
  {
   "cell_type": "code",
   "execution_count": 56,
   "id": "5f04b464",
   "metadata": {},
   "outputs": [],
   "source": [
    "\n",
    "def text_splitter(data, debug = False):\n",
    "    text_splitter = RecursiveCharacterTextSplitter(\n",
    "        chunk_size=1000,\n",
    "        chunk_overlap=50,\n",
    "        length_function=len,\n",
    "    )\n",
    "    if debug:\n",
    "        print(f\"Splitting {len(data)} documents into chunks...\")\n",
    "    chunks = text_splitter.split_documents(data)\n",
    "    return chunks"
   ]
  },
  {
   "cell_type": "markdown",
   "id": "7c8f83fd",
   "metadata": {},
   "source": [
    "## 3.2 The document loader\n",
    "\n",
    "The document loader reads and parses files from the corpus directory into structured document objects for downstream processing."
   ]
  },
  {
   "cell_type": "code",
   "execution_count": 57,
   "id": "235c37c2",
   "metadata": {},
   "outputs": [],
   "source": [
    "def load_documents(corpus_dir = \"./corpus/\", debug = False):\n",
    "    # Load all documents from the corpus directory\n",
    "    loaded_docs = []\n",
    "    if debug:\n",
    "        print(f\"Loading documents from {corpus_dir}...\")\n",
    "    for file in os.listdir(corpus_dir):\n",
    "        if debug:\n",
    "            print(f\"Loading {file}...\")\n",
    "        loader = UnstructuredLoader(corpus_dir + file, mode = 'single')\n",
    "        loaded_docs.extend(loader.load())\n",
    "\n",
    "    # Filter complex metadata from loaded documents\n",
    "    if debug:\n",
    "        print(\"Filtering complex metadata...\")\n",
    "    filtered_docs = filter_complex_metadata(loaded_docs)\n",
    "\n",
    "    return filtered_docs"
   ]
  },
  {
   "cell_type": "markdown",
   "id": "f8207d2a",
   "metadata": {},
   "source": [
    "## 3.3 The embedding client\n",
    "\n",
    "The embedding client initializes and manages Azure OpenAI embeddings for converting text into vector representations."
   ]
  },
  {
   "cell_type": "code",
   "execution_count": 58,
   "id": "821f66fb",
   "metadata": {},
   "outputs": [],
   "source": [
    "def embeddings(debug = False):\n",
    "    load_dotenv(find_dotenv())\n",
    "    model = os.getenv('EMBEDDINGS_MODEL_NAME')\n",
    "    api_key = os.getenv('AZURE_OPENAI_API_KEY')\n",
    "    api_version = os.getenv(\"AZURE_OPENAI_API_VERSION\")\n",
    "    azure_endpoint = os.getenv(\"AZURE_OPENAI_ENDPOINT\")\n",
    "    azure_deployment = os.getenv(\"EMBEDDINGS_DEPLOYMENT\")\n",
    "\n",
    "    # Validate required environment variables\n",
    "    if not all([model, api_key, api_version, azure_endpoint, azure_deployment]):\n",
    "        raise ValueError(\n",
    "            \"\"\"\n",
    "            Missing environment variables.\n",
    "            Please load all the required environment variables in the .env file:\n",
    "            EMBEDDINGS_MODEL_NAME, AZURE_OPENAI_API_KEY, AZURE_OPENAI_API_VERSION,\n",
    "            AZURE_OPENAI_ENDPOINT, EMBEDDINGS_DEPLOYMENT\n",
    "            \"\"\"\n",
    "        )\n",
    "    \n",
    "    # Initialize and return an Azure OpenAI embeddings client\n",
    "    if debug:\n",
    "        print(f\"Initializing embeddings with model: {model}, deployment: {azure_deployment}\")\n",
    "    embeddings = AzureOpenAIEmbeddings(\n",
    "        model = model,\n",
    "        api_key = api_key,\n",
    "        api_version = api_version,\n",
    "        azure_endpoint = azure_endpoint,\n",
    "        azure_deployment = azure_deployment,\n",
    "    )\n",
    "    return embeddings"
   ]
  },
  {
   "cell_type": "markdown",
   "id": "09efc443",
   "metadata": {},
   "source": [
    "## 3.4 The vector database\n",
    "\n",
    "The vector database stores document embeddings for fast similarity search and retrieval. Built with Chroma, it enables efficient access to relevant document chunks in RAG workflows."
   ]
  },
  {
   "cell_type": "code",
   "execution_count": 59,
   "id": "87c2d5ef",
   "metadata": {},
   "outputs": [],
   "source": [
    "def create_database(document_list, debug = False):\n",
    "    # Initialize the database from a given corpus of documents\n",
    "    embedding_model = embeddings(debug = debug)\n",
    "\n",
    "    # Create and return a Chroma vector store from the documents\n",
    "    if debug:\n",
    "        print(f\"Creating vector database with {len(document_list)} documents...\")\n",
    "    return Chroma.from_documents(documents = document_list,\n",
    "                                            embedding = embedding_model)"
   ]
  },
  {
   "cell_type": "markdown",
   "id": "9b860d2e",
   "metadata": {},
   "source": [
    "## 3.5 The retriever\n",
    "\n",
    "The retriever fetches relevant document chunks from the vector database using embeddings to match user queries with semantically similar content for efficient retrieval in RAG workflows. It is not based on LLMs, but purely on a similarity search algorithm."
   ]
  },
  {
   "cell_type": "code",
   "execution_count": 60,
   "id": "01c3e84d",
   "metadata": {},
   "outputs": [],
   "source": [
    "def retriever(corpus_dir = \"./corpus/\", debug = False):\n",
    "    docs = load_documents(corpus_dir, debug = debug)\n",
    "    chunks = text_splitter(docs, debug = debug)\n",
    "    vectordb = create_database(chunks, debug = debug)\n",
    "    if debug:\n",
    "        print(\"Creating retriever from vector database...\")\n",
    "    retriever = vectordb.as_retriever()\n",
    "    return retriever"
   ]
  },
  {
   "cell_type": "markdown",
   "id": "96237913",
   "metadata": {},
   "source": [
    "## 3.6 Small test"
   ]
  },
  {
   "cell_type": "code",
   "execution_count": 61,
   "id": "d5992ba8",
   "metadata": {},
   "outputs": [
    {
     "name": "stdout",
     "output_type": "stream",
     "text": [
      "Loading documents from ./example_inputs/...\n",
      "Loading ford_f150_lightning_2024.txt...\n",
      "Loading audi_a4_2024.txt...\n",
      "Loading mercedes_cclass_2024.txt...\n",
      "Loading tesla_model_s_2024.txt...\n",
      "Loading toyota_camry_2024.txt...\n",
      "Loading bmw_3series_2024.txt...\n",
      "Loading jeep_wrangler_2024.txt...\n",
      "Loading porsche_911_carrera_2024.txt...\n",
      "Loading subaru_outback_2024.txt...\n",
      "Loading honda_accord_2024.txt...\n",
      "Filtering complex metadata...\n",
      "Splitting 271 documents into chunks...\n",
      "Initializing embeddings with model: text-embedding-3-small, deployment: text-embedding-3-small\n",
      "Creating vector database with 271 documents...\n"
     ]
    },
    {
     "name": "stderr",
     "output_type": "stream",
     "text": [
      "INFO: HTTP Request: POST https://paulo-mcw0r95x-eastus2.cognitiveservices.azure.com/openai/deployments/text-embedding-3-small/embeddings?api-version=2024-12-01-preview \"HTTP/1.1 200 OK\"\n"
     ]
    },
    {
     "name": "stdout",
     "output_type": "stream",
     "text": [
      "Creating retriever from vector database...\n"
     ]
    }
   ],
   "source": [
    "test_retriever = retriever(corpus_dir = \"./example_inputs/\", debug = True)"
   ]
  },
  {
   "cell_type": "code",
   "execution_count": 62,
   "id": "da88a2f0",
   "metadata": {},
   "outputs": [
    {
     "name": "stderr",
     "output_type": "stream",
     "text": [
      "INFO: HTTP Request: POST https://paulo-mcw0r95x-eastus2.cognitiveservices.azure.com/openai/deployments/text-embedding-3-small/embeddings?api-version=2024-12-01-preview \"HTTP/1.1 200 OK\"\n"
     ]
    },
    {
     "data": {
      "text/plain": [
       "[Document(id='0ffcfc39-1795-4eab-afcc-b61ac8917e5c', metadata={'source': './example_inputs/honda_accord_2024.txt', 'filetype': 'text/plain', 'category': 'NarrativeText', 'filename': 'honda_accord_2024.txt', 'element_id': '56c4f36868129724874376f4e43bb081', 'file_directory': './example_inputs', 'last_modified': '2025-07-24T15:17:12', 'parent_id': '0749961253165664e3d63731c5667eee'}, page_content='For those requiring additional power, the available 2.0-liter turbocharged four-cylinder engine generates an impressive 252 horsepower and 273 lb-ft of torque. This engine features a sophisticated cooling system and advanced turbocharger technology that delivers smooth, linear power delivery throughout the rev range.'),\n",
       " Document(id='9ceaf92f-f070-4cdb-8867-981a361328e7', metadata={'parent_id': '0749961253165664e3d63731c5667eee', 'filetype': 'text/plain', 'file_directory': './example_inputs', 'element_id': '56c4f36868129724874376f4e43bb081', 'last_modified': '2025-07-24T15:17:12', 'category': 'NarrativeText', 'filename': 'honda_accord_2024.txt', 'source': './example_inputs/honda_accord_2024.txt'}, page_content='For those requiring additional power, the available 2.0-liter turbocharged four-cylinder engine generates an impressive 252 horsepower and 273 lb-ft of torque. This engine features a sophisticated cooling system and advanced turbocharger technology that delivers smooth, linear power delivery throughout the rev range.'),\n",
       " Document(id='840ba4d8-803d-48ca-92dd-6dc257d91c6b', metadata={'file_directory': './example_inputs', 'filename': 'honda_accord_2024.txt', 'element_id': '56c4f36868129724874376f4e43bb081', 'last_modified': '2025-07-24T15:17:12', 'source': './example_inputs/honda_accord_2024.txt', 'filetype': 'text/plain', 'category': 'NarrativeText', 'parent_id': '0749961253165664e3d63731c5667eee'}, page_content='For those requiring additional power, the available 2.0-liter turbocharged four-cylinder engine generates an impressive 252 horsepower and 273 lb-ft of torque. This engine features a sophisticated cooling system and advanced turbocharger technology that delivers smooth, linear power delivery throughout the rev range.'),\n",
       " Document(id='c0982a1d-205a-4e1a-bb97-1d9496ea615e', metadata={'category': 'NarrativeText', 'file_directory': './example_inputs', 'last_modified': '2025-07-24T15:17:12', 'source': './example_inputs/honda_accord_2024.txt', 'filename': 'honda_accord_2024.txt', 'filetype': 'text/plain', 'element_id': '56c4f36868129724874376f4e43bb081', 'parent_id': '0749961253165664e3d63731c5667eee'}, page_content='For those requiring additional power, the available 2.0-liter turbocharged four-cylinder engine generates an impressive 252 horsepower and 273 lb-ft of torque. This engine features a sophisticated cooling system and advanced turbocharger technology that delivers smooth, linear power delivery throughout the rev range.')]"
      ]
     },
     "execution_count": 62,
     "metadata": {},
     "output_type": "execute_result"
    }
   ],
   "source": [
    "docs = test_retriever.get_relevant_documents(\"Which car features a turbocharged 3.0-liter inline-six engine\")\n",
    "docs"
   ]
  },
  {
   "cell_type": "markdown",
   "id": "ce2c90de",
   "metadata": {},
   "source": [
    "# 4. The Hallucination detector"
   ]
  },
  {
   "cell_type": "code",
   "execution_count": 63,
   "id": "aa8ac4d5",
   "metadata": {},
   "outputs": [],
   "source": [
    "def detect_hallucinations(context, question, answer, debug = False):\n",
    "    if debug:\n",
    "        print(f\"Predicting hallucination for question: {question}\")\n",
    "\n",
    "    # Initialize the hallucination detector with a transformer model\n",
    "    detector = HallucinationDetector(\n",
    "        method=\"transformer\",\n",
    "        model_path=\"KRLabsOrg/lettucedect-base-modernbert-en-v1\"\n",
    "    )\n",
    "\n",
    "    # Predict hallucination using the detector\n",
    "    result = detector.predict(context = context,\n",
    "                              question = question,\n",
    "                              answer = answer,\n",
    "                              output_format = \"spans\")\n",
    "    return result"
   ]
  },
  {
   "cell_type": "markdown",
   "id": "485658c4",
   "metadata": {},
   "source": [
    "# 5. The interface"
   ]
  },
  {
   "cell_type": "code",
   "execution_count": 64,
   "id": "00515a84",
   "metadata": {},
   "outputs": [],
   "source": [
    "def gradio_backend(uploaded_files, question, answer, debug = False):\n",
    "    # Create a new corpus directory\n",
    "    corpus_dir = \"./corpus/\"\n",
    "    if os.path.exists(corpus_dir):\n",
    "        for f in os.listdir(corpus_dir):\n",
    "            os.remove(os.path.join(corpus_dir, f))\n",
    "    os.makedirs(corpus_dir, exist_ok=True)\n",
    "\n",
    "    # Save the uploaded files to corpus directory\n",
    "    for file in uploaded_files:\n",
    "        filename = os.path.basename(file.name)\n",
    "        src = open(file.name, \"rb\")\n",
    "        dst = open(os.path.join(corpus_dir, filename), \"wb\")\n",
    "        dst.write(src.read())\n",
    "\n",
    "    # Should take a list of strings as context\n",
    "    if debug:\n",
    "        print(f\"Detecting hallucination for question: {question} with answer: {answer}\")\n",
    "    \n",
    "    # Initialize the retriever with the corpus directory\n",
    "    doc_retriever = retriever(corpus_dir = corpus_dir, debug = debug)\n",
    "\n",
    "    # Retrieve relevant documents from the corpus\n",
    "    if debug:\n",
    "        print(f\"Retrieving relevant documents for question: {question}\")\n",
    "    retrieved_docs_question = doc_retriever.get_relevant_documents(question)\n",
    "    retrieved_docs_answer = doc_retriever.get_relevant_documents(answer)\n",
    "    retrieved_docs = retrieved_docs_question + retrieved_docs_answer\n",
    "\n",
    "    # Predict hallucination using the predict_hallucination function\n",
    "    detected_hallucination = detect_hallucinations(\n",
    "        context = retrieved_docs,\n",
    "        question = question,\n",
    "        answer = answer,\n",
    "        debug = debug\n",
    "    )\n",
    "\n",
    "    # Check if an hallucination was detected\n",
    "    if detected_hallucination:\n",
    "        hallucination_was_found = \"Hallucinations detected\"\n",
    "    else:\n",
    "        hallucination_was_found = \"No hallucinations found\"\n",
    "\n",
    "    # Create an output string based on the result\n",
    "    hallucination_str = \"\"\n",
    "    for hallucination in detected_hallucination:\n",
    "        hallucination_str += f\"\"\"\n",
    "           '{hallucination['text']}' - Confidence = {hallucination['confidence']}\\n\n",
    "        \"\"\"\n",
    "\n",
    "    return hallucination_was_found, hallucination_str\n"
   ]
  },
  {
   "cell_type": "code",
   "execution_count": null,
   "id": "69fcc583",
   "metadata": {},
   "outputs": [
    {
     "name": "stderr",
     "output_type": "stream",
     "text": [
      "/home/pau/python/lettuce_detect/.venv/lib/python3.12/site-packages/gradio/interface.py:425: UserWarning: The `allow_flagging` parameter in `Interface` is deprecated. Use `flagging_mode` instead.\n",
      "  warnings.warn(\n",
      "INFO: HTTP Request: GET http://127.0.0.1:7861/gradio_api/startup-events \"HTTP/1.1 200 OK\"\n",
      "INFO: HTTP Request: HEAD http://127.0.0.1:7861/ \"HTTP/1.1 200 OK\"\n"
     ]
    },
    {
     "name": "stdout",
     "output_type": "stream",
     "text": [
      "* Running on local URL:  http://127.0.0.1:7861\n",
      "* To create a public link, set `share=True` in `launch()`.\n"
     ]
    },
    {
     "data": {
      "text/html": [
       "<div><iframe src=\"http://127.0.0.1:7861/\" width=\"100%\" height=\"500\" allow=\"autoplay; camera; microphone; clipboard-read; clipboard-write;\" frameborder=\"0\" allowfullscreen></iframe></div>"
      ],
      "text/plain": [
       "<IPython.core.display.HTML object>"
      ]
     },
     "metadata": {},
     "output_type": "display_data"
    },
    {
     "data": {
      "text/plain": []
     },
     "execution_count": 65,
     "metadata": {},
     "output_type": "execute_result"
    },
    {
     "name": "stderr",
     "output_type": "stream",
     "text": [
      "INFO: HTTP Request: GET https://api.gradio.app/pkg-version \"HTTP/1.1 200 OK\"\n"
     ]
    }
   ],
   "source": [
    "rag_application = gr.Interface(\n",
    "    fn = gradio_backend,\n",
    "    allow_flagging = \"never\",\n",
    "    inputs = [\n",
    "        # Drag and drop files, returns a list of file paths\n",
    "        gr.File(label = \"Upload PDF/txt files\",\n",
    "                file_count = 'multiple',\n",
    "                file_types = ['.pdf', '.txt']),\n",
    "        gr.Textbox(label = \"Prompt\",\n",
    "                   placeholder = \"Type your question here...\"),\n",
    "        gr.Textbox(label = \"Answer\",\n",
    "                   lines = 3,\n",
    "                   placeholder = \"type the answer here...\"),\n",
    "    ],\n",
    "    outputs = [\n",
    "        gr.Textbox(label = \"Status\"),\n",
    "        gr.Textbox(label = \"Detected Hallucinations\",\n",
    "                   lines = 5)\n",
    "    ],\n",
    "    title = \"RAG system with Hallucination Detection\",\n",
    "    description = \"\"\"\n",
    "        Upload a collection of pdf or txt files provide a prompt and a response.\n",
    "        The backend will try to detect hallucinations in the response based on the provided context.\n",
    "    \"\"\"\n",
    ")\n",
    "\n",
    "rag_application.launch()"
   ]
  },
  {
   "cell_type": "markdown",
   "id": "3817f49c",
   "metadata": {},
   "source": [
    "# 6. Tests\n",
    "\n",
    "After completing the setup, several tests were carried in order to ensure the optimal performance of the system. Each one reflects a state of the project, and justifies the adjustements that were made in the code in order to improve the performance."
   ]
  },
  {
   "cell_type": "markdown",
   "id": "26972858",
   "metadata": {},
   "source": [
    "### Test 1\n",
    "\n",
    "This test was done before the answer was included in the input for retrieving relevant chunks of information. Thus, only the question was useful for finding the relevant chunks of information.\n",
    "\n",
    "**Question:** Which car model features a 12.3-inch high-resolution digital instrument display that replaces traditional analog gauges?\n",
    "\n",
    "**Answer (correct):** The Audi A4 2024 features a 12.3-inch high-resolution digital instrument display that replaces traditional analog gauges.\n",
    "\n",
    "**Status:** Hallucinations detected\n",
    "\n",
    "**Detected hallucinations:** 'The Audi A4 2024' - Confidence = 0.9719486832618713\n",
    "\n",
    "We retrieve the relevant documents for the query in order to understand this result:"
   ]
  },
  {
   "cell_type": "code",
   "execution_count": 66,
   "id": "56d2eb88",
   "metadata": {},
   "outputs": [
    {
     "name": "stdout",
     "output_type": "stream",
     "text": [
      "Loading documents from ./example_inputs/...\n",
      "Loading ford_f150_lightning_2024.txt...\n",
      "Loading audi_a4_2024.txt...\n",
      "Loading mercedes_cclass_2024.txt...\n",
      "Loading tesla_model_s_2024.txt...\n",
      "Loading toyota_camry_2024.txt...\n",
      "Loading bmw_3series_2024.txt...\n",
      "Loading jeep_wrangler_2024.txt...\n",
      "Loading porsche_911_carrera_2024.txt...\n",
      "Loading subaru_outback_2024.txt...\n",
      "Loading honda_accord_2024.txt...\n",
      "Filtering complex metadata...\n",
      "Splitting 271 documents into chunks...\n",
      "Initializing embeddings with model: text-embedding-3-small, deployment: text-embedding-3-small\n",
      "Creating vector database with 271 documents...\n"
     ]
    },
    {
     "name": "stderr",
     "output_type": "stream",
     "text": [
      "INFO: HTTP Request: POST https://paulo-mcw0r95x-eastus2.cognitiveservices.azure.com/openai/deployments/text-embedding-3-small/embeddings?api-version=2024-12-01-preview \"HTTP/1.1 200 OK\"\n"
     ]
    },
    {
     "name": "stdout",
     "output_type": "stream",
     "text": [
      "Creating retriever from vector database...\n"
     ]
    },
    {
     "name": "stderr",
     "output_type": "stream",
     "text": [
      "INFO: HTTP Request: POST https://paulo-mcw0r95x-eastus2.cognitiveservices.azure.com/openai/deployments/text-embedding-3-small/embeddings?api-version=2024-12-01-preview \"HTTP/1.1 200 OK\"\n"
     ]
    },
    {
     "data": {
      "text/plain": [
       "[Document(id='13defcb2-d1be-4552-a09e-334c08fb4e8d', metadata={'filename': 'bmw_3series_2024.txt', 'parent_id': '2259b4a98394c3141eb5a2b1cfd2d020', 'element_id': '13ef0961df231caad8d9f14677373220', 'source': './example_inputs/bmw_3series_2024.txt', 'category': 'NarrativeText', 'last_modified': '2025-07-24T15:17:12', 'file_directory': './example_inputs', 'filetype': 'text/plain'}, page_content='The available 12.3-inch digital instrument cluster provides customizable displays for vehicle information, navigation, and performance data. The head-up display projects critical information directly onto the windshield, allowing drivers to maintain focus on the road ahead.'),\n",
       " Document(id='fd9b56fd-be53-44ba-ad2e-2c7afc8f70e1', metadata={'source': './example_inputs/bmw_3series_2024.txt', 'last_modified': '2025-07-24T15:17:12', 'filetype': 'text/plain', 'element_id': '13ef0961df231caad8d9f14677373220', 'category': 'NarrativeText', 'file_directory': './example_inputs', 'filename': 'bmw_3series_2024.txt', 'parent_id': '2259b4a98394c3141eb5a2b1cfd2d020'}, page_content='The available 12.3-inch digital instrument cluster provides customizable displays for vehicle information, navigation, and performance data. The head-up display projects critical information directly onto the windshield, allowing drivers to maintain focus on the road ahead.'),\n",
       " Document(id='1a605777-e6d2-4984-b072-1de632082212', metadata={'category': 'NarrativeText', 'filename': 'bmw_3series_2024.txt', 'source': './example_inputs/bmw_3series_2024.txt', 'file_directory': './example_inputs', 'element_id': '13ef0961df231caad8d9f14677373220', 'parent_id': '2259b4a98394c3141eb5a2b1cfd2d020', 'filetype': 'text/plain', 'last_modified': '2025-07-24T15:17:12'}, page_content='The available 12.3-inch digital instrument cluster provides customizable displays for vehicle information, navigation, and performance data. The head-up display projects critical information directly onto the windshield, allowing drivers to maintain focus on the road ahead.'),\n",
       " Document(id='9ade03dd-9f42-498b-be51-ee29d1f0fae5', metadata={'category': 'NarrativeText', 'element_id': '13ef0961df231caad8d9f14677373220', 'source': './example_inputs/bmw_3series_2024.txt', 'filetype': 'text/plain', 'last_modified': '2025-07-24T15:17:12', 'filename': 'bmw_3series_2024.txt', 'parent_id': '2259b4a98394c3141eb5a2b1cfd2d020', 'file_directory': './example_inputs'}, page_content='The available 12.3-inch digital instrument cluster provides customizable displays for vehicle information, navigation, and performance data. The head-up display projects critical information directly onto the windshield, allowing drivers to maintain focus on the road ahead.')]"
      ]
     },
     "execution_count": 66,
     "metadata": {},
     "output_type": "execute_result"
    }
   ],
   "source": [
    "test_retriever = retriever(corpus_dir = \"./example_inputs/\", debug = True)\n",
    "docs = test_retriever.get_relevant_documents(\"Which car model features a 12.3-inch high-resolution digital instrument display that replaces traditional analog gauges?\")\n",
    "docs"
   ]
  },
  {
   "cell_type": "markdown",
   "id": "7f4f7abd",
   "metadata": {},
   "source": [
    "**Conclusion**\n",
    "\n",
    "LettuceDetect is a framework that detects hallucinations based on the abscence of data given a certain context that is assumed to be true, rather than on the actual validity of the evaluated answer.\n",
    "\n",
    "Thus, when implemented in combination with a RAG system it should be used as a pre-processing step in order to point out possible conflicts with a given corpus of data, without assuming them to be necessarly true. In the previous example, the name of the car is correct. However, it is not shown in the relevant chunks (as these are about the requested information about the digital instrument display) and therefore is pointed out as an hallucination.\n",
    "\n",
    "Later on, these conflicts can be evaluated by LLMs to determine their factual accuracy and provide an enhanced response."
   ]
  },
  {
   "cell_type": "markdown",
   "id": "eb6a4637",
   "metadata": {},
   "source": [
    "## Test 2\n",
    "\n",
    "The same test as before but now including the answer in the similarity search.\n",
    "\n",
    "**Question:** Which car model features a 12.3-inch high-resolution digital instrument display that replaces traditional analog gauges?\n",
    "\n",
    "**Answer (correct):** The Audi A4 2024 features a 12.3-inch high-resolution digital instrument display that replaces traditional analog gauges.\n",
    "\n",
    "**Status:** No hallucinations detected\n",
    "\n",
    "**Detected hallucinations:**\n",
    "\n",
    "We retrieve the relevant documents for the question and provided answer together. In this case, the relevant information relative to the \"Audi A4 2024\" model is included in the retrieved chunks of information."
   ]
  },
  {
   "cell_type": "code",
   "execution_count": 67,
   "id": "6d909b78",
   "metadata": {},
   "outputs": [
    {
     "name": "stdout",
     "output_type": "stream",
     "text": [
      "Loading documents from ./example_inputs/...\n",
      "Loading ford_f150_lightning_2024.txt...\n",
      "Loading audi_a4_2024.txt...\n",
      "Loading mercedes_cclass_2024.txt...\n",
      "Loading tesla_model_s_2024.txt...\n",
      "Loading toyota_camry_2024.txt...\n",
      "Loading bmw_3series_2024.txt...\n",
      "Loading jeep_wrangler_2024.txt...\n",
      "Loading porsche_911_carrera_2024.txt...\n",
      "Loading subaru_outback_2024.txt...\n",
      "Loading honda_accord_2024.txt...\n",
      "Filtering complex metadata...\n",
      "Splitting 271 documents into chunks...\n",
      "Initializing embeddings with model: text-embedding-3-small, deployment: text-embedding-3-small\n",
      "Creating vector database with 271 documents...\n"
     ]
    },
    {
     "name": "stderr",
     "output_type": "stream",
     "text": [
      "INFO: HTTP Request: POST https://paulo-mcw0r95x-eastus2.cognitiveservices.azure.com/openai/deployments/text-embedding-3-small/embeddings?api-version=2024-12-01-preview \"HTTP/1.1 200 OK\"\n",
      "INFO: HTTP Request: POST https://paulo-mcw0r95x-eastus2.cognitiveservices.azure.com/openai/deployments/text-embedding-3-small/embeddings?api-version=2024-12-01-preview \"HTTP/1.1 200 OK\"\n"
     ]
    },
    {
     "name": "stdout",
     "output_type": "stream",
     "text": [
      "Creating retriever from vector database...\n"
     ]
    },
    {
     "data": {
      "text/plain": [
       "[Document(id='b06c2a31-ca0c-43e4-877e-3f02cfbdd792', metadata={'file_directory': './example_inputs', 'parent_id': '97a4fe3f7cf75b893b0c058cd61d887a', 'category': 'NarrativeText', 'source': './example_inputs/audi_a4_2024.txt', 'element_id': 'b373aa446f6fd7009219d2ebf7ba0fe2', 'last_modified': '2025-07-24T15:17:12', 'filename': 'audi_a4_2024.txt', 'filetype': 'text/plain'}, page_content=\"Virtual Cockpit Technology The 2024 A4 features Audi's revolutionary Virtual Cockpit, a 12.3-inch high-resolution digital instrument display that replaces traditional analog gauges. This advanced system provides customizable layouts for vehicle information, navigation maps, entertainment controls, and performance data. Drivers can switch between Classic view that mimics traditional gauges and Infotainment view that prioritizes navigation and media information.\"),\n",
       " Document(id='608921cd-6d27-425a-b141-e1db919f82b6', metadata={'filetype': 'text/plain', 'element_id': 'b373aa446f6fd7009219d2ebf7ba0fe2', 'parent_id': '97a4fe3f7cf75b893b0c058cd61d887a', 'filename': 'audi_a4_2024.txt', 'source': './example_inputs/audi_a4_2024.txt', 'file_directory': './example_inputs', 'last_modified': '2025-07-24T15:17:12', 'category': 'NarrativeText'}, page_content=\"Virtual Cockpit Technology The 2024 A4 features Audi's revolutionary Virtual Cockpit, a 12.3-inch high-resolution digital instrument display that replaces traditional analog gauges. This advanced system provides customizable layouts for vehicle information, navigation maps, entertainment controls, and performance data. Drivers can switch between Classic view that mimics traditional gauges and Infotainment view that prioritizes navigation and media information.\"),\n",
       " Document(id='70f52224-21d4-496d-aa36-77a73af29b87', metadata={'last_modified': '2025-07-24T15:17:12', 'category': 'NarrativeText', 'filename': 'audi_a4_2024.txt', 'element_id': 'b373aa446f6fd7009219d2ebf7ba0fe2', 'file_directory': './example_inputs', 'source': './example_inputs/audi_a4_2024.txt', 'parent_id': '97a4fe3f7cf75b893b0c058cd61d887a', 'filetype': 'text/plain'}, page_content=\"Virtual Cockpit Technology The 2024 A4 features Audi's revolutionary Virtual Cockpit, a 12.3-inch high-resolution digital instrument display that replaces traditional analog gauges. This advanced system provides customizable layouts for vehicle information, navigation maps, entertainment controls, and performance data. Drivers can switch between Classic view that mimics traditional gauges and Infotainment view that prioritizes navigation and media information.\"),\n",
       " Document(id='fc01cefa-f89d-456d-9194-901bf5a40856', metadata={'file_directory': './example_inputs', 'source': './example_inputs/audi_a4_2024.txt', 'filetype': 'text/plain', 'parent_id': '97a4fe3f7cf75b893b0c058cd61d887a', 'last_modified': '2025-07-24T15:17:12', 'filename': 'audi_a4_2024.txt', 'element_id': 'b373aa446f6fd7009219d2ebf7ba0fe2', 'category': 'NarrativeText'}, page_content=\"Virtual Cockpit Technology The 2024 A4 features Audi's revolutionary Virtual Cockpit, a 12.3-inch high-resolution digital instrument display that replaces traditional analog gauges. This advanced system provides customizable layouts for vehicle information, navigation maps, entertainment controls, and performance data. Drivers can switch between Classic view that mimics traditional gauges and Infotainment view that prioritizes navigation and media information.\")]"
      ]
     },
     "execution_count": 67,
     "metadata": {},
     "output_type": "execute_result"
    }
   ],
   "source": [
    "test_retriever = retriever(corpus_dir = \"./example_inputs/\", debug = True)\n",
    "docs = test_retriever.get_relevant_documents(\"Which car model features a 12.3-inch high-resolution digital instrument display that replaces traditional analog gauges?\"\n",
    "                                             +\n",
    "                                             \"The Audi 2024 features a 12.3-inch high-resolution digital instrument display that replaces traditional analog gauges.\"\n",
    ")\n",
    "docs"
   ]
  },
  {
   "cell_type": "markdown",
   "id": "08a6a439",
   "metadata": {},
   "source": [
    "In the following code block, we join the retrievals for the question and answer separately in order to provide a greater context to the system."
   ]
  },
  {
   "cell_type": "code",
   "execution_count": 68,
   "id": "a355369c",
   "metadata": {},
   "outputs": [
    {
     "name": "stdout",
     "output_type": "stream",
     "text": [
      "Loading documents from ./example_inputs/...\n",
      "Loading ford_f150_lightning_2024.txt...\n"
     ]
    },
    {
     "name": "stdout",
     "output_type": "stream",
     "text": [
      "Loading audi_a4_2024.txt...\n",
      "Loading mercedes_cclass_2024.txt...\n",
      "Loading tesla_model_s_2024.txt...\n",
      "Loading toyota_camry_2024.txt...\n",
      "Loading bmw_3series_2024.txt...\n",
      "Loading jeep_wrangler_2024.txt...\n",
      "Loading porsche_911_carrera_2024.txt...\n",
      "Loading subaru_outback_2024.txt...\n",
      "Loading honda_accord_2024.txt...\n",
      "Filtering complex metadata...\n",
      "Splitting 271 documents into chunks...\n",
      "Initializing embeddings with model: text-embedding-3-small, deployment: text-embedding-3-small\n",
      "Creating vector database with 271 documents...\n"
     ]
    },
    {
     "name": "stderr",
     "output_type": "stream",
     "text": [
      "INFO: HTTP Request: POST https://paulo-mcw0r95x-eastus2.cognitiveservices.azure.com/openai/deployments/text-embedding-3-small/embeddings?api-version=2024-12-01-preview \"HTTP/1.1 200 OK\"\n",
      "INFO: HTTP Request: POST https://paulo-mcw0r95x-eastus2.cognitiveservices.azure.com/openai/deployments/text-embedding-3-small/embeddings?api-version=2024-12-01-preview \"HTTP/1.1 200 OK\"\n"
     ]
    },
    {
     "name": "stdout",
     "output_type": "stream",
     "text": [
      "Creating retriever from vector database...\n"
     ]
    },
    {
     "name": "stderr",
     "output_type": "stream",
     "text": [
      "INFO: HTTP Request: POST https://paulo-mcw0r95x-eastus2.cognitiveservices.azure.com/openai/deployments/text-embedding-3-small/embeddings?api-version=2024-12-01-preview \"HTTP/1.1 200 OK\"\n"
     ]
    },
    {
     "data": {
      "text/plain": [
       "[Document(id='eff043e4-a59f-41fe-8476-69a58853fcee', metadata={'parent_id': '2259b4a98394c3141eb5a2b1cfd2d020', 'filename': 'bmw_3series_2024.txt', 'filetype': 'text/plain', 'file_directory': './example_inputs', 'source': './example_inputs/bmw_3series_2024.txt', 'category': 'NarrativeText', 'element_id': '13ef0961df231caad8d9f14677373220', 'last_modified': '2025-07-24T15:17:12'}, page_content='The available 12.3-inch digital instrument cluster provides customizable displays for vehicle information, navigation, and performance data. The head-up display projects critical information directly onto the windshield, allowing drivers to maintain focus on the road ahead.'),\n",
       " Document(id='fd9b56fd-be53-44ba-ad2e-2c7afc8f70e1', metadata={'filetype': 'text/plain', 'source': './example_inputs/bmw_3series_2024.txt', 'parent_id': '2259b4a98394c3141eb5a2b1cfd2d020', 'file_directory': './example_inputs', 'last_modified': '2025-07-24T15:17:12', 'category': 'NarrativeText', 'element_id': '13ef0961df231caad8d9f14677373220', 'filename': 'bmw_3series_2024.txt'}, page_content='The available 12.3-inch digital instrument cluster provides customizable displays for vehicle information, navigation, and performance data. The head-up display projects critical information directly onto the windshield, allowing drivers to maintain focus on the road ahead.'),\n",
       " Document(id='83ceabe4-23bb-4ce4-a556-b7edb7b3c850', metadata={'filetype': 'text/plain', 'parent_id': '2259b4a98394c3141eb5a2b1cfd2d020', 'filename': 'bmw_3series_2024.txt', 'last_modified': '2025-07-24T15:17:12', 'element_id': '13ef0961df231caad8d9f14677373220', 'file_directory': './example_inputs', 'source': './example_inputs/bmw_3series_2024.txt', 'category': 'NarrativeText'}, page_content='The available 12.3-inch digital instrument cluster provides customizable displays for vehicle information, navigation, and performance data. The head-up display projects critical information directly onto the windshield, allowing drivers to maintain focus on the road ahead.'),\n",
       " Document(id='b06da3c7-6f87-448a-a90e-e13c17653345', metadata={'source': './example_inputs/bmw_3series_2024.txt', 'category': 'NarrativeText', 'parent_id': '2259b4a98394c3141eb5a2b1cfd2d020', 'filename': 'bmw_3series_2024.txt', 'file_directory': './example_inputs', 'filetype': 'text/plain', 'last_modified': '2025-07-24T15:17:12', 'element_id': '13ef0961df231caad8d9f14677373220'}, page_content='The available 12.3-inch digital instrument cluster provides customizable displays for vehicle information, navigation, and performance data. The head-up display projects critical information directly onto the windshield, allowing drivers to maintain focus on the road ahead.'),\n",
       " Document(id='61d1983a-ea80-499b-92da-fb7cb8e5568c', metadata={'filename': 'audi_a4_2024.txt', 'category': 'NarrativeText', 'source': './example_inputs/audi_a4_2024.txt', 'element_id': 'b373aa446f6fd7009219d2ebf7ba0fe2', 'parent_id': '97a4fe3f7cf75b893b0c058cd61d887a', 'file_directory': './example_inputs', 'last_modified': '2025-07-24T15:17:12', 'filetype': 'text/plain'}, page_content=\"Virtual Cockpit Technology The 2024 A4 features Audi's revolutionary Virtual Cockpit, a 12.3-inch high-resolution digital instrument display that replaces traditional analog gauges. This advanced system provides customizable layouts for vehicle information, navigation maps, entertainment controls, and performance data. Drivers can switch between Classic view that mimics traditional gauges and Infotainment view that prioritizes navigation and media information.\"),\n",
       " Document(id='608921cd-6d27-425a-b141-e1db919f82b6', metadata={'last_modified': '2025-07-24T15:17:12', 'source': './example_inputs/audi_a4_2024.txt', 'category': 'NarrativeText', 'filetype': 'text/plain', 'parent_id': '97a4fe3f7cf75b893b0c058cd61d887a', 'element_id': 'b373aa446f6fd7009219d2ebf7ba0fe2', 'filename': 'audi_a4_2024.txt', 'file_directory': './example_inputs'}, page_content=\"Virtual Cockpit Technology The 2024 A4 features Audi's revolutionary Virtual Cockpit, a 12.3-inch high-resolution digital instrument display that replaces traditional analog gauges. This advanced system provides customizable layouts for vehicle information, navigation maps, entertainment controls, and performance data. Drivers can switch between Classic view that mimics traditional gauges and Infotainment view that prioritizes navigation and media information.\"),\n",
       " Document(id='e2da0bcf-d598-415d-aebd-a271f76ad920', metadata={'category': 'NarrativeText', 'source': './example_inputs/audi_a4_2024.txt', 'file_directory': './example_inputs', 'element_id': 'b373aa446f6fd7009219d2ebf7ba0fe2', 'filename': 'audi_a4_2024.txt', 'last_modified': '2025-07-24T15:17:12', 'parent_id': '97a4fe3f7cf75b893b0c058cd61d887a', 'filetype': 'text/plain'}, page_content=\"Virtual Cockpit Technology The 2024 A4 features Audi's revolutionary Virtual Cockpit, a 12.3-inch high-resolution digital instrument display that replaces traditional analog gauges. This advanced system provides customizable layouts for vehicle information, navigation maps, entertainment controls, and performance data. Drivers can switch between Classic view that mimics traditional gauges and Infotainment view that prioritizes navigation and media information.\"),\n",
       " Document(id='70f52224-21d4-496d-aa36-77a73af29b87', metadata={'last_modified': '2025-07-24T15:17:12', 'source': './example_inputs/audi_a4_2024.txt', 'file_directory': './example_inputs', 'category': 'NarrativeText', 'filename': 'audi_a4_2024.txt', 'filetype': 'text/plain', 'parent_id': '97a4fe3f7cf75b893b0c058cd61d887a', 'element_id': 'b373aa446f6fd7009219d2ebf7ba0fe2'}, page_content=\"Virtual Cockpit Technology The 2024 A4 features Audi's revolutionary Virtual Cockpit, a 12.3-inch high-resolution digital instrument display that replaces traditional analog gauges. This advanced system provides customizable layouts for vehicle information, navigation maps, entertainment controls, and performance data. Drivers can switch between Classic view that mimics traditional gauges and Infotainment view that prioritizes navigation and media information.\")]"
      ]
     },
     "execution_count": 68,
     "metadata": {},
     "output_type": "execute_result"
    }
   ],
   "source": [
    "test_retriever = retriever(corpus_dir = \"./example_inputs/\", debug = True)\n",
    "docs_question = test_retriever.get_relevant_documents(\"Which car model features a 12.3-inch high-resolution digital instrument display that replaces traditional analog gauges?\")\n",
    "docs_answer = test_retriever.get_relevant_documents(\"The Audi 2024 features a 12.3-inch high-resolution digital instrument display that replaces traditional analog gauges.\")\n",
    "docs_question + docs_answer"
   ]
  },
  {
   "cell_type": "markdown",
   "id": "1abdfdb2",
   "metadata": {},
   "source": [
    "**Conclusion**\n",
    "\n",
    "We chose to retrieve documents for the question and answer separately, then combine them, to ensure both the context of the query and the specific entities or facts in the answer are represented. This prevents missing relevant information and reduces false positives in hallucination detection. Separate retrievals maintain clarity and provide LettuceDetect with a fuller context for accurate verification.\n",
    "\n",
    "Additionally, providing more comprehensive context reduces the risk of false negatives, as it increases the likelihood that supporting evidence for true statements will be included in the verification process.\n"
   ]
  },
  {
   "cell_type": "markdown",
   "id": "147e58f8",
   "metadata": {},
   "source": [
    "### Test 3\n",
    "\n",
    "In this case, we successfully trick the model by providing a wrong response but combining actual information present in the retrieved documents.\n",
    "\n",
    "**Question:** Which car features a 12.3-inch high-resolution digital instrument display that replaces traditional analog gauges?\n",
    "\n",
    "**Answer (correct):** The Virtual Cockpit Technology features a 12.3-inch high-resolution digital instrument display that replaces traditional analog gauges\n",
    "\n",
    "**Status:** No hallucinations detected\n",
    "\n",
    "**Detected hallucinations:**"
   ]
  },
  {
   "cell_type": "markdown",
   "id": "5d756aae",
   "metadata": {},
   "source": [
    "### Test 4\n",
    "\n",
    "In this test, we take advantage of the txt files being small in size so we can pass them directly to the system without splittig them into chunks, hoping that keeping all the information together will help in guiding the model."
   ]
  },
  {
   "cell_type": "code",
   "execution_count": 69,
   "id": "60e9364e",
   "metadata": {},
   "outputs": [],
   "source": [
    "def merge_documents(documents: list[Document]) -> Document:\n",
    "    # Combine the content of all the documents into a single string\n",
    "    combined_content = \"\\n\\n\".join(doc.page_content for doc in documents)\n",
    "\n",
    "    # Combine the metadata of all documents into a single dictionary\n",
    "    combined_metadata = {\"sources\": [doc.metadata for doc in documents]}\n",
    "\n",
    "    # Create a new Document with the combined content and metadata\n",
    "    return Document(page_content=combined_content, metadata=combined_metadata)"
   ]
  },
  {
   "cell_type": "code",
   "execution_count": 70,
   "id": "519db76c",
   "metadata": {},
   "outputs": [],
   "source": [
    "def load_full_documents(corpus_dir = \"./corpus/\", debug = False) -> list[str]:\n",
    "    # Load all documents from the corpus directory\n",
    "    loaded_docs = []\n",
    "    if debug:\n",
    "        print(f\"Loading documents from {corpus_dir}...\")\n",
    "    for file in os.listdir(corpus_dir):\n",
    "        # Load the file using UnstructuredLoader\n",
    "        loader = UnstructuredLoader(corpus_dir + file, mode = 'single')\n",
    "        docs = loader.load()\n",
    "\n",
    "        # Join all the documents into a single one\n",
    "        merged_docs = merge_documents(docs)\n",
    "\n",
    "        # Append the document to the list of loaded documents\n",
    "        loaded_docs.append(merged_docs)\n",
    "\n",
    "    # Filter complex metadata from loaded documents\n",
    "    if debug:\n",
    "        print(\"Filtering complex metadata...\")\n",
    "    filtered_docs = filter_complex_metadata(loaded_docs)\n",
    "\n",
    "    return filtered_docs"
   ]
  },
  {
   "cell_type": "code",
   "execution_count": 71,
   "id": "a44f787e",
   "metadata": {},
   "outputs": [
    {
     "name": "stdout",
     "output_type": "stream",
     "text": [
      "Loading documents from ./example_inputs/...\n",
      "Filtering complex metadata...\n"
     ]
    },
    {
     "data": {
      "text/plain": [
       "[Document(metadata={}, page_content=\"Ford F\\n\\n150 Lightning 2024\\n\\nElectric Truck Revolution\\n\\nThe 2024 Ford F-150 Lightning represents a revolutionary step in the evolution of America's best-selling truck, combining the capability and versatility that F-150 customers expect with advanced electric powertrain technology. This groundbreaking electric pickup maintains the rugged character and work-focused functionality of the traditional F-150 while delivering the benefits of electric propulsion, including instant torque, quiet operation, and advanced connectivity features.\\n\\nPowerful Electric Performance The 2024 F-150 Lightning features a sophisticated dual-motor electric powertrain that delivers exceptional performance across all driving conditions. The standard range model produces 452 horsepower and 775 lb-ft of torque, while the extended range configuration generates an impressive 580 horsepower and the same 775 lb-ft of instant torque. This immediate power delivery provides superior acceleration and towing capability compared to traditional gasoline engines.\\n\\nThe advanced electric motors are positioned at the front and rear axles, providing intelligent all-wheel drive capability that can distribute power instantaneously to maximize traction and stability. The system continuously monitors driving conditions and can adjust power distribution thousands of times per second for optimal performance in all weather and terrain conditions.\\n\\nThe Lightning's towing capacity reaches up to 10,000 pounds when properly equipped, making it suitable for hauling boats, trailers, and work equipment. The Pro Power Onboard system provides up to 9.6 kW of exportable power, enabling the truck to serve as a mobile power source for tools, equipment, or emergency backup power for homes.\\n\\nExtended Range and Charging Capabilities The 2024 F-150 Lightning offers two battery pack options to meet different range and capability requirements. The standard range model provides an EPA-estimated 240 miles of range, while the extended range variant achieves up to 320 miles on a single charge. The large battery capacity enables the Lightning to handle long work days and extended trips without range anxiety.\\n\\nFord's extensive charging network partnerships provide access to over 63,000 public charging stations across North America. The Lightning supports DC fast charging at rates up to 155 kW, allowing the battery to charge from 15% to 80% in approximately 41 minutes when connected to a compatible fast charger.\\n\\nThe available 80-amp Ford Charge Station Pro can fully charge the Lightning overnight when installed at home or the workplace. The intelligent charging system can be programmed to take advantage of off-peak electricity rates and can integrate with Ford's mobile app for remote monitoring and control.\\n\\nIntelligent Power Management The F-150 Lightning's advanced electrical architecture enables innovative power management capabilities that extend beyond traditional transportation. The Intelligent Backup Power system can automatically detect power outages and switch to provide electricity to connected homes, potentially powering an average house for up to three days with the extended range battery.\\n\\nThe Pro Power Onboard system includes multiple 120V and 240V outlets located throughout the vehicle, enabling contractors and outdoor enthusiasts to power tools, equipment, and appliances directly from the truck. The system can even power other electric vehicles in emergency situations.\\n\\nFord's FordPass Power My Trip route planning integrates real-time charging station availability and can precondition the battery for optimal charging speeds when approaching fast charging locations.\\n\\nAdvanced Technology Integration The 2024 F-150 Lightning features Ford's latest SYNC 4A infotainment system with a large 15.5-inch touchscreen that includes wireless Apple CarPlay and Android Auto compatibility. The system provides access to navigation, entertainment, and vehicle settings through an intuitive interface designed for easy operation while wearing work gloves.\\n\\nThe available 12-inch digital instrument cluster provides customizable displays for vehicle information, range estimation, and power consumption data. The head-up display projects critical information directly onto the windshield for enhanced safety and convenience.\\n\\nOver-the-air software updates continuously improve vehicle functionality and can add new features without requiring dealer visits. The FordPass mobile app enables remote monitoring of charging status, battery level, and vehicle location.\\n\\nRugged Capability and Versatility The Lightning maintains the F-150's legendary capability with a maximum payload capacity of up to 2,000 pounds and a spacious 5.5-foot or 6.5-foot cargo box. The available tonneau cover provides weather protection for cargo while maintaining aerodynamic efficiency.\\n\\nThe front trunk (frunk) provides an additional 14.1 cubic feet of lockable, weatherproof storage space that includes a drain plug for easy cleaning. This space is ideal for storing charging cables, tools, or keeping valuable items secure.\\n\\nThe Lightning's ground clearance, approach angles, and water fording depth match those of the gasoline F-150, ensuring it can handle challenging terrain and work site conditions. The skid plates protect critical components from damage during off-road use.\\n\\nComprehensive Safety Features Ford Co-Pilot360 2.0 comes standard on all Lightning models, providing a comprehensive suite of advanced driver assistance technologies. This includes pre-collision assist with automatic emergency braking, blind spot information system with cross-traffic alert, and lane keeping system with driver alert.\\n\\nAvailable advanced features include adaptive cruise control with stop-and-go capability, evasive steering assist, and reverse brake assist. The 360-degree camera system provides a complete view around the vehicle for enhanced maneuvering in tight spaces.\\n\\nThe Lightning's low center of gravity created by the floor-mounted battery pack improves stability and reduces rollover risk. The battery pack is protected by ballistic-grade steel and includes advanced thermal management to prevent overheating.\\n\\nWork-Focused Design The Lightning's interior is designed with working customers in mind, featuring durable materials that can withstand harsh conditions while providing comfort during long work days. Available leather-trimmed seating includes heating and ventilation for enhanced comfort in all weather conditions.\\n\\nThe spacious cab provides room for up to five passengers with generous legroom and headroom. Multiple storage compartments throughout the cabin keep tools, documents, and personal items organized and easily accessible.\\n\\nThe available Max Recline Seats allow the front seats to fold nearly flat, creating a comfortable rest area during breaks or overnight stays at remote work sites.\\n\\nTrim Levels and Configurations The 2024 F-150 Lightning is available in Pro, XLT, Lariat, and Platinum trim levels to accommodate different customer needs and budgets. The base Pro model starts at $49,995 and includes essential work-focused features and the standard range battery pack.\\n\\nThe XLT trim adds comfort and convenience features like power adjustable seats and upgraded interior materials. The Lariat model includes luxury amenities like leather seating and advanced technology features. The top-tier Platinum trim provides premium materials and the most advanced technology available.\\n\\nAll models include Ford's comprehensive warranty coverage with an eight-year/100,000-mile battery warranty and complimentary maintenance for the first two years or 24,000 miles.\\n\\nEnvironmental and Economic Benefits The F-150 Lightning produces zero direct emissions while delivering superior performance compared to gasoline engines. The reduced number of moving parts in electric drivetrains results in lower maintenance costs and improved reliability over the vehicle's lifetime.\\n\\nFleet customers can benefit from reduced fuel costs and simplified maintenance schedules, while the available commercial charging solutions can help businesses transition to electric power for their operations. The Lightning's ability to serve as a mobile power source can eliminate the need for separate generators on many job sites.\"),\n",
       " Document(metadata={}, page_content='Audi A4 2024\\n\\nProgressive Luxury Technology\\n\\nThe 2024 Audi A4 exemplifies Audi\\'s philosophy of \"Vorsprung durch Technik\" (Progress through Technology), delivering a sophisticated blend of performance, luxury, and cutting-edge innovation. As Audi\\'s cornerstone luxury sedan, the A4 continues to set standards in the premium compact executive car segment with its advanced technology, refined driving dynamics, and distinctive design language.\\n\\nEfficient Turbocharged Performance The 2024 Audi A4 features a refined turbocharged 2.0-liter TFSI four-cylinder engine that produces 201 horsepower and 236 lb-ft of torque. This powerplant incorporates Audi\\'s latest engine technologies including direct injection, variable valve timing, and an advanced cooling system that optimizes performance while maintaining excellent fuel efficiency.\\n\\nThe engine utilizes a sophisticated turbocharger with integrated exhaust manifold and electric wastegate actuator, providing immediate throttle response and smooth power delivery throughout the rev range. The mild-hybrid system includes a 12-volt starter-generator that enables coasting with the engine off and enhanced start-stop functionality for improved fuel economy.\\n\\nPower is transmitted through Audi\\'s advanced seven-speed S tronic dual-clutch automatic transmission, which offers lightning-quick shifts and multiple driving modes. The transmission can be operated in fully automatic mode for maximum comfort or switched to manual mode using steering wheel-mounted paddle shifters for more engaging driving.\\n\\nQuattro All-Wheel Drive Excellence The legendary Audi quattro all-wheel drive system comes standard on all A4 models, providing superior traction and handling in all weather conditions. The system features a sophisticated torsen center differential that can vary power distribution between front and rear axles from 40:60 to 70:30 depending on traction conditions.\\n\\nThe advanced suspension system includes a four-link front axle and five-link rear axle with optional adaptive dampers that automatically adjust to road conditions and driving style. The Drive Select system allows drivers to choose from Comfort, Auto, Dynamic, and Individual modes that alter throttle response, transmission behavior, and suspension settings.\\n\\nPremium Interior Craftsmanship The interior of the 2024 A4 showcases Audi\\'s attention to detail and commitment to luxury. Premium materials throughout the cabin include available leather seating with diamond quilting, genuine aluminum or wood inlays, and soft-touch surfaces that create an exceptionally refined environment. The fit and finish quality meets the highest German standards for precision and durability.\\n\\nThe front seats offer excellent ergonomic support with available power adjustment, memory settings, heating, and ventilation functions. The rear seating area provides comfortable accommodations for adult passengers with generous legroom and headroom. The 40/20/40 split-folding rear seats allow for flexible cargo arrangements when needed.\\n\\nAmbient lighting with customizable colors creates a sophisticated atmosphere throughout the cabin, while the available panoramic sunroof adds to the sense of spaciousness and openness.\\n\\nVirtual Cockpit Technology The 2024 A4 features Audi\\'s revolutionary Virtual Cockpit, a 12.3-inch high-resolution digital instrument display that replaces traditional analog gauges. This advanced system provides customizable layouts for vehicle information, navigation maps, entertainment controls, and performance data. Drivers can switch between Classic view that mimics traditional gauges and Infotainment view that prioritizes navigation and media information.\\n\\nThe MMI touch infotainment system includes a 10.1-inch touchscreen display with haptic feedback and handwriting recognition. The system supports wireless Apple CarPlay and Android Auto integration, allowing seamless smartphone connectivity. Natural voice control responds to \"Hey Audi\" commands and can understand conversational language for various vehicle functions.\\n\\nThe available Bang & Olufsen premium audio system delivers exceptional sound quality through strategically positioned speakers throughout the cabin, creating an immersive listening experience for all occupants.\\n\\nAdvanced Driver Assistance Audi pre sense technology comes standard on every 2024 A4, providing comprehensive safety and driver assistance capabilities. The system includes adaptive cruise control with traffic jam assist, lane keeping assist with traffic sign recognition, and automatic emergency braking with pedestrian and cyclist detection.\\n\\nAvailable advanced features include side assist blind spot monitoring, rear cross-traffic assist, and park assist that can automatically steer the vehicle into parallel or perpendicular parking spaces. The top-view camera system provides a 360-degree view around the vehicle for enhanced maneuvering in tight spaces.\\n\\nAudi\\'s pre sense rear system can detect potential rear-end collisions and prepare the vehicle by closing windows, tightening seatbelts, and activating hazard lights to warn following traffic.\\n\\nSophisticated Design Elements The 2024 A4 features Audi\\'s latest design language with the distinctive Singleframe grille, Matrix LED headlights with dynamic turn signals, and sculpted body panels that convey both elegance and sportiness. The coefficient of drag of just 0.23 makes the A4 one of the most aerodynamically efficient sedans in its class.\\n\\nAvailable S line exterior package adds aggressive aerodynamic elements, larger wheels, and unique trim pieces for enhanced visual appeal. Wheel options range from 17 to 19 inches in various designs that complement the vehicle\\'s premium character.\\n\\nPaint color options include classic choices like Glacier White Metallic and Mythos Black Metallic, as well as distinctive options like Manhattan Gray Metallic and Tango Red Metallic that showcase the A4\\'s sophisticated character.\\n\\nTrim Levels and Configuration Options The 2024 Audi A4 is available in Premium, Premium Plus, and Prestige trim levels, each offering progressively more luxury features and technology. The base Premium model starts at $37,400 and includes essential features like leatherette seating, dual-zone automatic climate control, and the MMI infotainment system with Virtual Cockpit.\\n\\nThe Premium Plus trim adds features like leather seating, heated front seats, wireless charging, and advanced parking sensors. The top-tier Prestige model includes luxury amenities like ventilated front seats, Bang & Olufsen audio system, and adaptive cruise control with traffic jam assist.\\n\\nOptional packages allow for extensive customization, including the Technology Package with advanced driver assistance features, the Sport Package with adaptive suspension and sport styling, and various convenience packages for enhanced comfort and functionality.\\n\\nEnvironmental Responsibility Audi demonstrates its commitment to environmental sustainability through the A4\\'s efficient design and manufacturing processes. The mild-hybrid system helps reduce fuel consumption and emissions, while the aerodynamic body design minimizes energy loss at highway speeds.\\n\\nThe vehicle achieves EPA-estimated fuel economy ratings of 24 mpg in the city and 31 mpg on the highway, making it competitive with other luxury sedans while delivering superior performance and refinement.\\n\\nOwnership Benefits and Support Audi provides comprehensive warranty coverage including a four-year/50,000-mile limited warranty and four-year/50,000-mile complimentary scheduled maintenance program. Audi Care covers all factory-recommended maintenance services during the warranty period.\\n\\nThe extensive Audi dealer network ensures convenient service availability, while certified technicians receive specialized training on the latest technologies and diagnostic procedures. Audi connect services provide remote vehicle monitoring, concierge assistance, and emergency support capabilities.'),\n",
       " Document(metadata={}, page_content='Mercedes\\n\\nBenz C\\n\\nClass 2024\\n\\nLuxury Redefined\\n\\nThe 2024 Mercedes-Benz C-Class represents the pinnacle of luxury sedan engineering, combining sophisticated technology, exceptional comfort, and unmistakable Mercedes-Benz elegance. As the entry point into the Mercedes-Benz luxury sedan lineup, the C-Class delivers premium features and refinement that exceed expectations while maintaining the brand\\'s reputation for innovation and quality.\\n\\nAdvanced Powertrain Technology The 2024 C-Class features Mercedes-Benz\\'s latest mild-hybrid powertrain technology across all trim levels. The C 300 model is equipped with a turbocharged 2.0-liter four-cylinder engine enhanced with 48-volt mild-hybrid technology, producing 255 horsepower and 295 lb-ft of torque. This sophisticated system includes an integrated starter-generator that provides additional power assistance and enables features like gliding and enhanced stop-start functionality.\\n\\nThe high-performance Mercedes-AMG C 43 variant features a handcrafted turbocharged 2.0-liter four-cylinder engine delivering 402 horsepower and 369 lb-ft of torque. This engine incorporates advanced turbocharger technology with electric assistance, providing immediate throttle response and exceptional performance throughout the rev range.\\n\\nAll engines are paired with Mercedes-Benz\\'s 9G-TRONIC automatic transmission, which offers seamless shifting and multiple driving modes that adapt to various conditions and preferences. The transmission features precise electronic control and can execute shifts in milliseconds for optimal performance and efficiency.\\n\\n4MATIC All-Wheel Drive System Mercedes-Benz\\'s advanced 4MATIC all-wheel drive system comes standard on most C-Class models, providing superior traction and stability in all weather conditions. The system continuously monitors driving conditions and can distribute power between front and rear wheels as needed, ensuring optimal grip and handling performance.\\n\\nThe adaptive suspension system features selective damping that automatically adjusts to road conditions and driving style. Multiple driving modes including Eco, Comfort, Sport, and Individual allow drivers to customize the vehicle\\'s behavior to match their preferences and driving conditions.\\n\\nLuxurious Interior Environment The interior of the 2024 C-Class showcases Mercedes-Benz\\'s mastery of luxury design and craftsmanship. Premium materials throughout the cabin include available Artico leather upholstery with contrast stitching, genuine aluminum or wood trim options, and soft-touch surfaces that create an exceptionally refined environment.\\n\\nThe front seats feature advanced ergonomic design with available multi-contour adjustments, massage functions, and climate control. Memory settings allow multiple drivers to quickly restore their preferred seating and mirror positions. The rear seating area provides comfortable accommodations with generous legroom and headroom for adult passengers.\\n\\nThe ambient lighting system offers multiple color options and intensity levels, creating a sophisticated atmosphere that can be customized to individual preferences. The panoramic sunroof, available on higher trim levels, adds to the open and airy feel of the cabin interior.\\n\\nMBUX Infotainment System The 2024 C-Class features the latest generation of Mercedes-Benz\\'s MBUX (Mercedes-Benz User Experience) infotainment system with a stunning 11.9-inch portrait-oriented touchscreen display. The system includes artificial intelligence that learns user preferences and provides personalized recommendations for navigation, entertainment, and vehicle settings.\\n\\nVoice control functionality allows natural language commands for various vehicle functions, climate control, and entertainment options. The system responds to \"Hey Mercedes\" wake phrases and can understand context and follow-up questions. Wireless Apple CarPlay and Android Auto integration provide seamless smartphone connectivity.\\n\\nThe available 12.3-inch digital instrument cluster offers customizable displays for vehicle information, navigation, and performance data. The augmented reality navigation system overlays directional arrows and points of interest directly onto the live camera feed, making navigation more intuitive and safer.\\n\\nComprehensive Safety Technologies Mercedes-Benz equips every 2024 C-Class with an extensive suite of advanced safety and driver assistance technologies. The standard Mercedes-Benz Intelligent Drive package includes active brake assist with cross-traffic function, attention assist drowsiness detection, and blind spot assist with exit warning.\\n\\nAvailable advanced features include adaptive cruise control with stop-and-go capability, active lane keeping assist, and evasive steering assist that can help avoid potential collisions. The traffic sign assist system recognizes road signs and displays them in the instrument cluster, while speed limit assist can automatically adjust cruise control settings.\\n\\nThe PRE-SAFE system can detect potential collision situations and prepare the vehicle and occupants by adjusting seat positions, tightening seatbelts, and closing windows and sunroof. Nine airbags throughout the cabin provide comprehensive occupant protection in the event of a collision.\\n\\nDistinctive Design Language The 2024 C-Class features Mercedes-Benz\\'s latest design philosophy with the distinctive diamond block grille, sleek LED headlights with signature daytime running lights, and sculpted body panels that convey both elegance and athleticism. The coupe-like profile and chrome accents create a sophisticated appearance that commands attention.\\n\\nAvailable AMG Line exterior package adds aggressive aerodynamic elements, larger wheels, and unique trim pieces for enhanced visual appeal. Wheel options range from 18 to 20 inches in various alloy designs that complement the vehicle\\'s premium character.\\n\\nPaint color options include classic choices like Polar White and Obsidian Black Metallic, as well as distinctive options like Spectral Blue and Selenite Grey Metallic that showcase the C-Class\\'s sophisticated character.\\n\\nTrim Levels and Equipment Options The 2024 C-Class lineup offers multiple configurations to accommodate various preferences and budgets. The base C 300 starts at $43,550 and includes essential luxury features like leatherette seating, dual-zone automatic climate control, and the MBUX infotainment system with navigation.\\n\\nThe C 300 4MATIC adds all-wheel drive capability for $45,550, while the high-performance Mercedes-AMG C 43 4MATIC starts at $58,050 and includes the powerful turbocharged engine, adaptive suspension, and AMG-specific styling elements.\\n\\nOptional packages allow for extensive customization, including the Premium Package with heated and ventilated seats, the Technology Package with augmented reality navigation, and various AMG packages for enhanced performance and appearance.\\n\\nOwnership Experience and Support Mercedes-Benz provides comprehensive warranty coverage including a four-year/50,000-mile limited warranty and complimentary scheduled maintenance for the same period. The Mercedes-Benz Service Care package covers all factory-recommended maintenance during the warranty period.\\n\\nThe extensive Mercedes-Benz dealer network ensures convenient service availability, while certified technicians receive specialized training on the latest technologies and diagnostic equipment. Mercedes me connect services provide remote vehicle monitoring, concierge services, and emergency assistance capabilities.'),\n",
       " Document(metadata={}, page_content=\"Tesla Model S 2024\\n\\nElectric Performance Pioneer\\n\\nThe 2024 Tesla Model S continues to redefine the luxury electric vehicle segment with its groundbreaking technology, exceptional performance, and innovative design. As Tesla's flagship sedan, the Model S combines cutting-edge electric powertrain technology with advanced autonomous driving capabilities and a minimalist luxury interior that sets new standards for the automotive industry.\\n\\nRevolutionary Electric Powertrain The 2024 Model S offers multiple configurations to meet diverse performance requirements. The base Model S features a dual-motor all-wheel drive setup that produces 670 horsepower, enabling acceleration from 0-60 mph in just 3.1 seconds. The tri-motor Model S Plaid variant delivers an astounding 1,020 horsepower, achieving 0-60 mph acceleration in an unprecedented 1.99 seconds, making it one of the quickest production sedans ever built.\\n\\nThe advanced electric motors utilize permanent magnet synchronous technology with carbon fiber sleeves that allow operation at extremely high RPMs. The innovative thermal management system ensures consistent performance during extended high-performance driving sessions while maintaining optimal efficiency for daily use.\\n\\nThe sophisticated battery pack incorporates Tesla's latest 4680 cell technology, providing exceptional energy density and thermal stability. The structural battery pack serves as an integral part of the vehicle's chassis, improving both rigidity and safety while reducing overall weight.\\n\\nExtended Range and Fast Charging The 2024 Model S offers industry-leading range capabilities with the standard model achieving up to 405 miles of EPA-estimated range on a single charge. The aerodynamic design with a coefficient of drag of just 0.208 contributes significantly to the vehicle's efficiency and range performance.\\n\\nTesla's Supercharger network provides convenient long-distance travel with charging speeds up to 250 kW. The Model S can add up to 200 miles of range in just 15 minutes when connected to a V3 Supercharger. The onboard charger supports AC charging up to 11.5 kW for convenient home and workplace charging.\\n\\nThe advanced battery management system includes sophisticated thermal regulation and cell balancing to maximize battery life and performance. Over-the-air software updates continuously optimize charging algorithms and energy management for improved efficiency and range.\\n\\nMinimalist Luxury Interior The interior of the 2024 Model S represents a radical departure from traditional automotive design philosophy. The minimalist cabin features a large 17-inch horizontal touchscreen that controls virtually all vehicle functions, from climate control to entertainment and navigation. The absence of traditional buttons and switches creates a clean, uncluttered environment that emphasizes the advanced technology.\\n\\nPremium materials throughout the cabin include available leather seating with heating and ventilation, genuine wood trim, and soft-touch surfaces. The front seats offer excellent support with power adjustment and memory settings. The rear seating area provides generous space for adult passengers with ample legroom and headroom.\\n\\nThe panoramic glass roof extends from front to rear, creating an open and airy cabin environment while incorporating UV and infrared protection. The advanced HEPA air filtration system ensures clean cabin air and includes a Bioweapon Defense Mode for extreme air quality conditions.\\n\\nAutonomous Driving Technology The 2024 Model S comes equipped with Tesla's Full Self-Driving (FSD) hardware, including eight cameras, twelve ultrasonic sensors, and a forward-facing radar. The advanced neural network processing unit provides the computational power necessary for complex autonomous driving functions.\\n\\nAutopilot features include adaptive cruise control, automatic lane keeping, automatic lane changes, and summon capability that allows the vehicle to park itself or come to the driver's location. The Full Self-Driving package adds navigate on autopilot, traffic light and stop sign control, and automatic parking capabilities.\\n\\nOver-the-air software updates continuously improve autonomous driving capabilities, adding new features and enhancing existing functionality without requiring hardware modifications. The system learns from millions of miles driven by Tesla vehicles worldwide to improve safety and performance.\\n\\nAdvanced Safety Systems The Model S incorporates comprehensive passive and active safety systems designed to protect occupants in all collision scenarios. The rigid aluminum space frame with strategic use of ultra-high-strength steel provides exceptional crash protection while maintaining optimal weight distribution.\\n\\nActive safety features include automatic emergency braking with pedestrian and cyclist detection, blind spot monitoring, and collision avoidance steering. The advanced airbag system includes front, side, and curtain airbags strategically positioned throughout the cabin.\\n\\nThe low center of gravity created by the floor-mounted battery pack significantly reduces rollover risk, while the absence of a traditional internal combustion engine creates additional crumple zones for improved frontal impact protection.\\n\\nPerformance and Handling The Model S features an advanced air suspension system with adaptive damping that automatically adjusts to road conditions and driving preferences. Multiple ride height settings optimize aerodynamics at highway speeds and provide additional ground clearance when needed.\\n\\nThe sophisticated traction control system can individually control torque to each wheel, providing exceptional grip and stability in all weather conditions. The regenerative braking system can provide up to 0.3g of deceleration while recovering energy to extend driving range.\\n\\nCarbon ceramic brakes are available for enhanced stopping power and fade resistance during aggressive driving. The Torque Sleep feature allows the Model S Plaid to launch with maximum acceleration while protecting the drivetrain components.\\n\\nConnectivity and Entertainment The infotainment system includes access to streaming services like Netflix, YouTube, and Spotify when parked, along with various games and entertainment options. The premium audio system features 22 speakers strategically positioned throughout the cabin for immersive sound quality.\\n\\nOver-the-air connectivity enables remote monitoring and control of various vehicle functions through the Tesla mobile app. Features include remote climate control, charging monitoring, and location tracking for enhanced convenience and security.\\n\\nThe vehicle's software continuously evolves through regular updates that add new features, improve performance, and enhance the user experience. These updates are delivered wirelessly and installed automatically, ensuring the vehicle remains current with the latest technology.\\n\\nEnvironmental Impact and Sustainability Tesla's commitment to environmental sustainability extends beyond zero direct emissions. The company's solar panel and energy storage products allow owners to power their vehicles with renewable energy, creating a completely sustainable transportation solution.\\n\\nThe manufacturing process incorporates recycled materials where possible, and Tesla has committed to making their production facilities carbon neutral. The company's battery recycling program ensures that end-of-life batteries are properly processed and materials are recovered for reuse.\\n\\nOwnership Experience Tesla provides a comprehensive warranty including an eight-year/150,000-mile battery and drive unit warranty. The company's direct sales model eliminates traditional dealerships, providing a streamlined purchasing experience through Tesla stores and online ordering.\\n\\nMobile service capabilities allow many maintenance and repair services to be performed at the owner's location, while Tesla service centers provide comprehensive support for more complex procedures. The extensive Supercharger network continues to expand globally, providing convenient long-distance travel capabilities.\"),\n",
       " Document(metadata={}, page_content=\"Toyota Camry 2024\\n\\nPremium Midsize Sedan\\n\\nThe 2024 Toyota Camry represents the pinnacle of reliability, comfort, and efficiency in the midsize sedan segment. This eighth-generation model continues Toyota's legacy of building dependable vehicles while incorporating cutting-edge technology and sophisticated design elements that appeal to modern drivers.\\n\\nEngine and Performance The 2024 Camry offers multiple powertrain options to suit different driving preferences. The standard 2.5-liter four-cylinder engine produces 203 horsepower and 184 lb-ft of torque, providing smooth and responsive acceleration for daily commuting and highway cruising. For those seeking enhanced performance, the available 3.5-liter V6 engine delivers an impressive 301 horsepower and 267 lb-ft of torque, making it one of the most powerful engines in its class.\\n\\nBoth engines are paired with an eight-speed automatic transmission that offers seamless shifting and optimal fuel efficiency. The Camry's suspension system features MacPherson struts in the front and a multi-link setup in the rear, providing excellent ride quality while maintaining responsive handling characteristics.\\n\\nFuel Economy One of the Camry's standout features is its exceptional fuel economy. The four-cylinder engine achieves an EPA-estimated 28 mpg in the city and 39 mpg on the highway, while the V6 model still manages a respectable 22 mpg city and 33 mpg highway. For maximum efficiency, the Camry Hybrid variant combines a 2.5-liter four-cylinder engine with an electric motor to produce 208 total system horsepower while achieving an outstanding 51 mpg in the city and 53 mpg on the highway.\\n\\nInterior Design and Comfort The interior of the 2024 Camry showcases Toyota's commitment to quality and attention to detail. Premium materials throughout the cabin create an upscale atmosphere, with available leather-appointed seating and genuine wood trim accents. The front seats offer excellent support for long-distance travel, with available power adjustment, heating, and ventilation features.\\n\\nThe rear seats provide generous legroom and headroom for adult passengers, making the Camry an ideal choice for families. The trunk offers 15.1 cubic feet of cargo space, easily accommodating luggage, groceries, or sports equipment.\\n\\nTechnology Features The 2024 Camry comes equipped with Toyota's latest infotainment system, featuring a standard 8-inch touchscreen display that includes Apple CarPlay, Android Auto, and Amazon Alexa compatibility. Higher trim levels offer a larger 9-inch display with wireless smartphone integration and premium JBL audio system with nine speakers.\\n\\nThe available digital instrument cluster provides customizable displays for vehicle information, navigation, and entertainment controls. Wireless charging pad keeps compatible devices powered without the need for cables, while multiple USB ports throughout the cabin ensure all passengers can stay connected.\\n\\nSafety and Driver Assistance Toyota Safety Sense 2.0 comes standard on all Camry models, providing a comprehensive suite of advanced safety features. This includes pre-collision system with pedestrian detection, lane departure alert with steering assist, automatic high beams, and dynamic radar cruise control. Additional available safety features include blind spot monitoring, rear cross-traffic alert, and parking assist with automatic braking.\\n\\nThe Camry has earned a five-star overall safety rating from the National Highway Traffic Safety Administration and has been recognized as a Top Safety Pick by the Insurance Institute for Highway Safety.\\n\\nExterior Design The 2024 Camry features bold, athletic styling that sets it apart from other midsize sedans. The distinctive front grille, sleek LED headlights, and sculpted body lines create a dynamic appearance that conveys both sophistication and sportiness. Available 19-inch alloy wheels and dual exhaust outlets further enhance the vehicle's visual appeal.\\n\\nColor options include classic choices like Super White and Midnight Black Metallic, as well as more distinctive options like Ruby Flare Pearl and Celestial Silver Metallic.\\n\\nTrim Levels and Pricing The 2024 Camry is available in multiple trim levels to accommodate different budgets and preferences. The base LE model starts at $25,295 and includes essential features like automatic climate control, Toyota Safety Sense 2.0, and the 8-inch touchscreen infotainment system. The mid-level SE trim adds sport-tuned suspension, paddle shifters, and unique styling elements for $26,670.\\n\\nThe XLE trim ($29,950) focuses on luxury with leather-appointed seating, dual-zone automatic climate control, and wireless charging. The top-of-the-line XSE trim ($31,970) combines sport and luxury features, including the V6 engine option, premium audio system, and distinctive exterior styling.\\n\\nMaintenance and Warranty Toyota backs the 2024 Camry with a comprehensive warranty package that includes a three-year/36,000-mile basic warranty and a five-year/60,000-mile powertrain warranty. Additionally, Toyota provides two years of complimentary maintenance, covering oil changes and routine inspections.\\n\\nThe Camry's reputation for reliability means lower long-term ownership costs, with many models easily exceeding 200,000 miles with proper maintenance. Parts and service are widely available through Toyota's extensive dealer network, ensuring convenient and affordable maintenance throughout the vehicle's lifespan.\\n\\nConclusion The 2024 Toyota Camry continues to set the standard for midsize sedans with its combination of reliability, efficiency, technology, and value. Whether you prioritize fuel economy, performance, or luxury features, there's a Camry trim level that meets your needs while providing the peace of mind that comes with Toyota's renowned build quality and comprehensive warranty coverage.\"),\n",
       " Document(metadata={}, page_content='BMW 3 Series 2024\\n\\nUltimate Driving Machine\\n\\nThe 2024 BMW 3 Series continues to define the luxury sport sedan segment with its perfect balance of performance, luxury, and cutting-edge technology. As the seventh generation of BMW\\'s iconic model line, the 3 Series maintains its position as the benchmark against which all other luxury sedans are measured, offering drivers an unparalleled combination of athleticism and refinement.\\n\\nEngine Performance and Driving Dynamics The 2024 BMW 3 Series offers multiple powertrain configurations to satisfy diverse performance preferences. The base 330i model features a turbocharged 2.0-liter four-cylinder engine producing 255 horsepower and 294 lb-ft of torque, delivering smooth acceleration and impressive efficiency. This engine incorporates BMW\\'s TwinPower Turbo technology with direct injection and variable valve timing for optimal performance across all operating conditions.\\n\\nFor enhanced performance, the M340i variant features a turbocharged 3.0-liter inline-six engine generating 382 horsepower and 369 lb-ft of torque. This powerplant enables acceleration from 0-60 mph in just 4.2 seconds while maintaining the refined character expected from a luxury sedan.\\n\\nAll engines are paired with BMW\\'s advanced eight-speed automatic transmission featuring adaptive shift logic and steering wheel-mounted paddle shifters. The transmission learns driving patterns and adjusts shift points accordingly, ensuring optimal performance whether cruising on the highway or navigating winding back roads.\\n\\nAdvanced All-Wheel Drive System BMW\\'s xDrive intelligent all-wheel drive system comes standard on most 3 Series models, providing exceptional traction and stability in all weather conditions. The system continuously monitors driving conditions and can transfer power between front and rear wheels in milliseconds, ensuring optimal grip and handling performance.\\n\\nThe rear-wheel drive configuration remains available on select models for purists who prefer the traditional BMW driving experience. The sophisticated suspension system features adaptive dampers that automatically adjust to road conditions and driving style, providing both comfort during daily commuting and precise handling when spirited driving is desired.\\n\\nLuxury Interior Design The interior of the 2024 3 Series exemplifies BMW\\'s commitment to luxury and craftsmanship. Premium materials throughout the cabin include available leather upholstery with contrast stitching, genuine aluminum or wood trim, and soft-touch surfaces that create an upscale environment. The front seats offer excellent support with available multi-contour adjustments, heating, ventilation, and massage functions.\\n\\nThe rear seating area provides comfortable accommodations for adult passengers, with generous legroom and headroom. The 40/20/40 split-folding rear seats allow for flexible cargo arrangements, while the trunk offers 13 cubic feet of storage space for luggage and daily essentials.\\n\\nBMW iDrive Technology System The 2024 3 Series features BMW\\'s latest iDrive infotainment system with a 10.25-inch touchscreen display that includes gesture control, voice commands, and traditional controller input methods. The system includes wireless Apple CarPlay compatibility, with Android Auto available through BMW\\'s ConnectedDrive services.\\n\\nThe available 12.3-inch digital instrument cluster provides customizable displays for vehicle information, navigation, and performance data. The head-up display projects critical information directly onto the windshield, allowing drivers to maintain focus on the road ahead.\\n\\nPremium audio options include the Harman Kardon surround sound system with 16 speakers, delivering concert-quality sound throughout the cabin. Wireless charging capability keeps compatible devices powered, while multiple USB ports ensure all occupants can stay connected.\\n\\nAdvanced Safety Technologies BMW\\'s comprehensive suite of driver assistance technologies comes standard on all 3 Series models. Active Protection includes forward collision warning with automatic emergency braking, lane departure warning with active lane keeping assist, and blind spot detection with rear cross-traffic alert.\\n\\nAvailable advanced features include adaptive cruise control with stop-and-go functionality, traffic jam assistant that provides semi-autonomous driving in congested conditions, and parking assistant that can automatically steer the vehicle into parallel or perpendicular parking spaces.\\n\\nThe 3 Series has earned excellent safety ratings from both NHTSA and IIHS, demonstrating BMW\\'s commitment to occupant protection through advanced engineering and high-strength materials.\\n\\nExterior Design and Styling The 2024 3 Series features BMW\\'s distinctive design language with the iconic kidney grille, adaptive LED headlights, and sculpted body panels that convey both elegance and sportiness. The M Sport package adds aggressive aerodynamic elements, larger wheels, and unique interior trim for enhanced visual appeal.\\n\\nAvailable exterior colors range from classic Alpine White and Jet Black to distinctive options like Storm Bay Metallic and Mineral Grey Metallic. Wheel options include stylish alloy designs ranging from 18 to 19 inches in diameter.\\n\\nTrim Levels and Pricing Structure The 2024 BMW 3 Series lineup includes several trim levels and configurations. The base 330i starts at $35,300 and includes essential luxury features like leatherette seating, dual-zone automatic climate control, and the iDrive infotainment system with navigation.\\n\\nThe 330i xDrive adds all-wheel drive capability for $37,300, while the high-performance M340i xDrive starts at $54,700 and includes the powerful inline-six engine, adaptive suspension, and M Sport styling elements.\\n\\nOptional packages allow for extensive customization, including the Premium Package with heated seats and wireless charging, the Executive Package with gesture control and Harman Kardon audio, and various M Performance packages for enhanced sportiness.\\n\\nMaintenance and Ownership Experience BMW provides comprehensive warranty coverage including a four-year/50,000-mile limited warranty and four-year/50,000-mile complimentary scheduled maintenance program. The BMW Ultimate Care package covers all factory-recommended maintenance during the warranty period.\\n\\nBMW\\'s extensive dealer network ensures convenient service availability, while the brand\\'s certified technicians receive specialized training on the latest technologies and diagnostic equipment. The BMW ConnectedDrive services provide remote vehicle monitoring and predictive maintenance alerts.\\n\\nHeritage and Brand Prestige The BMW 3 Series has been the cornerstone of the brand\\'s lineup for over four decades, establishing BMW\\'s reputation for building the \"Ultimate Driving Machine.\" This legacy of performance, luxury, and innovation continues with the 2024 model, which incorporates the latest advances in automotive technology while maintaining the driving characteristics that have made the 3 Series legendary among automotive enthusiasts worldwide.'),\n",
       " Document(metadata={}, page_content=\"Jeep Wrangler 2024\\n\\nLegendary Off\\n\\nRoad Icon\\n\\nThe 2024 Jeep Wrangler represents the ultimate expression of off-road capability and adventure-ready design, maintaining the authentic character and rugged DNA that has defined the model for over eight decades. As the direct descendant of the original military Jeep, the Wrangler continues to set the standard for off-road performance while incorporating modern comfort, safety, and technology features that make it suitable for both daily driving and extreme adventure pursuits.\\n\\nDiverse Powertrain Options The 2024 Wrangler offers multiple engine configurations to meet varying performance and efficiency requirements. The standard 3.6-liter Pentastar V6 engine produces 285 horsepower and 260 lb-ft of torque, providing robust performance for both on-road driving and off-road adventures. This naturally aspirated engine features advanced technologies including variable valve timing and an integrated cooling system optimized for extreme operating conditions.\\n\\nFor enhanced efficiency without sacrificing capability, the available 2.0-liter turbocharged four-cylinder engine generates 270 horsepower and 295 lb-ft of torque while incorporating mild-hybrid technology with a 48-volt system that provides additional torque assistance and improved fuel economy.\\n\\nThe range-topping 6.4-liter HEMI V8 engine in the Wrangler Rubicon 392 produces an impressive 470 horsepower and 470 lb-ft of torque, delivering exceptional performance for the most demanding off-road situations and providing exhilarating on-road acceleration.\\n\\nAdvanced Transmission Technology The 2024 Wrangler features sophisticated transmission options designed to optimize performance across all driving conditions. The eight-speed automatic transmission includes specialized programming for off-road use with enhanced low-speed control and grade logic that prevents unnecessary shifting on steep inclines.\\n\\nFor purists who prefer maximum control, a six-speed manual transmission remains available with select engine configurations. The manual transmission features a robust design optimized for off-road use with a heavy-duty clutch and reinforced internal components that can handle the demands of extreme terrain.\\n\\nThe available Rock-Trac 4x4 system includes a two-speed transfer case with a 4:1 low-range ratio that provides exceptional crawling capability for the most challenging off-road obstacles. Electronic front and rear differential locks ensure maximum traction when individual wheels lose contact with the ground.\\n\\nUnmatched Off-Road Capability The Wrangler's off-road prowess stems from its body-on-frame construction, solid front and rear axles, and sophisticated suspension system designed specifically for extreme terrain. Ground clearance of up to 11.6 inches provides clearance for large rocks and deep ruts, while approach and departure angles of 44 and 37 degrees respectively allow navigation of steep obstacles.\\n\\nThe available Fox shocks on Rubicon models provide exceptional damping control and increased wheel travel for improved traction and comfort over rough terrain. The electronic sway bar disconnect system allows increased wheel articulation for maintaining contact with uneven surfaces.\\n\\nWater fording capability of up to 30 inches with proper equipment allows the Wrangler to traverse streams and deep water crossings that would stop conventional vehicles. Specialized breather tubes and waterproof connections protect critical components during water crossings.\\n\\nRemovable Doors and Roof Systems The 2024 Wrangler maintains its iconic open-air driving capability through removable doors and multiple roof options. The traditional soft top can be lowered or completely removed for maximum open-air experience, while the available power soft top provides convenient one-touch operation.\\n\\nHard top options include the three-piece Freedom Top with removable panels over the front seats and the Sky One-Touch power top that can retract at the touch of a button. All roof systems are designed for easy removal and storage, allowing owners to customize their driving experience based on weather and preference.\\n\\nThe removable doors include full-frame options for maximum weather protection and half-doors for enhanced visibility and airflow during off-road adventures. Quick-release mechanisms make door removal and installation straightforward without requiring special tools.\\n\\nRugged Interior Design The Wrangler's interior balances durability with comfort through the use of weather-resistant materials and thoughtful design elements. Available features include leather-appointed seating with heating, rubber floor mats that can be easily cleaned after muddy adventures, and drain plugs that allow the interior to be hosed out when necessary.\\n\\nThe dashboard layout emphasizes functionality with large, easy-to-read gauges and controls that can be operated while wearing gloves. Available technology features include an 8.4-inch touchscreen infotainment system with navigation and off-road performance monitoring.\\n\\nStorage solutions throughout the cabin include multiple tie-down points, removable floor panels for access to storage compartments, and numerous pockets and holders for securing items during off-road use.\\n\\nAdvanced Safety and Technology Despite its rugged character, the 2024 Wrangler includes comprehensive safety and driver assistance technologies. Standard features include electronic stability control with roll mitigation, hill start assist, and trailer sway control for enhanced stability during towing operations.\\n\\nAvailable advanced safety features include adaptive cruise control, forward collision warning with automatic emergency braking, and blind spot monitoring with rear cross-traffic alert. The backup camera includes dynamic grid lines and off-road camera systems provide enhanced visibility for navigating obstacles.\\n\\nThe Uconnect infotainment system includes Apple CarPlay and Android Auto compatibility, allowing seamless smartphone integration for navigation and entertainment. Available premium audio systems provide exceptional sound quality even with the top and doors removed.\\n\\nTrail-Rated Capability Jeep's Trail Rated badge signifies that the Wrangler has been tested in five key areas: traction, water fording, maneuverability, articulation, and ground clearance. This comprehensive testing ensures that Trail Rated models can handle the most challenging off-road conditions with confidence.\\n\\nThe available Selec-Trac and Command-Trac 4x4 systems provide part-time four-wheel drive with the ability to operate in two-wheel drive for improved fuel economy during on-road driving. The systems include multiple terrain modes that adjust throttle response, transmission shift points, and traction control settings for optimal performance on different surfaces.\\n\\nCustomization and Accessories The Wrangler's extensive aftermarket support and factory accessory catalog allow owners to customize their vehicles for specific uses and personal preferences. Mopar performance parts include enhanced suspension components, skid plates, rock rails, and lighting systems for serious off-road use.\\n\\nAppearance accessories range from unique wheel designs and tire options to body graphics and interior accent pieces. The modular design philosophy allows components to be easily added or removed based on changing needs and preferences.\\n\\nModel Variants and Configurations The 2024 Wrangler is available in multiple configurations including two-door and four-door (Unlimited) body styles. Trim levels include Sport, Sport S, Sahara, Rubicon, and High Altitude, each offering different levels of equipment and capability.\\n\\nThe Rubicon model represents the most capable factory off-road configuration with heavy-duty axles, electronic differential locks, disconnecting sway bars, and specialized off-road tires. The High Altitude trim focuses on luxury features while maintaining the Wrangler's essential character.\\n\\nHeritage and Legacy The Wrangler traces its lineage directly to the original Willys MB military Jeep that helped win World War II. This heritage of capability, durability, and adventure continues to define the model today, making it one of the most recognizable and respected vehicles in automotive history.\\n\\nThe passionate Jeep community provides extensive support for owners through clubs, events, and shared knowledge that enhances the ownership experience. The Wrangler's unique character and capability create lasting connections between owners who share a love of adventure and exploration.\\n\\nEnvironmental Considerations Jeep demonstrates environmental responsibility through the available 4xe plug-in hybrid variant that combines electric propulsion with traditional off-road capability. This powertrain provides zero-emissions operation for short trips while maintaining the range and capability needed for extended adventures.\\n\\nThe company's commitment to responsible off-road use includes partnerships with Tread Lightly! and other organizations that promote sustainable recreation practices to preserve trail access for future generations.\"),\n",
       " Document(metadata={}, page_content=\"Porsche 911 Carrera 2024\\n\\nIconic Sports Car Excellence\\n\\nThe 2024 Porsche 911 Carrera continues the legendary lineage of one of the world's most iconic sports cars, representing over six decades of continuous evolution and refinement. This eighth-generation 911 maintains the classic design elements that have defined the model while incorporating cutting-edge technology, enhanced performance, and improved efficiency. The 911 Carrera remains the benchmark against which all other sports cars are measured.\\n\\nRefined Flat-Six Engine Performance The heart of the 2024 911 Carrera is Porsche's renowned 3.0-liter twin-turbocharged flat-six engine, producing 379 horsepower and 331 lb-ft of torque. This sophisticated powerplant incorporates advanced technologies including variable turbine geometry turbochargers, direct fuel injection, and an integrated dry-sump lubrication system that ensures optimal performance under all driving conditions.\\n\\nThe engine's unique boxer configuration provides a low center of gravity that enhances handling while delivering the distinctive Porsche sound that enthusiasts cherish. The twin turbochargers include variable geometry technology that optimizes boost pressure across the entire rev range, providing strong low-end torque and sustained high-RPM power delivery.\\n\\nAdvanced cooling systems including separate radiators for the engine oil and transmission ensure consistent performance during extended track sessions. The sophisticated engine management system continuously monitors dozens of parameters to optimize power delivery, fuel efficiency, and emissions compliance.\\n\\nTransmission Excellence The 2024 911 Carrera offers two exceptional transmission options. The standard eight-speed PDK (Porsche Doppelkupplung) dual-clutch automatic transmission provides lightning-quick shifts and multiple driving modes that adapt to various conditions and preferences. The PDK system can execute gear changes in milliseconds while maintaining smooth operation in traffic conditions.\\n\\nFor purists who prefer maximum driver engagement, a seven-speed manual transmission remains available. This precision-engineered gearbox features a sophisticated rev-matching system that automatically blips the throttle during downshifts for seamless operation. The manual transmission includes a Sport mode that provides more aggressive throttle mapping and enhanced exhaust sound.\\n\\nBoth transmissions are perfectly matched to the engine's characteristics, providing optimal acceleration performance while maintaining excellent fuel efficiency. The 911 Carrera achieves 0-60 mph acceleration in just 4.0 seconds with PDK or 4.2 seconds with the manual transmission.\\n\\nLegendary Handling Dynamics The 2024 911 Carrera features Porsche's advanced suspension technology that provides exceptional handling while maintaining comfort for daily driving. The MacPherson strut front suspension and multi-link rear suspension include sophisticated damping control that adapts to driving conditions and selected drive modes.\\n\\nPorsche Active Suspension Management (PASM) comes standard and provides continuously variable damping adjustment based on road conditions and driving style. The system includes Normal and Sport modes that alter suspension stiffness, throttle response, and transmission behavior to match driver preferences.\\n\\nThe iconic rear-engine layout provides unique handling characteristics that have defined the 911 for decades. The weight distribution creates exceptional traction during acceleration while the sophisticated stability management systems ensure predictable handling in all conditions.\\n\\nAdvanced All-Wheel Drive Option The 911 Carrera 4 variant features Porsche's intelligent all-wheel drive system that enhances traction and stability without compromising the vehicle's sporty character. The system continuously monitors driving conditions and can transfer up to 100% of available torque to either axle as needed.\\n\\nThe electronically controlled multi-plate clutch can engage and disengage the front axle in milliseconds, providing optimal traction during acceleration while maintaining the rear-wheel drive feel during steady-state cruising. The system includes advanced sensors that detect tire slip and wheel speed differences to optimize power distribution.\\n\\nPorsche Torque Vectoring Plus (PTV Plus) works in conjunction with the all-wheel drive system to provide additional handling precision by selectively braking individual wheels and varying torque distribution to enhance cornering performance.\\n\\nLuxurious Interior Environment The interior of the 2024 911 Carrera combines classic Porsche design elements with modern luxury and technology. The dashboard layout pays homage to classic 911 models while incorporating contemporary materials and advanced displays. The central analog tachometer remains prominent, flanked by high-resolution digital displays for vehicle information.\\n\\nPremium materials throughout the cabin include available leather upholstery with contrast stitching, genuine carbon fiber trim, and soft-touch surfaces. The sport seats provide excellent support during spirited driving while maintaining comfort for long-distance touring. Available features include power adjustment, heating, ventilation, and memory settings.\\n\\nThe rear seating area provides additional passenger space or storage for luggage and personal items. While primarily designed as a 2+2 configuration, the rear seats can accommodate smaller passengers for short trips.\\n\\nAdvanced Technology Integration The 2024 911 Carrera features Porsche Communication Management (PCM) with a 10.9-inch touchscreen display that includes wireless Apple CarPlay compatibility. The system provides access to navigation, entertainment, and vehicle settings through an intuitive interface designed for easy operation while driving.\\n\\nThe available Bose surround sound system delivers exceptional audio quality through strategically positioned speakers throughout the cabin. Advanced connectivity features include wireless charging and multiple USB ports for device charging and data transfer.\\n\\nPorsche Connect services provide remote vehicle monitoring, stolen vehicle tracking, and emergency assistance capabilities. The system can also provide real-time traffic information and points of interest data to enhance navigation functionality.\\n\\nTrack-Focused Performance Options Porsche offers extensive performance options for customers who plan to use their 911 Carrera on the track. The Sport Chrono Package includes a performance-oriented steering wheel with drive mode selector, launch control function, and lap timer capability.\\n\\nThe available Porsche Ceramic Composite Brake (PCCB) system provides exceptional stopping power and fade resistance during repeated high-performance use. The carbon ceramic discs are significantly lighter than steel brakes while providing superior heat dissipation.\\n\\nPerformance suspension options include Porsche Active Suspension Management Sport (PASM Sport) with lower ride height and firmer damping rates for enhanced track performance while maintaining street usability.\\n\\nDesign Heritage and Innovation The 2024 911 Carrera maintains the timeless design proportions that have defined the model since 1963. The distinctive silhouette with its sloping roofline, wide rear fenders, and iconic headlight shape creates an instantly recognizable appearance that honors the car's heritage while appearing thoroughly modern.\\n\\nLED lighting technology throughout provides excellent visibility while creating the distinctive light signature that identifies the 911 from considerable distances. The adaptive headlights adjust beam patterns based on steering input and vehicle speed for optimal illumination.\\n\\nAvailable exterior colors range from classic choices like Guards Red and Black to sophisticated modern options like Gentian Blue Metallic and Carrara White Metallic that showcase the 911's elegant proportions.\\n\\nCustomization and Personalization Porsche's extensive options catalog allows customers to create highly personalized 911 Carrera models that reflect individual tastes and requirements. Interior options include various leather colors and textures, multiple trim materials, and custom embroidery or badging.\\n\\nPerformance options include different wheel designs ranging from 19 to 21 inches, various suspension configurations, and aerodynamic enhancements. The Porsche Exclusive Manufaktur program provides even more extensive customization possibilities for customers seeking truly unique vehicles.\\n\\nHeritage and Collectibility The 911 has maintained its position as one of the most successful and enduring sports car designs in automotive history. Each generation builds upon the strengths of its predecessors while incorporating the latest technological advances. The 2024 model continues this tradition, ensuring that the 911 remains relevant and desirable for new generations of driving enthusiasts while honoring the legacy that has made it an automotive icon.\"),\n",
       " Document(metadata={}, page_content=\"Subaru Outback 2024\\n\\nAdventure\\n\\nReady Wagon\\n\\nThe 2024 Subaru Outback continues to define the crossover wagon segment with its unique combination of SUV capability, sedan comfort, and wagon versatility. Built on Subaru's proven philosophy of safety, reliability, and all-weather capability, the Outback represents the perfect vehicle for active families and outdoor enthusiasts who refuse to compromise between everyday practicality and weekend adventure readiness.\\n\\nProven Boxer Engine Technology The 2024 Outback features Subaru's renowned horizontally opposed boxer engine configuration in two displacement options. The standard 2.5-liter naturally aspirated four-cylinder engine produces 182 horsepower and 176 lb-ft of torque, providing smooth, linear power delivery that excels in both city driving and highway cruising conditions.\\n\\nFor customers requiring additional performance, the available 2.4-liter turbocharged boxer engine generates 260 horsepower and 277 lb-ft of torque. This powerplant incorporates advanced technologies including direct injection, dual active valve control system, and a sophisticated cooling system that ensures consistent performance under all operating conditions.\\n\\nThe boxer engine's unique flat configuration provides a lower center of gravity compared to traditional inline or V-type engines, enhancing vehicle stability and handling while reducing vibration for improved refinement. The engine layout also allows for better weight distribution and improved crash safety through the engine's ability to slide underneath the passenger compartment during frontal impacts.\\n\\nLegendary Symmetrical All-Wheel Drive Every 2024 Outback comes standard with Subaru's Symmetrical All-Wheel Drive system, which provides superior traction and stability in all weather and road conditions. Unlike many competitors' AWD systems that are primarily front-wheel drive with rear engagement when needed, Subaru's system continuously sends power to all four wheels for optimal grip and control.\\n\\nThe system features a sophisticated center differential that can vary power distribution between front and rear axles based on traction conditions. Advanced sensors continuously monitor wheel slip, vehicle speed, and steering input to optimize power delivery for maximum stability and control.\\n\\nX-MODE functionality enhances the AWD system's capability by adjusting engine output, transmission mapping, and brake intervention for improved traction on challenging terrain including snow, mud, sand, and steep inclines. Hill Descent Control works in conjunction with X-MODE to maintain safe speeds when descending steep grades.\\n\\nExceptional Ground Clearance and Capability The Outback's 8.7 inches of ground clearance provides genuine SUV-level capability for navigating rough roads, rocky trails, and deep snow conditions. The approach and departure angles are optimized for off-road use while maintaining the low step-in height that makes daily use comfortable for all family members.\\n\\nProtective body cladding and underbody skid plates shield critical components from damage during off-road adventures. The water fording depth of 21 inches allows the Outback to traverse streams and deep puddles that would challenge many traditional SUVs.\\n\\nThe sophisticated suspension system balances off-road capability with on-road comfort through carefully tuned springs and dampers that absorb road irregularities while maintaining stable handling characteristics. The suspension geometry provides excellent wheel articulation for maintaining traction on uneven surfaces.\\n\\nSpacious and Versatile Interior The 2024 Outback interior maximizes space utilization with a thoughtful layout that prioritizes passenger comfort and cargo versatility. The front seats offer excellent support with available power adjustment, heating, and ventilation features. The driving position provides excellent visibility in all directions, enhancing safety and confidence during all types of driving.\\n\\nThe rear seating area provides generous legroom and headroom for adult passengers, while the 60/40 split-folding rear seats allow for flexible cargo arrangements. With the rear seats folded, the Outback provides up to 75.7 cubic feet of cargo space, easily accommodating camping gear, sports equipment, or large household items.\\n\\nThoughtful storage solutions throughout the cabin include large door pockets, multiple cup holders, and a spacious center console. The available cargo organization system includes adjustable dividers and tie-down points for securing items during transport.\\n\\nAdvanced Safety Technologies Subaru's EyeSight Driver Assist Technology comes standard on all Outback models, providing comprehensive safety and driver assistance capabilities. This system includes pre-collision braking with pedestrian and cyclist detection, adaptive cruise control with lane centering, and lane departure warning with steering assist.\\n\\nThe EyeSight system utilizes dual color cameras mounted near the rearview mirror to provide stereoscopic vision that can accurately judge distances and identify objects in the vehicle's path. This technology continuously monitors the road ahead and can automatically apply brakes or provide steering assistance to help avoid potential collisions.\\n\\nAdditional available safety features include blind spot detection with lane change assist, rear cross-traffic alert, and reverse automatic braking. The Outback has earned the Insurance Institute for Highway Safety's Top Safety Pick+ award and a five-star overall safety rating from the National Highway Traffic Safety Administration.\\n\\nSTARLINK Multimedia System The 2024 Outback features Subaru's STARLINK multimedia system with either an 11.6-inch or 12.3-inch touchscreen display depending on trim level. The system includes wireless Apple CarPlay and Android Auto compatibility, allowing seamless smartphone integration for navigation, entertainment, and communication functions.\\n\\nThe available navigation system includes real-time traffic information and points of interest data. Premium audio options include a Harman Kardon system with 12 speakers strategically positioned throughout the cabin for exceptional sound quality.\\n\\nSTARLINK connected services provide remote vehicle monitoring, emergency assistance, and stolen vehicle recovery capabilities. The system can also provide maintenance reminders and schedule service appointments with local Subaru dealers.\\n\\nOutdoor-Focused Design The Outback's design reflects its adventure-ready character with robust styling elements and functional features that support active lifestyles. The black wheel arch cladding and side body protection provide both visual appeal and practical protection against trail damage.\\n\\nAvailable roof rails and crossbars support a wide variety of cargo carriers for bikes, kayaks, skis, and cargo boxes. The power rear gate with hands-free operation makes loading and unloading cargo convenient even when hands are full.\\n\\nLED lighting throughout provides excellent visibility while creating a distinctive appearance. The available LED fog lights enhance visibility during challenging weather conditions.\\n\\nTrim Levels and Features The 2024 Outback is available in Base, Premium, Limited, Touring, and Wilderness trim levels. The base model starts at $28,895 and includes essential features like Symmetrical All-Wheel Drive, EyeSight safety technology, and the STARLINK multimedia system.\\n\\nThe Premium trim adds features like power driver's seat, heated front seats, and upgraded interior materials. The Limited model includes leather-appointed seating, power rear gate, and premium audio system. The top-tier Touring trim provides luxury amenities like ventilated front seats and navigation system.\\n\\nThe rugged Wilderness trim features enhanced off-road capability with raised suspension, unique exterior styling, and specialized all-terrain tires for maximum adventure readiness.\\n\\nEnvironmental Responsibility Subaru demonstrates environmental commitment through the Outback's efficient design and the company's zero-landfill manufacturing facilities. The vehicle achieves EPA-estimated fuel economy ratings of up to 26 mpg in the city and 35 mpg on the highway with the naturally aspirated engine.\\n\\nThe company's commitment to environmental stewardship extends to using recycled and sustainable materials in vehicle construction and maintaining carbon-neutral manufacturing facilities.\\n\\nReliability and Value The Outback benefits from Subaru's reputation for building reliable, long-lasting vehicles that retain their value over time. The comprehensive warranty includes a three-year/36,000-mile basic warranty and five-year/60,000-mile powertrain warranty.\\n\\nSubaru's extensive dealer network provides convenient service availability, while the brand's commitment to customer satisfaction ensures positive ownership experiences. The Outback's proven reliability and strong resale value make it an excellent long-term investment for families seeking dependable transportation with genuine capability.\"),\n",
       " Document(metadata={}, page_content=\"Honda Accord 2024\\n\\nExecutive Midsize Sedan Excellence\\n\\nThe 2024 Honda Accord stands as a testament to Honda's engineering prowess and commitment to delivering vehicles that exceed customer expectations. This tenth-generation model represents decades of refinement in the midsize sedan category, offering an ideal blend of performance, efficiency, comfort, and advanced technology that appeals to both families and business professionals.\\n\\nPowertrain Options and Performance The 2024 Accord features two sophisticated powertrain options designed to meet diverse driving needs. The standard 1.5-liter turbocharged four-cylinder engine produces 192 horsepower and 192 lb-ft of torque, delivering responsive acceleration while maintaining excellent fuel economy. This engine incorporates Honda's VTEC technology and direct injection for optimal performance across all driving conditions.\\n\\nFor those requiring additional power, the available 2.0-liter turbocharged four-cylinder engine generates an impressive 252 horsepower and 273 lb-ft of torque. This engine features a sophisticated cooling system and advanced turbocharger technology that delivers smooth, linear power delivery throughout the rev range.\\n\\nBoth engines are paired with Honda's continuously variable transmission (CVT) that has been specifically tuned for smooth operation and maximum efficiency. The CVT includes simulated gear steps and paddle shifters for drivers who prefer more control over their driving experience.\\n\\nFuel Efficiency and Environmental Impact The 2024 Accord demonstrates Honda's commitment to environmental responsibility through exceptional fuel efficiency ratings. The 1.5-liter turbocharged engine achieves an EPA-estimated 32 mpg in the city and 42 mpg on the highway, making it one of the most fuel-efficient non-hybrid sedans in its class.\\n\\nThe Accord Hybrid variant takes efficiency to the next level, combining a 2.0-liter Atkinson-cycle four-cylinder engine with Honda's innovative two-motor hybrid system. This configuration produces 204 total system horsepower while achieving an remarkable 48 mpg in both city and highway driving conditions.\\n\\nInterior Luxury and Practicality Honda has crafted the Accord's interior to provide a premium experience that rivals luxury vehicles costing significantly more. The cabin features high-quality materials throughout, including available leather-appointed seating with contrast stitching and genuine wood trim accents. The front seats offer excellent ergonomics with available power adjustment, heating, and ventilation features for optimal comfort during long journeys.\\n\\nThe rear passenger area provides class-leading space with 40.4 inches of legroom and 37.5 inches of headroom, ensuring adult passengers travel in comfort. The trunk offers 16.7 cubic feet of cargo capacity, easily accommodating multiple suitcases or golf bags. The 60/40 split-folding rear seats allow for additional cargo flexibility when needed.\\n\\nAdvanced Technology Integration The 2024 Accord showcases Honda's latest technological innovations through its comprehensive infotainment system. The standard 8-inch touchscreen display includes wireless Apple CarPlay and Android Auto compatibility, allowing seamless smartphone integration without cables. Higher trim levels feature a premium 12.3-inch digital instrument display that provides customizable layouts for vehicle information, navigation, and entertainment controls.\\n\\nThe available Bose premium audio system delivers exceptional sound quality through strategically placed speakers throughout the cabin. Wireless charging capability keeps compatible devices powered, while multiple USB ports ensure all passengers can stay connected during travel.\\n\\nHonda SENSING Safety Suite Every 2024 Accord comes standard with Honda SENSING, a comprehensive suite of advanced safety and driver assistance technologies. This includes collision mitigation braking system with pedestrian detection, road departure mitigation, lane keeping assist, and adaptive cruise control with low-speed follow capability.\\n\\nAdditional available safety features include blind spot information system, cross traffic monitor, and parking sensors with automatic emergency braking. The Accord has earned a five-star overall safety rating from NHTSA and Top Safety Pick+ designation from IIHS.\\n\\nDesign and Styling The 2024 Accord features sophisticated exterior styling that conveys both elegance and athleticism. The bold front grille with LED headlights creates a distinctive appearance, while the coupe-like roofline and sculpted body panels provide a dynamic profile. Available 19-inch alloy wheels and chrome accents add to the premium appearance.\\n\\nColor options include traditional choices like Platinum White Pearl and Crystal Black Pearl, as well as distinctive options like Radiant Red Metallic and Still Night Pearl that showcase the Accord's sophisticated character.\\n\\nTrim Levels and Equipment The 2024 Accord lineup offers four distinct trim levels to accommodate various preferences and budgets. The base LX model starts at $26,120 and includes essential features like dual-zone automatic climate control, Honda SENSING safety suite, and the 8-inch touchscreen infotainment system.\\n\\nThe Sport trim ($31,290) adds the turbocharged 2.0-liter engine, sport-tuned suspension, and unique styling elements including red interior accents and 19-inch wheels. The EX trim ($32,990) focuses on comfort and convenience with leather seating, wireless charging, and premium audio system.\\n\\nThe top-tier Touring trim ($37,200) provides luxury-level amenities including heated and ventilated front seats, adaptive LED headlights, and head-up display system that projects important information directly onto the windshield.\\n\\nReliability and Ownership Experience Honda's reputation for building reliable, long-lasting vehicles is well-established, and the 2024 Accord continues this tradition. The vehicle is backed by a comprehensive three-year/36,000-mile limited warranty and five-year/60,000-mile powertrain warranty. Honda also provides roadside assistance and covers the first two scheduled maintenance visits.\\n\\nThe Accord consistently ranks among the most reliable midsize sedans, with many owners reporting trouble-free operation well beyond 200,000 miles. Honda's extensive dealer network ensures convenient service availability, while the brand's commitment to using high-quality components helps minimize long-term ownership costs.\\n\\nMarket Position and Value The 2024 Honda Accord represents exceptional value in the highly competitive midsize sedan segment. Its combination of reliability, fuel efficiency, advanced safety features, and spacious interior makes it an ideal choice for families, commuters, and business professionals who demand both practicality and refinement in their daily transportation needs.\")]"
      ]
     },
     "execution_count": 71,
     "metadata": {},
     "output_type": "execute_result"
    }
   ],
   "source": [
    "docs = load_full_documents(\"./example_inputs/\", debug = True)\n",
    "docs"
   ]
  },
  {
   "cell_type": "code",
   "execution_count": 72,
   "id": "e5900d58",
   "metadata": {},
   "outputs": [],
   "source": [
    "def retriever_nosplit(corpus_dir = \"./corpus/\", debug = False):\n",
    "    docs = load_full_documents(corpus_dir, debug = debug)\n",
    "    vectordb = create_database(docs, debug = debug)\n",
    "    if debug:\n",
    "        print(\"Creating retriever from vector database...\")\n",
    "    retriever = vectordb.as_retriever()\n",
    "    return retriever"
   ]
  },
  {
   "cell_type": "code",
   "execution_count": 73,
   "id": "72f9b73a",
   "metadata": {},
   "outputs": [
    {
     "name": "stdout",
     "output_type": "stream",
     "text": [
      "Loading documents from ./example_inputs/...\n",
      "Filtering complex metadata...\n",
      "Initializing embeddings with model: text-embedding-3-small, deployment: text-embedding-3-small\n",
      "Creating vector database with 10 documents...\n"
     ]
    },
    {
     "name": "stderr",
     "output_type": "stream",
     "text": [
      "INFO: HTTP Request: POST https://paulo-mcw0r95x-eastus2.cognitiveservices.azure.com/openai/deployments/text-embedding-3-small/embeddings?api-version=2024-12-01-preview \"HTTP/1.1 200 OK\"\n"
     ]
    },
    {
     "name": "stdout",
     "output_type": "stream",
     "text": [
      "Creating retriever from vector database...\n"
     ]
    },
    {
     "name": "stderr",
     "output_type": "stream",
     "text": [
      "INFO: HTTP Request: POST https://paulo-mcw0r95x-eastus2.cognitiveservices.azure.com/openai/deployments/text-embedding-3-small/embeddings?api-version=2024-12-01-preview \"HTTP/1.1 200 OK\"\n",
      "INFO: HTTP Request: POST https://paulo-mcw0r95x-eastus2.cognitiveservices.azure.com/openai/deployments/text-embedding-3-small/embeddings?api-version=2024-12-01-preview \"HTTP/1.1 200 OK\"\n"
     ]
    },
    {
     "data": {
      "text/plain": [
       "[Document(id='eff043e4-a59f-41fe-8476-69a58853fcee', metadata={'filetype': 'text/plain', 'filename': 'bmw_3series_2024.txt', 'element_id': '13ef0961df231caad8d9f14677373220', 'file_directory': './example_inputs', 'parent_id': '2259b4a98394c3141eb5a2b1cfd2d020', 'category': 'NarrativeText', 'last_modified': '2025-07-24T15:17:12', 'source': './example_inputs/bmw_3series_2024.txt'}, page_content='The available 12.3-inch digital instrument cluster provides customizable displays for vehicle information, navigation, and performance data. The head-up display projects critical information directly onto the windshield, allowing drivers to maintain focus on the road ahead.'),\n",
       " Document(id='fd9b56fd-be53-44ba-ad2e-2c7afc8f70e1', metadata={'parent_id': '2259b4a98394c3141eb5a2b1cfd2d020', 'category': 'NarrativeText', 'filetype': 'text/plain', 'file_directory': './example_inputs', 'source': './example_inputs/bmw_3series_2024.txt', 'filename': 'bmw_3series_2024.txt', 'last_modified': '2025-07-24T15:17:12', 'element_id': '13ef0961df231caad8d9f14677373220'}, page_content='The available 12.3-inch digital instrument cluster provides customizable displays for vehicle information, navigation, and performance data. The head-up display projects critical information directly onto the windshield, allowing drivers to maintain focus on the road ahead.'),\n",
       " Document(id='83ceabe4-23bb-4ce4-a556-b7edb7b3c850', metadata={'element_id': '13ef0961df231caad8d9f14677373220', 'source': './example_inputs/bmw_3series_2024.txt', 'filename': 'bmw_3series_2024.txt', 'parent_id': '2259b4a98394c3141eb5a2b1cfd2d020', 'file_directory': './example_inputs', 'filetype': 'text/plain', 'category': 'NarrativeText', 'last_modified': '2025-07-24T15:17:12'}, page_content='The available 12.3-inch digital instrument cluster provides customizable displays for vehicle information, navigation, and performance data. The head-up display projects critical information directly onto the windshield, allowing drivers to maintain focus on the road ahead.'),\n",
       " Document(id='b06da3c7-6f87-448a-a90e-e13c17653345', metadata={'category': 'NarrativeText', 'parent_id': '2259b4a98394c3141eb5a2b1cfd2d020', 'last_modified': '2025-07-24T15:17:12', 'file_directory': './example_inputs', 'source': './example_inputs/bmw_3series_2024.txt', 'filetype': 'text/plain', 'filename': 'bmw_3series_2024.txt', 'element_id': '13ef0961df231caad8d9f14677373220'}, page_content='The available 12.3-inch digital instrument cluster provides customizable displays for vehicle information, navigation, and performance data. The head-up display projects critical information directly onto the windshield, allowing drivers to maintain focus on the road ahead.'),\n",
       " Document(id='61d1983a-ea80-499b-92da-fb7cb8e5568c', metadata={'element_id': 'b373aa446f6fd7009219d2ebf7ba0fe2', 'filetype': 'text/plain', 'category': 'NarrativeText', 'source': './example_inputs/audi_a4_2024.txt', 'file_directory': './example_inputs', 'filename': 'audi_a4_2024.txt', 'parent_id': '97a4fe3f7cf75b893b0c058cd61d887a', 'last_modified': '2025-07-24T15:17:12'}, page_content=\"Virtual Cockpit Technology The 2024 A4 features Audi's revolutionary Virtual Cockpit, a 12.3-inch high-resolution digital instrument display that replaces traditional analog gauges. This advanced system provides customizable layouts for vehicle information, navigation maps, entertainment controls, and performance data. Drivers can switch between Classic view that mimics traditional gauges and Infotainment view that prioritizes navigation and media information.\"),\n",
       " Document(id='329bd04e-4645-4248-8b12-d765e09ec07b', metadata={'category': 'NarrativeText', 'parent_id': '97a4fe3f7cf75b893b0c058cd61d887a', 'filetype': 'text/plain', 'element_id': 'b373aa446f6fd7009219d2ebf7ba0fe2', 'source': './example_inputs/audi_a4_2024.txt', 'filename': 'audi_a4_2024.txt', 'last_modified': '2025-07-24T15:17:12', 'file_directory': './example_inputs'}, page_content=\"Virtual Cockpit Technology The 2024 A4 features Audi's revolutionary Virtual Cockpit, a 12.3-inch high-resolution digital instrument display that replaces traditional analog gauges. This advanced system provides customizable layouts for vehicle information, navigation maps, entertainment controls, and performance data. Drivers can switch between Classic view that mimics traditional gauges and Infotainment view that prioritizes navigation and media information.\"),\n",
       " Document(id='fc01cefa-f89d-456d-9194-901bf5a40856', metadata={'file_directory': './example_inputs', 'source': './example_inputs/audi_a4_2024.txt', 'filename': 'audi_a4_2024.txt', 'parent_id': '97a4fe3f7cf75b893b0c058cd61d887a', 'last_modified': '2025-07-24T15:17:12', 'filetype': 'text/plain', 'category': 'NarrativeText', 'element_id': 'b373aa446f6fd7009219d2ebf7ba0fe2'}, page_content=\"Virtual Cockpit Technology The 2024 A4 features Audi's revolutionary Virtual Cockpit, a 12.3-inch high-resolution digital instrument display that replaces traditional analog gauges. This advanced system provides customizable layouts for vehicle information, navigation maps, entertainment controls, and performance data. Drivers can switch between Classic view that mimics traditional gauges and Infotainment view that prioritizes navigation and media information.\"),\n",
       " Document(id='a941d6fb-dbdb-479b-95b9-5f6fb5cad409', metadata={'last_modified': '2025-07-24T15:17:12', 'source': './example_inputs/audi_a4_2024.txt', 'file_directory': './example_inputs', 'filetype': 'text/plain', 'parent_id': '97a4fe3f7cf75b893b0c058cd61d887a', 'filename': 'audi_a4_2024.txt', 'element_id': 'b373aa446f6fd7009219d2ebf7ba0fe2', 'category': 'NarrativeText'}, page_content=\"Virtual Cockpit Technology The 2024 A4 features Audi's revolutionary Virtual Cockpit, a 12.3-inch high-resolution digital instrument display that replaces traditional analog gauges. This advanced system provides customizable layouts for vehicle information, navigation maps, entertainment controls, and performance data. Drivers can switch between Classic view that mimics traditional gauges and Infotainment view that prioritizes navigation and media information.\")]"
      ]
     },
     "execution_count": 73,
     "metadata": {},
     "output_type": "execute_result"
    }
   ],
   "source": [
    "test_retriever = retriever_nosplit(corpus_dir = \"./example_inputs/\", debug = True)\n",
    "docs_question = test_retriever.get_relevant_documents(\"Which car model features a 12.3-inch high-resolution digital instrument display that replaces traditional analog gauges?\")\n",
    "docs_answer = test_retriever.get_relevant_documents(\"The Audi 2024 features a 12.3-inch high-resolution digital instrument display that replaces traditional analog gauges.\")\n",
    "docs_question + docs_answer"
   ]
  }
 ],
 "metadata": {
  "kernelspec": {
   "display_name": ".venv (3.12.3)",
   "language": "python",
   "name": "python3"
  },
  "language_info": {
   "codemirror_mode": {
    "name": "ipython",
    "version": 3
   },
   "file_extension": ".py",
   "mimetype": "text/x-python",
   "name": "python",
   "nbconvert_exporter": "python",
   "pygments_lexer": "ipython3",
   "version": "3.12.3"
  }
 },
 "nbformat": 4,
 "nbformat_minor": 5
}
