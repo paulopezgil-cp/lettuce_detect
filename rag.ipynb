{
 "cells": [
  {
   "cell_type": "markdown",
   "id": "7885d414",
   "metadata": {},
   "source": [
    "# 1. Description of the project\n",
    "\n",
    "In this project, a RAG system is implemented and used in combination with LettuceDetect.\n",
    "\n",
    "# 2. Setup\n",
    "\n",
    "1. **Install these packages:**"
   ]
  },
  {
   "cell_type": "code",
   "execution_count": null,
   "id": "0477ba76",
   "metadata": {},
   "outputs": [],
   "source": [
    "%pip install -qq langchain langchain-unstructured langchain-chroma langchain-openai unstructured langchain-community unstructured[pdf] dotenv lettucedetect gradio ipykernel"
   ]
  },
  {
   "cell_type": "markdown",
   "id": "09f4b2de",
   "metadata": {},
   "source": [
    "2. **Import the necessary modules**"
   ]
  },
  {
   "cell_type": "code",
   "execution_count": null,
   "id": "46796ec0",
   "metadata": {},
   "outputs": [],
   "source": [
    "from langchain.text_splitter import RecursiveCharacterTextSplitter\n",
    "from langchain_unstructured import UnstructuredLoader\n",
    "from langchain_openai import AzureOpenAIEmbeddings\n",
    "from langchain_chroma.vectorstores import Chroma\n",
    "from langchain_community.vectorstores.utils import filter_complex_metadata\n",
    "from langchain_core.documents.base import Document\n",
    "import os\n",
    "from dotenv import load_dotenv, find_dotenv\n",
    "from lettucedetect.models.inference import HallucinationDetector\n",
    "import gradio as gr"
   ]
  },
  {
   "cell_type": "markdown",
   "id": "2af561e9",
   "metadata": {},
   "source": [
    "3. **Deploy an Azure OpenAI LLM resource and embedding resource**\n",
    "\n",
    "    Use the following link: https://ai.azure.com/\n",
    "4. **Save the details to the .env file:**\n",
    "    ```bash\n",
    "    echo AZURE_OPENAI_API_KEY=\\\"your-api-key-here\\\" >> .env\n",
    "    echo AZURE_OPENAI_API_VERSION=\\\"your-version-here\\\" >> .env\n",
    "    echo AZURE_OPENAI_ENDPOINT=\\\"your-endpoint-here\\\" >> .env\n",
    "    echo GPT_MODEL=\\\"your-llm-model-here\\\" >> .env\n",
    "    echo EMBEDDINGS_MODEL_NAME=\\\"your-embeddings-model-here\\\" >> .env\n",
    "    echo EMBEDDINGS_DEPLOYMENT=\\\"your-embeddings-deployment-here\\\" >> .env\n",
    "    ```"
   ]
  },
  {
   "cell_type": "markdown",
   "id": "add108f6",
   "metadata": {},
   "source": [
    "# 3. ChromaDB setup"
   ]
  },
  {
   "cell_type": "markdown",
   "id": "1d2abe90",
   "metadata": {},
   "source": [
    "## 3.1 The text splitter\n",
    "\n",
    "The text splitter divides documents into manageable chunks to optimize downstream processing and retrieval in RAG workflows."
   ]
  },
  {
   "cell_type": "code",
   "execution_count": null,
   "id": "5f04b464",
   "metadata": {},
   "outputs": [],
   "source": [
    "\n",
    "def text_splitter(data, debug = False):\n",
    "    \"\"\" Split the documents into chunks.\"\"\"\n",
    "    if debug:\n",
    "        print(\"--- In function text_splitter ---\\n\"\n",
    "              f\"Splitting {len(data)} documents into chunks...\\n\"\n",
    "        )\n",
    "\n",
    "    # Split the documents into chunks of 1000 characters\n",
    "    # with an overlap of 50 characters\n",
    "    text_splitter = RecursiveCharacterTextSplitter(\n",
    "        chunk_size=1000,\n",
    "        chunk_overlap=50,\n",
    "        length_function=len,\n",
    "    )\n",
    "    chunks = text_splitter.split_documents(data)\n",
    "    return chunks"
   ]
  },
  {
   "cell_type": "markdown",
   "id": "7c8f83fd",
   "metadata": {},
   "source": [
    "## 3.2 The document loader\n",
    "\n",
    "The document loader reads and parses files from the corpus directory into structured document objects for downstream processing."
   ]
  },
  {
   "cell_type": "code",
   "execution_count": null,
   "id": "235c37c2",
   "metadata": {},
   "outputs": [],
   "source": [
    "def load_documents(corpus_dir: str = \"\", debug = False):\n",
    "    \"\"\"Load documents from the specified corpus directory.\"\"\"\n",
    "    if debug:\n",
    "        print(\"--- In function load_documents ---\")\n",
    "    loaded_docs = []\n",
    "\n",
    "    # Load all documents from the specified corpus directory\n",
    "    if corpus_dir:\n",
    "        if debug:\n",
    "            print(f\"Loading documents from corpus directory: {corpus_dir}\\n\")\n",
    "        for file in os.listdir(corpus_dir):\n",
    "            if debug:\n",
    "                print(f\"Loading {file}...\")\n",
    "            loader = UnstructuredLoader(corpus_dir + file, mode = 'single')\n",
    "            loaded_docs.extend(loader.load())\n",
    "\n",
    "    # Filter complex metadata from loaded documents\n",
    "    if debug:\n",
    "        print(\"Filtering complex metadata...\\n\")\n",
    "    filtered_docs = filter_complex_metadata(loaded_docs)\n",
    "\n",
    "    return filtered_docs"
   ]
  },
  {
   "cell_type": "markdown",
   "id": "f8207d2a",
   "metadata": {},
   "source": [
    "## 3.3 The embedding client\n",
    "\n",
    "The embedding client initializes and manages Azure OpenAI embeddings for converting text into vector representations."
   ]
  },
  {
   "cell_type": "code",
   "execution_count": null,
   "id": "821f66fb",
   "metadata": {},
   "outputs": [],
   "source": [
    "def embeddings(debug = False):\n",
    "    \"\"\" Initialize and return an Azure OpenAI embeddings client. \"\"\"\n",
    "    load_dotenv(find_dotenv())\n",
    "    model = os.getenv('EMBEDDINGS_MODEL_NAME')\n",
    "    api_key = os.getenv('AZURE_OPENAI_API_KEY')\n",
    "    api_version = os.getenv(\"AZURE_OPENAI_API_VERSION\")\n",
    "    azure_endpoint = os.getenv(\"AZURE_OPENAI_ENDPOINT\")\n",
    "    azure_deployment = os.getenv(\"EMBEDDINGS_DEPLOYMENT\")\n",
    "\n",
    "    # Validate required environment variables\n",
    "    if not all([model, api_key, api_version, azure_endpoint, azure_deployment]):\n",
    "        raise ValueError(\n",
    "            \"Missing environment variables.\\n \\\n",
    "            Please add all the required environment variables \\\n",
    "            in the .env file:\\n \\\n",
    "            EMBEDDINGS_MODEL_NAME, AZURE_OPENAI_API_KEY, \\\n",
    "            AZURE_OPENAI_API_VERSION, AZURE_OPENAI_ENDPOINT, \\\n",
    "            EMBEDDINGS_DEPLOYMENT\"\n",
    "        )\n",
    "    \n",
    "    # Initialize and return an Azure OpenAI embeddings client\n",
    "    if debug:\n",
    "        print(\"--- In function embeddings ---\\n\"\n",
    "              f\"Initializing embeddings with model: {model}, \"\n",
    "              \"deployment: {azure_deployment}\\n\"\n",
    "        )\n",
    "    embeddings = AzureOpenAIEmbeddings(\n",
    "        model = model,\n",
    "        api_key = api_key,\n",
    "        api_version = api_version,\n",
    "        azure_endpoint = azure_endpoint,\n",
    "        azure_deployment = azure_deployment,\n",
    "    )\n",
    "    return embeddings"
   ]
  },
  {
   "cell_type": "markdown",
   "id": "09efc443",
   "metadata": {},
   "source": [
    "## 3.4 The vector database\n",
    "\n",
    "The vector database stores document embeddings for fast similarity search and retrieval. Built with Chroma, it enables efficient access to relevant document chunks in RAG workflows."
   ]
  },
  {
   "cell_type": "code",
   "execution_count": null,
   "id": "87c2d5ef",
   "metadata": {},
   "outputs": [],
   "source": [
    "def create_database(document_list, debug = False):\n",
    "    \"\"\"\n",
    "    Initialize a database from a given corpus of documents.\n",
    "    \"\"\"    \n",
    "    # Create a Chroma vector store from the documents\n",
    "    if debug:\n",
    "        print(\"--- In function create_database ---\\n\"\n",
    "              f\"Creating vector database\"\n",
    "              f\"with {len(document_list)} documents...\\n\"\n",
    "    )\n",
    "        \n",
    "    # Return the vector store\n",
    "    return Chroma.from_documents(documents = document_list,\n",
    "                                 embedding = embeddings(debug = debug))"
   ]
  },
  {
   "cell_type": "markdown",
   "id": "96237913",
   "metadata": {},
   "source": [
    "## 3.5 Test retriever\n",
    "\n",
    "The retriever fetches relevant document chunks from the vector database using embeddings to match user queries with semantically similar content for efficient retrieval in RAG workflows. It is not based on LLMs, but purely on a similarity search algorithm."
   ]
  },
  {
   "cell_type": "code",
   "execution_count": null,
   "id": "081902dc",
   "metadata": {},
   "outputs": [],
   "source": [
    "# Load documents from the specified corpus directory\n",
    "test_docs = load_documents(corpus_dir = \"./example_inputs/\", debug = True)\n",
    "test_docs"
   ]
  },
  {
   "cell_type": "code",
   "execution_count": null,
   "id": "e80c6b8a",
   "metadata": {},
   "outputs": [],
   "source": [
    "# Test if the metadata attribute 'source' exists in the first document\n",
    "test_docs[0].metadata['source']"
   ]
  },
  {
   "cell_type": "code",
   "execution_count": null,
   "id": "d5992ba8",
   "metadata": {},
   "outputs": [],
   "source": [
    "# Split the loaded documents into chunks\n",
    "test_chunks = text_splitter(test_docs, debug = True)\n",
    "print(f\"Number of chunks created: {len(test_chunks)}\")\n",
    "test_chunks"
   ]
  },
  {
   "cell_type": "code",
   "execution_count": null,
   "id": "ff483219",
   "metadata": {},
   "outputs": [],
   "source": [
    "# Create a vector database from the chunks\n",
    "test_vectordb = create_database(test_chunks, debug = True)"
   ]
  },
  {
   "cell_type": "code",
   "execution_count": null,
   "id": "84ff6cf6",
   "metadata": {},
   "outputs": [],
   "source": [
    "test_retriever = test_vectordb.as_retriever()\n",
    "test_retriever"
   ]
  },
  {
   "cell_type": "code",
   "execution_count": 97,
   "id": "8ef5f865",
   "metadata": {},
   "outputs": [
    {
     "name": "stderr",
     "output_type": "stream",
     "text": [
      "INFO: HTTP Request: POST https://paulo-mcw0r95x-eastus2.cognitiveservices.azure.com/openai/deployments/text-embedding-3-small/embeddings?api-version=2024-12-01-preview \"HTTP/1.1 200 OK\"\n"
     ]
    },
    {
     "data": {
      "text/plain": [
       "[Document(id='2b14eb3a-a9f0-40ed-9c3c-527b06825f19', metadata={'last_modified': '2025-07-24T15:17:12', 'filetype': 'text/plain', 'filename': 'subaru_outback_2024.txt', 'source': './example_inputs/subaru_outback_2024.txt', 'element_id': 'b47ab1d7c20d2874961163b822179998', 'parent_id': '70b2e634c576d45f33bdd0a4229dcfe1', 'file_directory': './example_inputs', 'category': 'NarrativeText'}, page_content=\"Exceptional Ground Clearance and Capability The Outback's 8.7 inches of ground clearance provides genuine SUV-level capability for navigating rough roads, rocky trails, and deep snow conditions. The approach and departure angles are optimized for off-road use while maintaining the low step-in height that makes daily use comfortable for all family members.\"),\n",
       " Document(id='ebf6ff1c-2f15-4a21-942e-ab1f16a8dcf9', metadata={'source': './temp/subaru_outback_2024.txt', 'category': 'NarrativeText', 'last_modified': '2025-07-29T11:16:59', 'parent_id': '70b2e634c576d45f33bdd0a4229dcfe1', 'file_directory': './temp', 'element_id': 'b47ab1d7c20d2874961163b822179998', 'filetype': 'text/plain', 'filename': 'subaru_outback_2024.txt'}, page_content=\"Exceptional Ground Clearance and Capability The Outback's 8.7 inches of ground clearance provides genuine SUV-level capability for navigating rough roads, rocky trails, and deep snow conditions. The approach and departure angles are optimized for off-road use while maintaining the low step-in height that makes daily use comfortable for all family members.\"),\n",
       " Document(id='4412cb67-9de2-423f-bae2-8b5670f82648', metadata={'category': 'NarrativeText', 'last_modified': '2025-07-24T15:17:12', 'element_id': 'b47ab1d7c20d2874961163b822179998', 'file_directory': './example_inputs', 'source': './example_inputs/subaru_outback_2024.txt', 'filename': 'subaru_outback_2024.txt', 'parent_id': '70b2e634c576d45f33bdd0a4229dcfe1', 'filetype': 'text/plain'}, page_content=\"Exceptional Ground Clearance and Capability The Outback's 8.7 inches of ground clearance provides genuine SUV-level capability for navigating rough roads, rocky trails, and deep snow conditions. The approach and departure angles are optimized for off-road use while maintaining the low step-in height that makes daily use comfortable for all family members.\"),\n",
       " Document(id='0b691415-e524-4687-beb0-1be53e4ecbe4', metadata={'file_directory': './example_inputs', 'source': './example_inputs/subaru_outback_2024.txt', 'filetype': 'text/plain', 'parent_id': '70b2e634c576d45f33bdd0a4229dcfe1', 'element_id': 'b47ab1d7c20d2874961163b822179998', 'filename': 'subaru_outback_2024.txt', 'category': 'NarrativeText', 'last_modified': '2025-07-24T15:17:12'}, page_content=\"Exceptional Ground Clearance and Capability The Outback's 8.7 inches of ground clearance provides genuine SUV-level capability for navigating rough roads, rocky trails, and deep snow conditions. The approach and departure angles are optimized for off-road use while maintaining the low step-in height that makes daily use comfortable for all family members.\")]"
      ]
     },
     "execution_count": 97,
     "metadata": {},
     "output_type": "execute_result"
    }
   ],
   "source": [
    "test_relevant_docs = test_retriever.get_relevant_documents(\"\"\"\n",
    "    Which car model provides exceptional ground clearance and capability?\n",
    "\"\"\")\n",
    "test_relevant_docs"
   ]
  },
  {
   "cell_type": "code",
   "execution_count": null,
   "id": "a2554e61",
   "metadata": {},
   "outputs": [],
   "source": [
    "for idx, doc in enumerate(test_relevant_docs):\n",
    "    print(f\"{idx}: {doc.metadata['source']}\")"
   ]
  },
  {
   "cell_type": "code",
   "execution_count": null,
   "id": "b7b381d6",
   "metadata": {},
   "outputs": [],
   "source": [
    "# Return the complete retrieved documents\n",
    "test_sources = {doc.metadata.get('source') for doc in test_relevant_docs if 'source' in doc.metadata}\n",
    "test_sources"
   ]
  },
  {
   "cell_type": "markdown",
   "id": "ce2c90de",
   "metadata": {},
   "source": [
    "# 4. The Hallucination detector"
   ]
  },
  {
   "cell_type": "code",
   "execution_count": null,
   "id": "aa8ac4d5",
   "metadata": {},
   "outputs": [],
   "source": [
    "def detect_hallucinations(context, question, answer, debug = False):\n",
    "    if debug:\n",
    "        print(\"-- In function detect_hallucinations ---\\n\"\n",
    "              f\"Predicting hallucination for question: {question}\"\n",
    "              f\"with answer: {answer}\\n\"\n",
    "        )\n",
    "\n",
    "    # Initialize the hallucination detector with a transformer model\n",
    "    detector = HallucinationDetector(\n",
    "        method=\"transformer\",\n",
    "        model_path=\"KRLabsOrg/lettucedect-base-modernbert-en-v1\"\n",
    "    )\n",
    "\n",
    "    # Predict hallucination using the detector\n",
    "    result = detector.predict(context = context,\n",
    "                              question = question,\n",
    "                              answer = answer,\n",
    "                              output_format = \"spans\")\n",
    "    return result"
   ]
  },
  {
   "cell_type": "markdown",
   "id": "485658c4",
   "metadata": {},
   "source": [
    "# 5. The interface\n",
    "\n",
    "In this section a GUI is created for the tests."
   ]
  },
  {
   "cell_type": "markdown",
   "id": "e045e76c",
   "metadata": {},
   "source": [
    "## 5.1 The Corpus class"
   ]
  },
  {
   "cell_type": "code",
   "execution_count": null,
   "id": "dc78aeeb",
   "metadata": {},
   "outputs": [],
   "source": [
    "class Corpus:\n",
    "    \"\"\"\n",
    "    A class to handle corpus creation and file uploads.\n",
    "    \"\"\"\n",
    "\n",
    "    def __init__(self, corpus_dir: str = \"./corpus/\", keep_files = False,\n",
    "                 debug = False):\n",
    "        \"\"\"\n",
    "        Initialize the Corpus with a directory path.\n",
    "\n",
    "        If the directory exists, it will be emptied by default.\n",
    "        \"\"\"\n",
    "        if debug:\n",
    "            print(\"--- In Corpus constructor ---\\n\"\n",
    "                  f\"Creating corpus at {corpus_dir}...\\n\"\n",
    "            )\n",
    "        \n",
    "        # Save the directory for later\n",
    "        self.directory = corpus_dir\n",
    "\n",
    "        # Unless specified, empty the specified corpus directory\n",
    "        if not keep_files:\n",
    "            if os.path.exists(self.directory):\n",
    "                for f in os.listdir(self.directory):\n",
    "                    os.remove(os.path.join(self.directory, f))\n",
    "            os.makedirs(self.directory, exist_ok=True)\n",
    "\n",
    "    def upload_files(self, uploaded_files, debug = False):\n",
    "        \"\"\"\n",
    "        Save the uploaded files to the corpus directory\n",
    "        \"\"\"\n",
    "        if debug:\n",
    "            print(\"--- In function Retriever.upload_files ---\\n\"\n",
    "                  f\"Uploading {len(uploaded_files)} files \"\n",
    "                  \"to corpus directory...\\n\"\n",
    "            )\n",
    "\n",
    "        if not uploaded_files:\n",
    "            if debug:\n",
    "                print(\"No files uploaded.\\n\")\n",
    "            raise ValueError(\n",
    "                \"No files uploaded. Please upload files to create a corpus.\"\n",
    "            )\n",
    "\n",
    "        # Save each uploaded file to the corpus directory\n",
    "        for file in uploaded_files:\n",
    "            filename = os.path.basename(file.name)\n",
    "            src = open(file.name, \"rb\")\n",
    "            dst = open(os.path.join(self.directory, filename), \"wb\")\n",
    "            dst.write(src.read())"
   ]
  },
  {
   "cell_type": "markdown",
   "id": "1ce1a063",
   "metadata": {},
   "source": [
    "## 5.2 The Retriever class"
   ]
  },
  {
   "cell_type": "code",
   "execution_count": null,
   "id": "1e461cf9",
   "metadata": {},
   "outputs": [],
   "source": [
    "class Retriever:\n",
    "    \"\"\"\n",
    "    A retriever class to handle document retrieva from a given corpus directory.\n",
    "    \"\"\"\n",
    "    def __init__(self, corpus: Corpus, debug = False):\n",
    "        \"\"\"\n",
    "        Initialize the retriever with a corpus directory\n",
    "        \"\"\"\n",
    "\n",
    "        if debug:\n",
    "            print(\"--- In Retriever constructor ---\\n\"\n",
    "                  f\"Creating retriever from {corpus.directory}...\\n\"\n",
    "            )\n",
    "\n",
    "        # Save the corpus directory\n",
    "        self.corpus = corpus\n",
    "\n",
    "        # Using instance variables so the destructor is not called\n",
    "        self.docs = load_documents(self.corpus.directory, debug = debug)\n",
    "        self.chunks = text_splitter(self.docs, debug = debug)\n",
    "        self.vectordb = create_database(self.chunks, debug = debug)\n",
    "        self.retriever = self.vectordb.as_retriever()\n",
    "\n",
    "    def get_full_docs(doc_list: list[Document], debug = False):\n",
    "        \"\"\" Load full documents from the specified filepaths. \"\"\"\n",
    "\n",
    "        if debug:\n",
    "            print(\"--- In function get_full_docs ---\\n\"\n",
    "                f\"Loading full documents from {len(filepaths)} filepaths...\\n\"\n",
    "            )\n",
    "\n",
    "        # Extract the sources from the document metadata\n",
    "        sources = {doc.metadata.get('source')\n",
    "            for doc in doc_list\n",
    "            if 'source' in doc.metadata\n",
    "        }\n",
    "\n",
    "        # For each path, add the file content to the list of full documents\n",
    "        full_docs = []\n",
    "        for path in sources:\n",
    "            with open(path, 'r', encoding='utf-8') as file:\n",
    "                document_content = file.read()\n",
    "                full_docs.append(document_content)\n",
    "            if debug:\n",
    "                print(f\"Loaded document: {path}\")\n",
    "        return full_docs\n",
    "    \n",
    "    def deep_search(self, answer: str, retrieved_docs: list[Document],\n",
    "                    debug = False):\n",
    "        \"\"\"\n",
    "        Retrieve additional context documents relevant to the answer\n",
    "        In the documents retrieved for the question\n",
    "        \"\"\"\n",
    "\n",
    "        if debug:\n",
    "            print(\"--- In function Retriever.deep_search ---\\n\"\n",
    "                  f\"Retrieving documents relevant to the answer: {answer}\\n\"\n",
    "                  \"From the documents retrieved for the question...\\n\"\n",
    "            )\n",
    "\n",
    "        # Obtain the sources from the retrieved documents\n",
    "        sources = {doc.metadata.get('source')\n",
    "                   for doc in test_relevant_docs\n",
    "                   if 'source' in doc.metadata\n",
    "        }\n",
    "\n",
    "        # Obtain the relevant documents for the answer\n",
    "        retrieved_docs_answer = self.retriever.get_relevant_documents(answer)\n",
    "\n",
    "        # Filter the retrieved documents to only include those\n",
    "        # that are in the sources of the retrieved documents\n",
    "        retrieved_docs_answer = [\n",
    "            doc for doc in retrieved_docs_answer\n",
    "            if doc.metadata.get('source') in sources\n",
    "        ]\n",
    "\n",
    "        # Join the retrieved documents with the original ones\n",
    "        retrieved_docs.extend(retrieved_docs_answer)\n",
    "        if debug:\n",
    "            print(f\"Number of documents retrieved in deep search: \"\n",
    "                  f\"{len(retrieved_docs_answer)}\\n\"\n",
    "                  f\"Retrieved documents: {[doc.metadata.get('source', 'Unknown')\n",
    "                                           for doc in retrieved_docs_answer]}\\n\"\n",
    "            )\n",
    "        \n",
    "        # Return the retrieved documents\n",
    "        return retrieved_docs\n",
    "\n",
    "    def get_relevant_documents(self, question: str = \"\", answer: str = \"\",\n",
    "                               full_docs = False, include_answer = False,\n",
    "                               deep_search = False, debug = False):\n",
    "        \"\"\"\n",
    "        Retrieve relevant documents from the corpus\n",
    "        \"\"\"\n",
    "\n",
    "        # Retrieve documents relevant to the question\n",
    "        if debug:\n",
    "            print(\"--- In function Retriever.get_relevant_documents ---\\n\"\n",
    "                  \"Retrieving relevant documents for question:\\n\"\n",
    "                  f\"{question}\\n\"\n",
    "            )\n",
    "        retrieved_docs = self.retriever.get_relevant_documents(question)\n",
    "        if debug:\n",
    "            print(f\"Number of retrieved documents: {len(retrieved_docs)}\\n\"\n",
    "                  f\"Retrieved documents: {[doc.metadata.get('source', 'Unknown')\n",
    "                                           for doc in retrieved_docs]}\\n\"\n",
    "            )\n",
    "            \n",
    "        # If deep search is enabled, retrieve documents relevant to the answer\n",
    "        # in the documents retrieved for the question\n",
    "        if deep_search:\n",
    "            if not include_answer:\n",
    "                raise ValueError(\n",
    "                    \"Deep search is enabled, but include_answer is False. \"\n",
    "                    \"Please set include_answer to True to use deep search.\"\n",
    "                )\n",
    "            retrieved_docs = self.deep_search(\n",
    "                answer = answer,\n",
    "                retrieved_docs = retrieved_docs,\n",
    "                debug = debug\n",
    "            )\n",
    "        \n",
    "        # If deep search is disabled and include_answer is True,\n",
    "        # retrieve documents relevant to the answer\n",
    "        elif include_answer:\n",
    "            retrieved_docs_answer = self.retriever.get_relevant_documents(answer)\n",
    "            retrieved_docs = retrieved_docs + retrieved_docs_answer\n",
    "\n",
    "        # If full_docs mode is enabled, return the complete retrieved documents\n",
    "        if full_docs:\n",
    "            retrieved_docs = self.get_full_docs(retrieved_docs, debug = debug)\n",
    "\n",
    "        # Print the retrieved documents if debug mode is enabled\n",
    "        if debug:\n",
    "            print(f\"Number of retrieved documents: {len(retrieved_docs)}\\n\"\n",
    "                  f\"Retrieved documents: {[doc.metadata.get('source', 'Unknown')\n",
    "                                           for doc in retrieved_docs]}\\n\"\n",
    "            )\n",
    "\n",
    "        # Return the retrieved documents\n",
    "        return retrieved_docs"
   ]
  },
  {
   "cell_type": "markdown",
   "id": "e193675a",
   "metadata": {},
   "source": [
    "## 5.3 The backend function"
   ]
  },
  {
   "cell_type": "code",
   "execution_count": null,
   "id": "00515a84",
   "metadata": {},
   "outputs": [],
   "source": [
    "def gradio_backend(uploaded_files, question, answer, full_docs = False,\n",
    "                   include_answer = False, deep_search = False, debug = False):\n",
    "    \"\"\"\n",
    "    Gradio backend function to handle file uploads and hallucination detection.\n",
    "    \"\"\"\n",
    "    if debug:\n",
    "        print(\"--- In function gradio_backend ---\")\n",
    "\n",
    "    # Initialize variables for the output\n",
    "    hallucination_was_found = \"No hallucinations found\"\n",
    "    hallucination_str = \"\"\n",
    "    error_output = gr.update(\n",
    "        value = \"\",\n",
    "        visible = False\n",
    "    )\n",
    "\n",
    "    try:\n",
    "        # Initialize the corpus and save the uploaded files\n",
    "        corpus = Corpus(corpus_dir = \"./temp/\", debug = debug)\n",
    "        corpus.upload_files(uploaded_files, debug = debug)\n",
    "\n",
    "        # Initialize the retriever with the corpus and retrieve relevant documents\n",
    "        retriever = Retriever(corpus = corpus, debug = debug)\n",
    "        retrieved_docs = retriever.get_relevant_documents(\n",
    "            question = question,\n",
    "            answer = answer,\n",
    "            full_docs = full_docs,\n",
    "            include_answer = include_answer,\n",
    "            debug = debug\n",
    "        )\n",
    "\n",
    "        # Predict hallucination using the predict_hallucination function\n",
    "        detected_hallucination = detect_hallucinations(\n",
    "            context = retrieved_docs,\n",
    "            question = question,\n",
    "            answer = answer,\n",
    "            debug = debug\n",
    "        )\n",
    "\n",
    "        # Check if an hallucination was detected\n",
    "        if detected_hallucination:\n",
    "            hallucination_was_found = \"Hallucinations detected\"\n",
    "\n",
    "        # Create an output string based on the result\n",
    "        for hallucination in detected_hallucination:\n",
    "            hallucination_str += (\n",
    "                f\"\\'{hallucination['text']}\\'\"\n",
    "                f\" - Confidence = {hallucination['confidence']}\\n\"\n",
    "            )\n",
    "    except Exception as exc:\n",
    "        error_output = gr.update(\n",
    "            value = str(exc),\n",
    "            visible = True\n",
    "        )\n",
    "\n",
    "    return hallucination_was_found, hallucination_str, error_output\n"
   ]
  },
  {
   "cell_type": "markdown",
   "id": "e4922e7a",
   "metadata": {},
   "source": [
    "## 5.4 The interface"
   ]
  },
  {
   "cell_type": "code",
   "execution_count": null,
   "id": "69fcc583",
   "metadata": {},
   "outputs": [],
   "source": [
    "rag_application = gr.Interface(\n",
    "    fn = gradio_backend,\n",
    "    allow_flagging = \"never\",\n",
    "    inputs = [\n",
    "        # Drag and drop files, returns a list of file paths\n",
    "        gr.File(label = \"Upload PDF/txt files\",\n",
    "                file_count = 'multiple',\n",
    "                file_types = ['.pdf', '.txt']\n",
    "        ),\n",
    "        gr.Textbox(label = \"Prompt\",\n",
    "                   placeholder = \"Type your question here...\"\n",
    "        ),\n",
    "        gr.Textbox(label = \"Answer\",\n",
    "                   lines = 3,\n",
    "                   placeholder = \"type the answer here...\"\n",
    "        ),\n",
    "        gr.Checkbox(label = \"Full documents mode\",\n",
    "                    value = False),\n",
    "        gr.Checkbox(label = \"Include answer in relevance search\",\n",
    "                    value = False),\n",
    "        gr.Checkbox(label = \"Deep search\",\n",
    "                    value = False),\n",
    "        gr.Checkbox(label = \"Debug mode\",\n",
    "                    value = False),\n",
    "    ],\n",
    "    outputs = [\n",
    "        gr.Textbox(label = \"Status\"),\n",
    "        gr.Textbox(label = \"Detected Hallucinations\"),\n",
    "        gr.Textbox(label = \"Error Output\",\n",
    "                   visible = False)\n",
    "    ],\n",
    "    title = \"RAG system with Hallucination Detection\",\n",
    "    description = \"Upload a collection of pdf or txt files provide a prompt \\\n",
    "                   and a response. The backend will try to detect \\\n",
    "                   hallucinations in the response based on the context.\"\n",
    ")\n",
    "\n",
    "rag_application.launch()"
   ]
  },
  {
   "cell_type": "markdown",
   "id": "3817f49c",
   "metadata": {},
   "source": [
    "# 6. Tests\n",
    "\n",
    "After completing the setup, several tests were carried in order to ensure the optimal performance of the system. Each one reflects a state of the project, and justifies the adjustements that were made in the code in order to improve the performance."
   ]
  },
  {
   "cell_type": "markdown",
   "id": "26972858",
   "metadata": {},
   "source": [
    "## Test 1\n",
    "\n",
    "This test was done before the answer was included in the input for retrieving relevant chunks of information. Thus, only the question was useful for finding the relevant chunks of information.\n",
    "\n",
    "### Inputs\n",
    "\n",
    "**Question:** Which car model features a 12.3-inch high-resolution digital instrument display that replaces traditional analog gauges?\n",
    "\n",
    "**Answer (correct):** The Audi A4 2024 features a 12.3-inch high-resolution digital instrument display that replaces traditional analog gauges.\n",
    "\n",
    "**Full docs:** False\n",
    "\n",
    "**Include answer:** False\n",
    "\n",
    "**Deep search:** False\n",
    "\n",
    "### Outputs\n",
    "\n",
    "**Status:** Hallucinations detected\n",
    "\n",
    "**Detected hallucinations:** 'The Audi A4 2024' - Confidence = 0.9719486832618713\n",
    "\n",
    "We retrieve the relevant documents for the query in order to understand this result:"
   ]
  },
  {
   "cell_type": "code",
   "execution_count": null,
   "id": "56d2eb88",
   "metadata": {},
   "outputs": [],
   "source": [
    "test_corpus = Corpus(corpus_dir = \"./example_inputs/\", keep_files = True, debug = True)\n",
    "test_retriever = Retriever(test_corpus, debug = True)\n",
    "docs = test_retriever.get_relevant_documents(question = \"\"\"\n",
    "    Which car model features a 12.3-inch high-resolution digital instrument\n",
    "    display that replaces traditional analog gauges?\n",
    "    \"\"\")\n",
    "docs"
   ]
  },
  {
   "cell_type": "markdown",
   "id": "35e6571d",
   "metadata": {},
   "source": [
    "The problem is that the 'Audi A4 2024' part of the answer is not found in the provided context that is similar to the answer, even though they are part of the same document. There are 2 possible options:\n",
    "\n",
    "- Finding a way to provide additional context to the detector so the missing parts are not flagged as hallucinations (done through tests 2 - 5).\n",
    "\n",
    "- Processing a text passage marked as an hallucination once it has been flagged in order to find out if it's truly an hallucination (done in test 6)."
   ]
  },
  {
   "cell_type": "markdown",
   "id": "eb6a4637",
   "metadata": {},
   "source": [
    "## Test 2\n",
    "\n",
    "The same test as before but now including the answer in the similarity search.\n",
    "\n",
    "### Inputs\n",
    "\n",
    "**Question:** Which car model features a 12.3-inch high-resolution digital instrument display that replaces traditional analog gauges?\n",
    "\n",
    "**Answer (correct):** The Audi A4 2024 features a 12.3-inch high-resolution digital instrument display that replaces traditional analog gauges.\n",
    "\n",
    "**Full docs:** False\n",
    "\n",
    "**Include answer:** True\n",
    "\n",
    "**Deep search:** False\n",
    "\n",
    "### Outputs\n",
    "\n",
    "**Status:** No hallucinations detected\n",
    "\n",
    "**Detected hallucinations:**\n",
    "\n",
    "We retrieve the relevant documents for the question and provided answer together. In this case, the relevant information relative to the \"Audi A4 2024\" model is included in the retrieved chunks of information."
   ]
  },
  {
   "cell_type": "code",
   "execution_count": null,
   "id": "6d909b78",
   "metadata": {},
   "outputs": [],
   "source": [
    "test_corpus = Corpus(corpus_dir = \"./example_inputs/\", keep_files = True, debug = True)\n",
    "test_retriever = Retriever(test_corpus, debug = True)\n",
    "docs = test_retriever.get_relevant_documents(\"Which car model features a 12.3-inch high-resolution digital instrument display that replaces traditional analog gauges?\"\n",
    "                                             +\n",
    "                                             \"The Audi 2024 features a 12.3-inch high-resolution digital instrument display that replaces traditional analog gauges.\"\n",
    ")\n",
    "docs"
   ]
  },
  {
   "cell_type": "markdown",
   "id": "08a6a439",
   "metadata": {},
   "source": [
    "In the following code block, we join the retrievals for the question and answer separately in order to provide a greater context to the system.\n",
    "\n",
    "**Note:** In the output, 8 out of 10 documents are retrieved due to the similarity of their contents. Keep in mind that all the example inputs are AI-generated car descriptions. In a scenario where the content is more diverse, the relative amount of retrieved documents compared to the whole corpus is expected to be smaller."
   ]
  },
  {
   "cell_type": "code",
   "execution_count": 95,
   "id": "a355369c",
   "metadata": {},
   "outputs": [
    {
     "name": "stdout",
     "output_type": "stream",
     "text": [
      "--- In Corpus constructor ---\n",
      "Creating corpus at ./example_inputs/...\n",
      "\n",
      "--- In Retriever constructor ---\n",
      "Creating retriever from ./example_inputs/...\n",
      "\n",
      "--- In function load_documents ---\n",
      "Loading documents from corpus directory: ./example_inputs/\n",
      "\n",
      "Loading ford_f150_lightning_2024.txt...\n",
      "Loading audi_a4_2024.txt...\n",
      "Loading mercedes_cclass_2024.txt...\n",
      "Loading tesla_model_s_2024.txt...\n",
      "Loading toyota_camry_2024.txt...\n",
      "Loading bmw_3series_2024.txt...\n",
      "Loading jeep_wrangler_2024.txt...\n",
      "Loading porsche_911_carrera_2024.txt...\n",
      "Loading subaru_outback_2024.txt...\n",
      "Loading honda_accord_2024.txt...\n",
      "Filtering complex metadata...\n",
      "\n",
      "--- In function text_splitter ---\n",
      "Splitting 271 documents into chunks...\n",
      "\n",
      "--- In function create_database ---\n",
      "Creating vector databasewith 271 documents...\n",
      "\n",
      "--- In function embeddings ---\n",
      "Initializing embeddings with model: text-embedding-3-small, deployment: {azure_deployment}\n",
      "\n"
     ]
    },
    {
     "name": "stderr",
     "output_type": "stream",
     "text": [
      "INFO: HTTP Request: POST https://paulo-mcw0r95x-eastus2.cognitiveservices.azure.com/openai/deployments/text-embedding-3-small/embeddings?api-version=2024-12-01-preview \"HTTP/1.1 200 OK\"\n"
     ]
    },
    {
     "name": "stdout",
     "output_type": "stream",
     "text": [
      "--- In function Retriever.get_relevant_documents ---\n",
      "Retrieving relevant documents for question:\n",
      "\n",
      "    Which car model features a 12.3-inch high-resolution digital \n",
      "    instrument display that replaces traditional analog gauges?\n",
      "\n",
      "\n"
     ]
    },
    {
     "name": "stderr",
     "output_type": "stream",
     "text": [
      "INFO: HTTP Request: POST https://paulo-mcw0r95x-eastus2.cognitiveservices.azure.com/openai/deployments/text-embedding-3-small/embeddings?api-version=2024-12-01-preview \"HTTP/1.1 200 OK\"\n",
      "INFO: HTTP Request: POST https://paulo-mcw0r95x-eastus2.cognitiveservices.azure.com/openai/deployments/text-embedding-3-small/embeddings?api-version=2024-12-01-preview \"HTTP/1.1 200 OK\"\n"
     ]
    },
    {
     "name": "stdout",
     "output_type": "stream",
     "text": [
      "Number of retrieved documents: 4\n",
      "Retrieved documents: ['./example_inputs/bmw_3series_2024.txt', './example_inputs/bmw_3series_2024.txt', './example_inputs/bmw_3series_2024.txt', './example_inputs/bmw_3series_2024.txt']\n",
      "\n",
      "Number of retrieved documents: 8\n",
      "Retrieved documents: ['./example_inputs/bmw_3series_2024.txt', './example_inputs/bmw_3series_2024.txt', './example_inputs/bmw_3series_2024.txt', './example_inputs/bmw_3series_2024.txt', './example_inputs/audi_a4_2024.txt', './temp/audi_a4_2024.txt', './example_inputs/audi_a4_2024.txt', './example_inputs/audi_a4_2024.txt']\n",
      "\n"
     ]
    },
    {
     "data": {
      "text/plain": [
       "[Document(id='f7f437b5-826e-4ac8-8138-424bc00a2ac3', metadata={'file_directory': './example_inputs', 'category': 'NarrativeText', 'filename': 'bmw_3series_2024.txt', 'source': './example_inputs/bmw_3series_2024.txt', 'parent_id': '2259b4a98394c3141eb5a2b1cfd2d020', 'filetype': 'text/plain', 'last_modified': '2025-07-24T15:17:12', 'element_id': '13ef0961df231caad8d9f14677373220'}, page_content='The available 12.3-inch digital instrument cluster provides customizable displays for vehicle information, navigation, and performance data. The head-up display projects critical information directly onto the windshield, allowing drivers to maintain focus on the road ahead.'),\n",
       " Document(id='2911d236-1267-4b71-be26-dd6a63e55069', metadata={'last_modified': '2025-07-24T15:17:12', 'source': './example_inputs/bmw_3series_2024.txt', 'element_id': '13ef0961df231caad8d9f14677373220', 'category': 'NarrativeText', 'filename': 'bmw_3series_2024.txt', 'file_directory': './example_inputs', 'parent_id': '2259b4a98394c3141eb5a2b1cfd2d020', 'filetype': 'text/plain'}, page_content='The available 12.3-inch digital instrument cluster provides customizable displays for vehicle information, navigation, and performance data. The head-up display projects critical information directly onto the windshield, allowing drivers to maintain focus on the road ahead.'),\n",
       " Document(id='9ec2ec0f-5976-4204-9b7c-82f05cdc9a31', metadata={'filename': 'bmw_3series_2024.txt', 'parent_id': '2259b4a98394c3141eb5a2b1cfd2d020', 'filetype': 'text/plain', 'file_directory': './example_inputs', 'element_id': '13ef0961df231caad8d9f14677373220', 'last_modified': '2025-07-24T15:17:12', 'category': 'NarrativeText', 'source': './example_inputs/bmw_3series_2024.txt'}, page_content='The available 12.3-inch digital instrument cluster provides customizable displays for vehicle information, navigation, and performance data. The head-up display projects critical information directly onto the windshield, allowing drivers to maintain focus on the road ahead.'),\n",
       " Document(id='b6545fe6-5f40-4176-8b8f-b6eedfdb01a2', metadata={'file_directory': './example_inputs', 'last_modified': '2025-07-24T15:17:12', 'filetype': 'text/plain', 'parent_id': '2259b4a98394c3141eb5a2b1cfd2d020', 'element_id': '13ef0961df231caad8d9f14677373220', 'source': './example_inputs/bmw_3series_2024.txt', 'category': 'NarrativeText', 'filename': 'bmw_3series_2024.txt'}, page_content='The available 12.3-inch digital instrument cluster provides customizable displays for vehicle information, navigation, and performance data. The head-up display projects critical information directly onto the windshield, allowing drivers to maintain focus on the road ahead.'),\n",
       " Document(id='9b5b4857-a833-4d48-91f6-2f6c66f7e9fa', metadata={'file_directory': './example_inputs', 'source': './example_inputs/audi_a4_2024.txt', 'category': 'NarrativeText', 'last_modified': '2025-07-24T15:17:12', 'filetype': 'text/plain', 'element_id': 'b373aa446f6fd7009219d2ebf7ba0fe2', 'parent_id': '97a4fe3f7cf75b893b0c058cd61d887a', 'filename': 'audi_a4_2024.txt'}, page_content=\"Virtual Cockpit Technology The 2024 A4 features Audi's revolutionary Virtual Cockpit, a 12.3-inch high-resolution digital instrument display that replaces traditional analog gauges. This advanced system provides customizable layouts for vehicle information, navigation maps, entertainment controls, and performance data. Drivers can switch between Classic view that mimics traditional gauges and Infotainment view that prioritizes navigation and media information.\"),\n",
       " Document(id='53adac60-4d65-459d-8add-224da30875fd', metadata={'filename': 'audi_a4_2024.txt', 'source': './temp/audi_a4_2024.txt', 'last_modified': '2025-07-29T11:28:22', 'file_directory': './temp', 'element_id': 'b373aa446f6fd7009219d2ebf7ba0fe2', 'filetype': 'text/plain', 'category': 'NarrativeText', 'parent_id': '97a4fe3f7cf75b893b0c058cd61d887a'}, page_content=\"Virtual Cockpit Technology The 2024 A4 features Audi's revolutionary Virtual Cockpit, a 12.3-inch high-resolution digital instrument display that replaces traditional analog gauges. This advanced system provides customizable layouts for vehicle information, navigation maps, entertainment controls, and performance data. Drivers can switch between Classic view that mimics traditional gauges and Infotainment view that prioritizes navigation and media information.\"),\n",
       " Document(id='688c11e3-47a2-40e6-8fb7-0e92f2e46f97', metadata={'last_modified': '2025-07-24T15:17:12', 'source': './example_inputs/audi_a4_2024.txt', 'filetype': 'text/plain', 'element_id': 'b373aa446f6fd7009219d2ebf7ba0fe2', 'file_directory': './example_inputs', 'parent_id': '97a4fe3f7cf75b893b0c058cd61d887a', 'filename': 'audi_a4_2024.txt', 'category': 'NarrativeText'}, page_content=\"Virtual Cockpit Technology The 2024 A4 features Audi's revolutionary Virtual Cockpit, a 12.3-inch high-resolution digital instrument display that replaces traditional analog gauges. This advanced system provides customizable layouts for vehicle information, navigation maps, entertainment controls, and performance data. Drivers can switch between Classic view that mimics traditional gauges and Infotainment view that prioritizes navigation and media information.\"),\n",
       " Document(id='df28877f-8250-4a14-92e7-6483d7cf1e87', metadata={'filetype': 'text/plain', 'category': 'NarrativeText', 'parent_id': '97a4fe3f7cf75b893b0c058cd61d887a', 'filename': 'audi_a4_2024.txt', 'element_id': 'b373aa446f6fd7009219d2ebf7ba0fe2', 'file_directory': './example_inputs', 'last_modified': '2025-07-24T15:17:12', 'source': './example_inputs/audi_a4_2024.txt'}, page_content=\"Virtual Cockpit Technology The 2024 A4 features Audi's revolutionary Virtual Cockpit, a 12.3-inch high-resolution digital instrument display that replaces traditional analog gauges. This advanced system provides customizable layouts for vehicle information, navigation maps, entertainment controls, and performance data. Drivers can switch between Classic view that mimics traditional gauges and Infotainment view that prioritizes navigation and media information.\")]"
      ]
     },
     "execution_count": 95,
     "metadata": {},
     "output_type": "execute_result"
    }
   ],
   "source": [
    "test_corpus = Corpus(corpus_dir = \"./example_inputs/\", keep_files = True,\n",
    "                     debug = True)\n",
    "test_retriever = Retriever(test_corpus, debug = True)\n",
    "question = \"\"\"\n",
    "    Which car model features a 12.3-inch high-resolution digital \n",
    "    instrument display that replaces traditional analog gauges?\n",
    "\"\"\"\n",
    "answer = \"\"\"\n",
    "    The Audi 2024 features a 12.3-inch high-resolution digital\n",
    "    instrument display that replaces traditional analog gauges.\n",
    "\"\"\"\n",
    "test_retriever.get_relevant_documents(question, answer, include_answer = True,\n",
    "                                      debug = True)"
   ]
  },
  {
   "cell_type": "markdown",
   "id": "1abdfdb2",
   "metadata": {},
   "source": [
    "**Conclusion**\n",
    "\n",
    "We chose to retrieve documents for the question and answer separately, then combine them, to ensure both the context of the query and the specific entities or facts in the answer are represented. This prevents missing relevant information and reduces false positives in hallucination detection. Separate retrievals maintain clarity and provide LettuceDetect with a fuller context for accurate verification.\n",
    "\n",
    "Additionally, providing more comprehensive context reduces the risk of false negatives, as it increases the likelihood that supporting evidence for true statements will be included in the verification process.\n"
   ]
  },
  {
   "cell_type": "markdown",
   "id": "147e58f8",
   "metadata": {},
   "source": [
    "## Test 3\n",
    "\n",
    "In this case, we successfully trick the model by providing a wrong response but combining actual information present in the retrieved documents.\n",
    "\n",
    "### Inputs\n",
    "\n",
    "**Question:** Which car features a 12.3-inch high-resolution digital instrument display that replaces traditional analog gauges?\n",
    "\n",
    "**Answer (incorrect):** The Virtual Cockpit Technology features a 12.3-inch high-resolution digital instrument display that replaces traditional analog gauges\n",
    "\n",
    "**Full docs:** False\n",
    "\n",
    "**Include answer:** True\n",
    "\n",
    "**Deep search:** False\n",
    "\n",
    "### Outputs\n",
    "\n",
    "**Status:** No hallucinations detected\n",
    "\n",
    "**Detected hallucinations:**"
   ]
  },
  {
   "cell_type": "markdown",
   "id": "731496ef",
   "metadata": {},
   "source": [
    "## Test 4\n",
    "\n",
    "In this test, the functionality for loading the entire documents containing the relevant context is added.\n",
    "\n",
    "### Inputs\n",
    "\n",
    "**Question:** Which car features a 12.3-inch high-resolution digital instrument display that replaces traditional analog gauges?\n",
    "\n",
    "**Answer (incorrect):** The Virtual Cockpit Technology features a 12.3-inch high-resolution digital instrument display that replaces traditional analog gauges\n",
    "\n",
    "**Full docs:** True\n",
    "\n",
    "**Include answer:** True\n",
    "\n",
    "**Deep search:** False\n",
    "\n",
    "### Outputs\n",
    "\n",
    "**Status:** No hallucinations detected\n",
    "\n",
    "**Detected hallucinations:**\n",
    "\n",
    "### Conclusion \n",
    "\n",
    "This method seemed promising but failed because BERT is not prepared to handle long inputs."
   ]
  },
  {
   "cell_type": "markdown",
   "id": "ed06b72b",
   "metadata": {},
   "source": [
    "## Test 5\n",
    "\n",
    "In this test, we try the **deep search** strategy: first we find the relevant context found in the documents related to the question.\n",
    "Next, we enrich this context with context related to the answer found in the previous documents.\n",
    "This way, the information is extracted only from the relevant documents for the question, but the important information relative to the answer is not lost.\n",
    "At the same time, adding information from other contexts unrelated to the question is prevented.\n",
    "\n",
    "First, we check the retrieved context for the same question as before, this time using the deep search strategy:"
   ]
  },
  {
   "cell_type": "code",
   "execution_count": 96,
   "id": "d98ed8c4",
   "metadata": {},
   "outputs": [
    {
     "name": "stdout",
     "output_type": "stream",
     "text": [
      "--- In Corpus constructor ---\n",
      "Creating corpus at ./example_inputs/...\n",
      "\n",
      "--- In Retriever constructor ---\n",
      "Creating retriever from ./example_inputs/...\n",
      "\n",
      "--- In function load_documents ---\n",
      "Loading documents from corpus directory: ./example_inputs/\n",
      "\n",
      "Loading ford_f150_lightning_2024.txt...\n",
      "Loading audi_a4_2024.txt...\n",
      "Loading mercedes_cclass_2024.txt...\n",
      "Loading tesla_model_s_2024.txt...\n",
      "Loading toyota_camry_2024.txt...\n",
      "Loading bmw_3series_2024.txt...\n",
      "Loading jeep_wrangler_2024.txt...\n",
      "Loading porsche_911_carrera_2024.txt...\n",
      "Loading subaru_outback_2024.txt...\n",
      "Loading honda_accord_2024.txt...\n",
      "Filtering complex metadata...\n",
      "\n",
      "--- In function text_splitter ---\n",
      "Splitting 271 documents into chunks...\n",
      "\n",
      "--- In function create_database ---\n",
      "Creating vector databasewith 271 documents...\n",
      "\n",
      "--- In function embeddings ---\n",
      "Initializing embeddings with model: text-embedding-3-small, deployment: {azure_deployment}\n",
      "\n"
     ]
    },
    {
     "name": "stderr",
     "output_type": "stream",
     "text": [
      "INFO: HTTP Request: POST https://paulo-mcw0r95x-eastus2.cognitiveservices.azure.com/openai/deployments/text-embedding-3-small/embeddings?api-version=2024-12-01-preview \"HTTP/1.1 200 OK\"\n",
      "INFO: HTTP Request: POST https://paulo-mcw0r95x-eastus2.cognitiveservices.azure.com/openai/deployments/text-embedding-3-small/embeddings?api-version=2024-12-01-preview \"HTTP/1.1 200 OK\"\n"
     ]
    },
    {
     "name": "stdout",
     "output_type": "stream",
     "text": [
      "--- In function Retriever.get_relevant_documents ---\n",
      "Retrieving relevant documents for question:\n",
      "Which car model features a 12.3-inch high-resolution digitalinstrument display that replaces traditional analog gauges?\n",
      "\n",
      "Number of retrieved documents: 4\n",
      "Retrieved documents: ['./example_inputs/bmw_3series_2024.txt', './temp/bmw_3series_2024.txt', './example_inputs/bmw_3series_2024.txt', './example_inputs/bmw_3series_2024.txt']\n",
      "\n",
      "--- In function Retriever.deep_search ---\n",
      "Retrieving documents relevant to the answer: The Audi 2024 features a 12.3-inch high-resolution digitalinstrument display that replaces traditional analog gauges.\n",
      "From the documents retrieved for the question...\n",
      "\n"
     ]
    },
    {
     "name": "stderr",
     "output_type": "stream",
     "text": [
      "INFO: HTTP Request: POST https://paulo-mcw0r95x-eastus2.cognitiveservices.azure.com/openai/deployments/text-embedding-3-small/embeddings?api-version=2024-12-01-preview \"HTTP/1.1 200 OK\"\n"
     ]
    },
    {
     "name": "stdout",
     "output_type": "stream",
     "text": [
      "Number of documents retrieved in deep search: 0\n",
      "Retrieved documents: []\n",
      "\n",
      "Number of retrieved documents: 4\n",
      "Retrieved documents: ['./example_inputs/bmw_3series_2024.txt', './temp/bmw_3series_2024.txt', './example_inputs/bmw_3series_2024.txt', './example_inputs/bmw_3series_2024.txt']\n",
      "\n"
     ]
    },
    {
     "data": {
      "text/plain": [
       "[Document(id='f6c3322a-f97f-49c1-9a86-bed7239b88b4', metadata={'category': 'NarrativeText', 'source': './example_inputs/bmw_3series_2024.txt', 'filename': 'bmw_3series_2024.txt', 'file_directory': './example_inputs', 'filetype': 'text/plain', 'element_id': '13ef0961df231caad8d9f14677373220', 'last_modified': '2025-07-24T15:17:12', 'parent_id': '2259b4a98394c3141eb5a2b1cfd2d020'}, page_content='The available 12.3-inch digital instrument cluster provides customizable displays for vehicle information, navigation, and performance data. The head-up display projects critical information directly onto the windshield, allowing drivers to maintain focus on the road ahead.'),\n",
       " Document(id='de02f7db-75c3-4369-af74-19960a34c61e', metadata={'parent_id': '2259b4a98394c3141eb5a2b1cfd2d020', 'last_modified': '2025-07-29T11:27:57', 'filename': 'bmw_3series_2024.txt', 'source': './temp/bmw_3series_2024.txt', 'file_directory': './temp', 'filetype': 'text/plain', 'element_id': '13ef0961df231caad8d9f14677373220', 'category': 'NarrativeText'}, page_content='The available 12.3-inch digital instrument cluster provides customizable displays for vehicle information, navigation, and performance data. The head-up display projects critical information directly onto the windshield, allowing drivers to maintain focus on the road ahead.'),\n",
       " Document(id='f7f437b5-826e-4ac8-8138-424bc00a2ac3', metadata={'source': './example_inputs/bmw_3series_2024.txt', 'element_id': '13ef0961df231caad8d9f14677373220', 'file_directory': './example_inputs', 'filename': 'bmw_3series_2024.txt', 'parent_id': '2259b4a98394c3141eb5a2b1cfd2d020', 'last_modified': '2025-07-24T15:17:12', 'filetype': 'text/plain', 'category': 'NarrativeText'}, page_content='The available 12.3-inch digital instrument cluster provides customizable displays for vehicle information, navigation, and performance data. The head-up display projects critical information directly onto the windshield, allowing drivers to maintain focus on the road ahead.'),\n",
       " Document(id='811124f4-23ab-4014-863f-0bd2595c03dc', metadata={'element_id': '13ef0961df231caad8d9f14677373220', 'source': './example_inputs/bmw_3series_2024.txt', 'category': 'NarrativeText', 'parent_id': '2259b4a98394c3141eb5a2b1cfd2d020', 'file_directory': './example_inputs', 'last_modified': '2025-07-24T15:17:12', 'filetype': 'text/plain', 'filename': 'bmw_3series_2024.txt'}, page_content='The available 12.3-inch digital instrument cluster provides customizable displays for vehicle information, navigation, and performance data. The head-up display projects critical information directly onto the windshield, allowing drivers to maintain focus on the road ahead.')]"
      ]
     },
     "execution_count": 96,
     "metadata": {},
     "output_type": "execute_result"
    }
   ],
   "source": [
    "test_corpus = Corpus(corpus_dir = \"./example_inputs/\", keep_files = True,\n",
    "                     debug = True)\n",
    "test_retriever = Retriever(test_corpus, debug = True)\n",
    "\n",
    "question = (\n",
    "    \"Which car model features a 12.3-inch high-resolution digital\"\n",
    "    \"instrument display that replaces traditional analog gauges?\"\n",
    ")\n",
    "answer = (\n",
    "    \"The Audi 2024 features a 12.3-inch high-resolution digital\"\n",
    "    \"instrument display that replaces traditional analog gauges.\"\n",
    ")\n",
    "          \n",
    "test_retriever.get_relevant_documents(\n",
    "    question = question, answer = answer, full_docs = False,\n",
    "    include_answer = True, deep_search = True, debug = True\n",
    ")"
   ]
  },
  {
   "cell_type": "markdown",
   "id": "603cace7",
   "metadata": {},
   "source": [
    "### Inputs\n",
    "\n",
    "**Question:** Which car features a 12.3-inch high-resolution digital instrument display that replaces traditional analog gauges?\n",
    "\n",
    "**Answer (incorrect):** The Virtual Cockpit Technology features a 12.3-inch high-resolution digital instrument display that replaces traditional analog gauges\n",
    "\n",
    "**Full docs:** True\n",
    "\n",
    "**Include answer:** True\n",
    "\n",
    "**Deep search:** False\n",
    "\n",
    "### Outputs\n",
    "\n",
    "**Status:** No hallucinations detected\n",
    "\n",
    "**Detected hallucinations:**\n",
    "\n",
    "### Conclusion\n",
    "\n",
    "When using the deep search strategy the problem persists: even though all the context comes from the files relevant to the question, the detector is unable to differentiate when some information is inadecuate even though it's found in the context."
   ]
  }
 ],
 "metadata": {
  "kernelspec": {
   "display_name": ".venv (3.12.3)",
   "language": "python",
   "name": "python3"
  },
  "language_info": {
   "codemirror_mode": {
    "name": "ipython",
    "version": 3
   },
   "file_extension": ".py",
   "mimetype": "text/x-python",
   "name": "python",
   "nbconvert_exporter": "python",
   "pygments_lexer": "ipython3",
   "version": "3.12.3"
  }
 },
 "nbformat": 4,
 "nbformat_minor": 5
}
