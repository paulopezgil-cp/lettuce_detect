{
 "cells": [
  {
   "cell_type": "markdown",
   "id": "7885d414",
   "metadata": {},
   "source": [
    "# 1. Description of the project\n",
    "\n",
    "In this project, a RAG system is implemented and used in combination with LettuceDetect.\n",
    "\n",
    "# 2. Setup\n",
    "\n",
    "1. **Install these packages:**"
   ]
  },
  {
   "cell_type": "code",
   "execution_count": 1,
   "id": "0477ba76",
   "metadata": {},
   "outputs": [
    {
     "name": "stdout",
     "output_type": "stream",
     "text": [
      "Note: you may need to restart the kernel to use updated packages.\n"
     ]
    }
   ],
   "source": [
    "%pip install -qq langchain langchain-unstructured langchain-chroma langchain-openai unstructured langchain-community unstructured[pdf] dotenv lettucedetect gradio"
   ]
  },
  {
   "cell_type": "markdown",
   "id": "09f4b2de",
   "metadata": {},
   "source": [
    "2. **Import the necessary modules**"
   ]
  },
  {
   "cell_type": "code",
   "execution_count": 18,
   "id": "46796ec0",
   "metadata": {},
   "outputs": [],
   "source": [
    "from langchain.text_splitter import RecursiveCharacterTextSplitter\n",
    "from langchain_unstructured import UnstructuredLoader\n",
    "from langchain_openai import AzureOpenAIEmbeddings\n",
    "from langchain_chroma.vectorstores import Chroma\n",
    "from langchain_community.vectorstores.utils import filter_complex_metadata\n",
    "from langchain_core.documents.base import Document\n",
    "import os\n",
    "from dotenv import load_dotenv, find_dotenv\n",
    "from lettucedetect.models.inference import HallucinationDetector\n",
    "import gradio as gr"
   ]
  },
  {
   "cell_type": "markdown",
   "id": "2af561e9",
   "metadata": {},
   "source": [
    "3. **Deploy an Azure OpenAI LLM resource and embedding resource**\n",
    "\n",
    "    Use the following link: https://ai.azure.com/\n",
    "4. **Save the details to the .env file:**\n",
    "    ```bash\n",
    "    echo AZURE_OPENAI_API_KEY=\\\"your-api-key-here\\\" >> .env\n",
    "    echo AZURE_OPENAI_API_VERSION=\\\"your-version-here\\\" >> .env\n",
    "    echo AZURE_OPENAI_ENDPOINT=\\\"your-endpoint-here\\\" >> .env\n",
    "    echo GPT_MODEL=\\\"your-llm-model-here\\\" >> .env\n",
    "    echo EMBEDDINGS_MODEL_NAME=\\\"your-embeddings-model-here\\\" >> .env\n",
    "    echo EMBEDDINGS_DEPLOYMENT=\\\"your-embeddings-deployment-here\\\" >> .env\n",
    "    ```"
   ]
  },
  {
   "cell_type": "markdown",
   "id": "add108f6",
   "metadata": {},
   "source": [
    "# 3. ChromaDB setup"
   ]
  },
  {
   "cell_type": "markdown",
   "id": "1d2abe90",
   "metadata": {},
   "source": [
    "## 3.1 The text splitter\n",
    "\n",
    "The text splitter divides documents into manageable chunks to optimize downstream processing and retrieval in RAG workflows."
   ]
  },
  {
   "cell_type": "code",
   "execution_count": 3,
   "id": "5f04b464",
   "metadata": {},
   "outputs": [],
   "source": [
    "\n",
    "def text_splitter(data, debug = False):\n",
    "    text_splitter = RecursiveCharacterTextSplitter(\n",
    "        chunk_size=1000,\n",
    "        chunk_overlap=50,\n",
    "        length_function=len,\n",
    "    )\n",
    "    if debug:\n",
    "        print(f\"Splitting {len(data)} documents into chunks...\")\n",
    "    chunks = text_splitter.split_documents(data)\n",
    "    return chunks"
   ]
  },
  {
   "cell_type": "markdown",
   "id": "7c8f83fd",
   "metadata": {},
   "source": [
    "## 3.2 The document loader\n",
    "\n",
    "The document loader reads and parses files from the corpus directory into structured document objects for downstream processing."
   ]
  },
  {
   "cell_type": "code",
   "execution_count": 4,
   "id": "235c37c2",
   "metadata": {},
   "outputs": [],
   "source": [
    "def load_documents(corpus_dir = \"./corpus/\", debug = False):\n",
    "    # Load all documents from the corpus directory\n",
    "    loaded_docs = []\n",
    "    if debug:\n",
    "        print(f\"Loading documents from {corpus_dir}...\")\n",
    "    for file in os.listdir(corpus_dir):\n",
    "        if debug:\n",
    "            print(f\"Loading {file}...\")\n",
    "        loader = UnstructuredLoader(corpus_dir + file, mode = 'single')\n",
    "        loaded_docs.extend(loader.load())\n",
    "\n",
    "    # Filter complex metadata from loaded documents\n",
    "    if debug:\n",
    "        print(\"Filtering complex metadata...\")\n",
    "    filtered_docs = filter_complex_metadata(loaded_docs)\n",
    "\n",
    "    return filtered_docs"
   ]
  },
  {
   "cell_type": "markdown",
   "id": "f8207d2a",
   "metadata": {},
   "source": [
    "## 3.3 The embedding client\n",
    "\n",
    "The embedding client initializes and manages Azure OpenAI embeddings for converting text into vector representations."
   ]
  },
  {
   "cell_type": "code",
   "execution_count": 5,
   "id": "821f66fb",
   "metadata": {},
   "outputs": [],
   "source": [
    "def embeddings(debug = False):\n",
    "    load_dotenv(find_dotenv())\n",
    "    model = os.getenv('EMBEDDINGS_MODEL_NAME')\n",
    "    api_key = os.getenv('AZURE_OPENAI_API_KEY')\n",
    "    api_version = os.getenv(\"AZURE_OPENAI_API_VERSION\")\n",
    "    azure_endpoint = os.getenv(\"AZURE_OPENAI_ENDPOINT\")\n",
    "    azure_deployment = os.getenv(\"EMBEDDINGS_DEPLOYMENT\")\n",
    "\n",
    "    # Validate required environment variables\n",
    "    if not all([model, api_key, api_version, azure_endpoint, azure_deployment]):\n",
    "        raise ValueError(\n",
    "            \"\"\"\n",
    "            Missing environment variables.\n",
    "            Please load all the required environment variables in the .env file:\n",
    "            EMBEDDINGS_MODEL_NAME, AZURE_OPENAI_API_KEY, AZURE_OPENAI_API_VERSION,\n",
    "            AZURE_OPENAI_ENDPOINT, EMBEDDINGS_DEPLOYMENT\n",
    "            \"\"\"\n",
    "        )\n",
    "    \n",
    "    # Initialize and return an Azure OpenAI embeddings client\n",
    "    if debug:\n",
    "        print(f\"Initializing embeddings with model: {model}, deployment: {azure_deployment}\")\n",
    "    embeddings = AzureOpenAIEmbeddings(\n",
    "        model = model,\n",
    "        api_key = api_key,\n",
    "        api_version = api_version,\n",
    "        azure_endpoint = azure_endpoint,\n",
    "        azure_deployment = azure_deployment,\n",
    "    )\n",
    "    return embeddings"
   ]
  },
  {
   "cell_type": "markdown",
   "id": "09efc443",
   "metadata": {},
   "source": [
    "## 3.4 The vector database\n",
    "\n",
    "The vector database stores document embeddings for fast similarity search and retrieval. Built with Chroma, it enables efficient access to relevant document chunks in RAG workflows."
   ]
  },
  {
   "cell_type": "code",
   "execution_count": 6,
   "id": "87c2d5ef",
   "metadata": {},
   "outputs": [],
   "source": [
    "def create_database(document_list, database_dir = \"./chroma_db\", debug = False):\n",
    "    # Initialize the database from a given corpus of documents\n",
    "    embedding_model = embeddings(debug = debug)\n",
    "\n",
    "    # Create the database if it doesn't exist\n",
    "    if not os.path.exists(database_dir) or not os.listdir(database_dir):\n",
    "        if debug:\n",
    "            print(f\"Creating vector database with {len(document_list)} documents...\")\n",
    "        return Chroma.from_documents(documents = document_list,\n",
    "                                                embedding = embedding_model,\n",
    "                                                persist_directory = database_dir)\n",
    "\n",
    "    # If the database exists, return it\n",
    "    return Chroma(persist_directory = database_dir,\n",
    "                  embedding_function = embedding_model)"
   ]
  },
  {
   "cell_type": "markdown",
   "id": "9b860d2e",
   "metadata": {},
   "source": [
    "## 3.5 The retriever\n",
    "\n",
    "The retriever fetches relevant document chunks from the vector database using embeddings to match user queries with semantically similar content for efficient retrieval in RAG workflows. It is not based on LLMs, but purely on a similarity search algorithm."
   ]
  },
  {
   "cell_type": "code",
   "execution_count": 7,
   "id": "01c3e84d",
   "metadata": {},
   "outputs": [],
   "source": [
    "def retriever(corpus_dir = \"./corpus/\", debug = False):\n",
    "    docs = load_documents(corpus_dir, debug = debug)\n",
    "    chunks = text_splitter(docs, debug = debug)\n",
    "    vectordb = create_database(chunks, debug = debug)\n",
    "    if debug:\n",
    "        print(\"Creating retriever from vector database...\")\n",
    "    retriever = vectordb.as_retriever()\n",
    "    return retriever"
   ]
  },
  {
   "cell_type": "markdown",
   "id": "96237913",
   "metadata": {},
   "source": [
    "## 3.6 Small test"
   ]
  },
  {
   "cell_type": "code",
   "execution_count": 8,
   "id": "d5992ba8",
   "metadata": {},
   "outputs": [
    {
     "name": "stdout",
     "output_type": "stream",
     "text": [
      "Loading documents from ./example_inputs/...\n",
      "Loading ford_f150_lightning_2024.txt...\n",
      "Loading audi_a4_2024.txt...\n",
      "Loading mercedes_cclass_2024.txt...\n",
      "Loading tesla_model_s_2024.txt...\n",
      "Loading toyota_camry_2024.txt...\n",
      "Loading bmw_3series_2024.txt...\n",
      "Loading jeep_wrangler_2024.txt...\n",
      "Loading porsche_911_carrera_2024.txt...\n",
      "Loading subaru_outback_2024.txt...\n",
      "Loading honda_accord_2024.txt...\n",
      "Filtering complex metadata...\n",
      "Splitting 271 documents into chunks...\n",
      "Initializing embeddings with model: text-embedding-3-small, deployment: text-embedding-3-small\n"
     ]
    },
    {
     "name": "stderr",
     "output_type": "stream",
     "text": [
      "INFO: Anonymized telemetry enabled. See                     https://docs.trychroma.com/telemetry for more information.\n"
     ]
    },
    {
     "name": "stdout",
     "output_type": "stream",
     "text": [
      "Creating retriever from vector database...\n"
     ]
    }
   ],
   "source": [
    "test_retriever = retriever(corpus_dir = \"./example_inputs/\", debug = True)"
   ]
  },
  {
   "cell_type": "code",
   "execution_count": 9,
   "id": "da88a2f0",
   "metadata": {},
   "outputs": [
    {
     "name": "stderr",
     "output_type": "stream",
     "text": [
      "/tmp/ipykernel_108296/4019724915.py:1: LangChainDeprecationWarning: The method `BaseRetriever.get_relevant_documents` was deprecated in langchain-core 0.1.46 and will be removed in 1.0. Use :meth:`~invoke` instead.\n",
      "  docs = test_retriever.get_relevant_documents(\"Which car features a turbocharged 3.0-liter inline-six engine\")\n",
      "INFO: HTTP Request: POST https://paulo-mcw0r95x-eastus2.cognitiveservices.azure.com/openai/deployments/text-embedding-3-small/embeddings?api-version=2024-12-01-preview \"HTTP/1.1 200 OK\"\n"
     ]
    },
    {
     "data": {
      "text/plain": [
       "[Document(id='5895bd29-ac15-48a0-b85a-9db2fd9454d1', metadata={'last_modified': '2025-07-24T15:17:12', 'element_id': '56c4f36868129724874376f4e43bb081', 'parent_id': '0749961253165664e3d63731c5667eee', 'source': './example_inputs/honda_accord_2024.txt', 'filetype': 'text/plain', 'category': 'NarrativeText', 'filename': 'honda_accord_2024.txt', 'file_directory': './example_inputs'}, page_content='For those requiring additional power, the available 2.0-liter turbocharged four-cylinder engine generates an impressive 252 horsepower and 273 lb-ft of torque. This engine features a sophisticated cooling system and advanced turbocharger technology that delivers smooth, linear power delivery throughout the rev range.'),\n",
       " Document(id='a7dcfade-0e37-4e5a-bb37-a76be13ebdfc', metadata={'last_modified': '2025-07-24T15:17:12', 'element_id': '3e5a795b7027cb4fab281a50049f4461', 'parent_id': '2259b4a98394c3141eb5a2b1cfd2d020', 'category': 'NarrativeText', 'filename': 'bmw_3series_2024.txt', 'source': './example_inputs/bmw_3series_2024.txt', 'file_directory': './example_inputs', 'filetype': 'text/plain'}, page_content='For enhanced performance, the M340i variant features a turbocharged 3.0-liter inline-six engine generating 382 horsepower and 369 lb-ft of torque. This powerplant enables acceleration from 0-60 mph in just 4.2 seconds while maintaining the refined character expected from a luxury sedan.'),\n",
       " Document(id='986a5c3a-4051-4871-88c2-a4f19a8b2b38', metadata={'filename': 'jeep_wrangler_2024.txt', 'last_modified': '2025-07-24T15:17:12', 'category': 'NarrativeText', 'file_directory': './example_inputs', 'filetype': 'text/plain', 'source': './example_inputs/jeep_wrangler_2024.txt', 'parent_id': 'b9969aeb058e1fa36bfef9b1c44ddd1c', 'element_id': 'a2ea8213e5c1bbcc1a6a85a24ff73e30'}, page_content='For enhanced efficiency without sacrificing capability, the available 2.0-liter turbocharged four-cylinder engine generates 270 horsepower and 295 lb-ft of torque while incorporating mild-hybrid technology with a 48-volt system that provides additional torque assistance and improved fuel economy.'),\n",
       " Document(id='292b31b9-06a2-47c6-a7d1-51900dd7b193', metadata={'element_id': '2030b5c46edaf188a670a45d5d3ea99c', 'filename': 'subaru_outback_2024.txt', 'source': './example_inputs/subaru_outback_2024.txt', 'parent_id': '70b2e634c576d45f33bdd0a4229dcfe1', 'last_modified': '2025-07-24T15:17:12', 'filetype': 'text/plain', 'file_directory': './example_inputs', 'category': 'NarrativeText'}, page_content='For customers requiring additional performance, the available 2.4-liter turbocharged boxer engine generates 260 horsepower and 277 lb-ft of torque. This powerplant incorporates advanced technologies including direct injection, dual active valve control system, and a sophisticated cooling system that ensures consistent performance under all operating conditions.')]"
      ]
     },
     "execution_count": 9,
     "metadata": {},
     "output_type": "execute_result"
    }
   ],
   "source": [
    "docs = test_retriever.get_relevant_documents(\"Which car features a turbocharged 3.0-liter inline-six engine\")\n",
    "docs"
   ]
  },
  {
   "cell_type": "markdown",
   "id": "ce2c90de",
   "metadata": {},
   "source": [
    "# 4. The Hallucination detector"
   ]
  },
  {
   "cell_type": "code",
   "execution_count": 10,
   "id": "aa8ac4d5",
   "metadata": {},
   "outputs": [],
   "source": [
    "def detect_hallucinations(context, question, answer, debug = False):\n",
    "    if debug:\n",
    "        print(f\"Predicting hallucination for question: {question}\")\n",
    "\n",
    "    # Initialize the hallucination detector with a transformer model\n",
    "    detector = HallucinationDetector(\n",
    "        method=\"transformer\",\n",
    "        model_path=\"KRLabsOrg/lettucedect-base-modernbert-en-v1\"\n",
    "    )\n",
    "\n",
    "    # Predict hallucination using the detector\n",
    "    result = detector.predict(context = context,\n",
    "                              question = question,\n",
    "                              answer = answer,\n",
    "                              output_format = \"spans\")\n",
    "    return result"
   ]
  },
  {
   "cell_type": "markdown",
   "id": "485658c4",
   "metadata": {},
   "source": [
    "# 5. The interface"
   ]
  },
  {
   "cell_type": "code",
   "execution_count": 11,
   "id": "00515a84",
   "metadata": {},
   "outputs": [],
   "source": [
    "def gradio_backend(uploaded_files, question, answer, debug = False):\n",
    "    # Create a new corpus directory\n",
    "    corpus_dir = \"./corpus/\"\n",
    "    if os.path.exists(corpus_dir):\n",
    "        for f in os.listdir(corpus_dir):\n",
    "            os.remove(os.path.join(corpus_dir, f))\n",
    "    os.makedirs(corpus_dir, exist_ok=True)\n",
    "\n",
    "    # Save the uploaded files to corpus directory\n",
    "    for file in uploaded_files:\n",
    "        filename = os.path.basename(file.name)\n",
    "        src = open(file.name, \"rb\")\n",
    "        dst = open(os.path.join(corpus_dir, filename), \"wb\")\n",
    "        dst.write(src.read())\n",
    "\n",
    "    # Should take a list of strings as context\n",
    "    if debug:\n",
    "        print(f\"Detecting hallucination for question: {question} with answer: {answer}\")\n",
    "    \n",
    "    # Initialize the retriever with the corpus directory\n",
    "    doc_retriever = retriever(corpus_dir = corpus_dir, debug = debug)\n",
    "\n",
    "    # Retrieve relevant documents from the corpus\n",
    "    if debug:\n",
    "        print(f\"Retrieving relevant documents for question: {question}\")\n",
    "    retrieved_docs_question = doc_retriever.get_relevant_documents(question)\n",
    "    retrieved_docs_answer = doc_retriever.get_relevant_documents(answer)\n",
    "    retrieved_docs = retrieved_docs_question + retrieved_docs_answer\n",
    "\n",
    "    # Predict hallucination using the predict_hallucination function\n",
    "    detected_hallucination = detect_hallucinations(\n",
    "        context = retrieved_docs,\n",
    "        question = question,\n",
    "        answer = answer,\n",
    "        debug = debug\n",
    "    )\n",
    "\n",
    "    # Check if an hallucination was detected\n",
    "    if detected_hallucination:\n",
    "        hallucination_was_found = \"Hallucinations detected\"\n",
    "    else:\n",
    "        hallucination_was_found = \"No hallucinations found\"\n",
    "\n",
    "    # Create an output string based on the result\n",
    "    hallucination_str = \"\"\n",
    "    for hallucination in detected_hallucination:\n",
    "        hallucination_str += f\"\"\"\n",
    "           '{hallucination['text']}' - Confidence = {hallucination['confidence']}\\n\n",
    "        \"\"\"\n",
    "\n",
    "    return hallucination_was_found, hallucination_str\n"
   ]
  },
  {
   "cell_type": "code",
   "execution_count": 12,
   "id": "69fcc583",
   "metadata": {},
   "outputs": [
    {
     "name": "stderr",
     "output_type": "stream",
     "text": [
      "/home/pau/python/lettuce_detect/.venv/lib/python3.12/site-packages/gradio/interface.py:425: UserWarning: The `allow_flagging` parameter in `Interface` is deprecated. Use `flagging_mode` instead.\n",
      "  warnings.warn(\n",
      "INFO: HTTP Request: GET http://127.0.0.1:7860/gradio_api/startup-events \"HTTP/1.1 200 OK\"\n",
      "INFO: HTTP Request: HEAD http://127.0.0.1:7860/ \"HTTP/1.1 200 OK\"\n"
     ]
    },
    {
     "name": "stdout",
     "output_type": "stream",
     "text": [
      "* Running on local URL:  http://127.0.0.1:7860\n",
      "* To create a public link, set `share=True` in `launch()`.\n"
     ]
    },
    {
     "data": {
      "text/html": [
       "<div><iframe src=\"http://127.0.0.1:7860/\" width=\"100%\" height=\"500\" allow=\"autoplay; camera; microphone; clipboard-read; clipboard-write;\" frameborder=\"0\" allowfullscreen></iframe></div>"
      ],
      "text/plain": [
       "<IPython.core.display.HTML object>"
      ]
     },
     "metadata": {},
     "output_type": "display_data"
    },
    {
     "data": {
      "text/plain": []
     },
     "execution_count": 12,
     "metadata": {},
     "output_type": "execute_result"
    },
    {
     "name": "stderr",
     "output_type": "stream",
     "text": [
      "INFO: HTTP Request: GET https://api.gradio.app/pkg-version \"HTTP/1.1 200 OK\"\n"
     ]
    }
   ],
   "source": [
    "rag_application = gr.Interface(\n",
    "    fn = gradio_backend,\n",
    "    allow_flagging = \"never\",\n",
    "    inputs = [\n",
    "        # Drag and drop files, returns a list of file paths\n",
    "        gr.File(label = \"Upload PDF/txt files\",\n",
    "                file_count = 'multiple',\n",
    "                file_types = ['.pdf', '.txt']),\n",
    "        gr.Textbox(label = \"Prompt\",\n",
    "                   placeholder = \"Type your question here...\"),\n",
    "        gr.Textbox(label = \"Answer\",\n",
    "                   lines = 3,\n",
    "                   placeholder = \"type the answer here...\"),\n",
    "    ],\n",
    "    outputs = [\n",
    "        gr.Textbox(label = \"Status\"),\n",
    "        gr.Textbox(label = \"Detected Hallucinations\",\n",
    "                   lines = 5)\n",
    "    ],\n",
    "    title = \"RAG system with Hallucination Detection\",\n",
    "    description = \"\"\"\n",
    "        Upload a collection of pdf or txt files provide a prompt and a response.\n",
    "        The backend will try to detect hallucinations in the response based on the provided context.\n",
    "    \"\"\"\n",
    ")\n",
    "\n",
    "rag_application.launch()"
   ]
  },
  {
   "cell_type": "markdown",
   "id": "3817f49c",
   "metadata": {},
   "source": [
    "# 6. Tests\n",
    "\n",
    "After completing the setup, several tests were carried in order to ensure the optimal performance of the system. Each one reflects a state of the project, and justifies the adjustements that were made in the code in order to improve the performance."
   ]
  },
  {
   "cell_type": "markdown",
   "id": "26972858",
   "metadata": {},
   "source": [
    "### Test 1\n",
    "\n",
    "This test was done before the answer was included in the input for retrieving relevant chunks of information. Thus, only the question was useful for finding the relevant chunks of information.\n",
    "\n",
    "**Question:** Which car model features a 12.3-inch high-resolution digital instrument display that replaces traditional analog gauges?\n",
    "\n",
    "**Answer (correct):** The Audi A4 2024 features a 12.3-inch high-resolution digital instrument display that replaces traditional analog gauges.\n",
    "\n",
    "**Status:** Hallucinations detected\n",
    "\n",
    "**Detected hallucinations:** 'The Audi A4 2024' - Confidence = 0.9719486832618713\n",
    "\n",
    "We retrieve the relevant documents for the query in order to understand this result:"
   ]
  },
  {
   "cell_type": "code",
   "execution_count": 13,
   "id": "56d2eb88",
   "metadata": {},
   "outputs": [
    {
     "name": "stdout",
     "output_type": "stream",
     "text": [
      "Loading documents from ./example_inputs/...\n",
      "Loading ford_f150_lightning_2024.txt...\n",
      "Loading audi_a4_2024.txt...\n",
      "Loading mercedes_cclass_2024.txt...\n",
      "Loading tesla_model_s_2024.txt...\n",
      "Loading toyota_camry_2024.txt...\n",
      "Loading bmw_3series_2024.txt...\n",
      "Loading jeep_wrangler_2024.txt...\n",
      "Loading porsche_911_carrera_2024.txt...\n",
      "Loading subaru_outback_2024.txt...\n",
      "Loading honda_accord_2024.txt...\n",
      "Filtering complex metadata...\n",
      "Splitting 271 documents into chunks...\n",
      "Initializing embeddings with model: text-embedding-3-small, deployment: text-embedding-3-small\n",
      "Creating retriever from vector database...\n"
     ]
    },
    {
     "name": "stderr",
     "output_type": "stream",
     "text": [
      "INFO: HTTP Request: POST https://paulo-mcw0r95x-eastus2.cognitiveservices.azure.com/openai/deployments/text-embedding-3-small/embeddings?api-version=2024-12-01-preview \"HTTP/1.1 200 OK\"\n"
     ]
    },
    {
     "data": {
      "text/plain": [
       "[Document(id='a6bc85c1-5534-4ca4-8da1-21bf95b97154', metadata={'parent_id': '2259b4a98394c3141eb5a2b1cfd2d020', 'category': 'NarrativeText', 'source': './example_inputs/bmw_3series_2024.txt', 'last_modified': '2025-07-24T15:17:12', 'file_directory': './example_inputs', 'filetype': 'text/plain', 'filename': 'bmw_3series_2024.txt', 'element_id': '13ef0961df231caad8d9f14677373220'}, page_content='The available 12.3-inch digital instrument cluster provides customizable displays for vehicle information, navigation, and performance data. The head-up display projects critical information directly onto the windshield, allowing drivers to maintain focus on the road ahead.'),\n",
       " Document(id='0b6edc4c-9083-427d-909f-a39fc594518b', metadata={'file_directory': './example_inputs', 'element_id': 'cd16d11e267fac458dee2d26cfa5016f', 'category': 'NarrativeText', 'source': './example_inputs/ford_f150_lightning_2024.txt', 'parent_id': '2d6915279208a589ce54feed1e029f22', 'filename': 'ford_f150_lightning_2024.txt', 'last_modified': '2025-07-24T15:17:12', 'filetype': 'text/plain'}, page_content='The available 12-inch digital instrument cluster provides customizable displays for vehicle information, range estimation, and power consumption data. The head-up display projects critical information directly onto the windshield for enhanced safety and convenience.'),\n",
       " Document(id='f4303958-2fec-4ab5-b66b-58d046dfdd24', metadata={'category': 'NarrativeText', 'filename': 'mercedes_cclass_2024.txt', 'filetype': 'text/plain', 'element_id': 'a01fed164f41ba43fc982efee5f10e35', 'file_directory': './example_inputs', 'source': './example_inputs/mercedes_cclass_2024.txt', 'parent_id': '1a4a331e138857ce7cd9e98af0931339', 'last_modified': '2025-07-24T15:17:12'}, page_content='The available 12.3-inch digital instrument cluster offers customizable displays for vehicle information, navigation, and performance data. The augmented reality navigation system overlays directional arrows and points of interest directly onto the live camera feed, making navigation more intuitive and safer.'),\n",
       " Document(id='83e05975-bcb1-414d-a120-90c1ab9df88f', metadata={'filename': 'jeep_wrangler_2024.txt', 'filetype': 'text/plain', 'element_id': 'efd0fdb50be1929e7faa68c9e59d2928', 'source': './example_inputs/jeep_wrangler_2024.txt', 'parent_id': 'b9969aeb058e1fa36bfef9b1c44ddd1c', 'category': 'NarrativeText', 'last_modified': '2025-07-24T15:17:12', 'file_directory': './example_inputs'}, page_content='The dashboard layout emphasizes functionality with large, easy-to-read gauges and controls that can be operated while wearing gloves. Available technology features include an 8.4-inch touchscreen infotainment system with navigation and off-road performance monitoring.')]"
      ]
     },
     "execution_count": 13,
     "metadata": {},
     "output_type": "execute_result"
    }
   ],
   "source": [
    "test_retriever = retriever(corpus_dir = \"./example_inputs/\", debug = True)\n",
    "docs = test_retriever.get_relevant_documents(\"Which car model features a 12.3-inch high-resolution digital instrument display that replaces traditional analog gauges?\")\n",
    "docs"
   ]
  },
  {
   "cell_type": "markdown",
   "id": "7f4f7abd",
   "metadata": {},
   "source": [
    "**Conclusion**\n",
    "\n",
    "LettuceDetect is a framework that detects hallucinations based on the abscence of data given a certain context that is assumed to be true, rather than on the actual validity of the evaluated answer.\n",
    "\n",
    "Thus, when implemented in combination with a RAG system it should be used as a pre-processing step in order to point out possible conflicts with a given corpus of data, without assuming them to be necessarly true. In the previous example, the name of the car is correct. However, it is not shown in the relevant chunks (as these are about the requested information about the digital instrument display) and therefore is pointed out as an hallucination.\n",
    "\n",
    "Later on, these conflicts can be evaluated by LLMs to determine their factual accuracy and provide an enhanced response."
   ]
  },
  {
   "cell_type": "markdown",
   "id": "eb6a4637",
   "metadata": {},
   "source": [
    "## Test 2\n",
    "\n",
    "The same test as before but now including the answer in the similarity search.\n",
    "\n",
    "**Question:** Which car model features a 12.3-inch high-resolution digital instrument display that replaces traditional analog gauges?\n",
    "\n",
    "**Answer (correct):** The Audi A4 2024 features a 12.3-inch high-resolution digital instrument display that replaces traditional analog gauges.\n",
    "\n",
    "**Status:** No hallucinations detected\n",
    "\n",
    "**Detected hallucinations:**\n",
    "\n",
    "We retrieve the relevant documents for the question and provided answer together. In this case, the relevant information relative to the \"Audi A4 2024\" model is included in the retrieved chunks of information."
   ]
  },
  {
   "cell_type": "code",
   "execution_count": 14,
   "id": "6d909b78",
   "metadata": {},
   "outputs": [
    {
     "name": "stdout",
     "output_type": "stream",
     "text": [
      "Loading documents from ./example_inputs/...\n",
      "Loading ford_f150_lightning_2024.txt...\n",
      "Loading audi_a4_2024.txt...\n",
      "Loading mercedes_cclass_2024.txt...\n",
      "Loading tesla_model_s_2024.txt...\n",
      "Loading toyota_camry_2024.txt...\n",
      "Loading bmw_3series_2024.txt...\n",
      "Loading jeep_wrangler_2024.txt...\n",
      "Loading porsche_911_carrera_2024.txt...\n",
      "Loading subaru_outback_2024.txt...\n",
      "Loading honda_accord_2024.txt...\n",
      "Filtering complex metadata...\n",
      "Splitting 271 documents into chunks...\n",
      "Initializing embeddings with model: text-embedding-3-small, deployment: text-embedding-3-small\n",
      "Creating retriever from vector database...\n"
     ]
    },
    {
     "name": "stderr",
     "output_type": "stream",
     "text": [
      "INFO: HTTP Request: POST https://paulo-mcw0r95x-eastus2.cognitiveservices.azure.com/openai/deployments/text-embedding-3-small/embeddings?api-version=2024-12-01-preview \"HTTP/1.1 200 OK\"\n"
     ]
    },
    {
     "data": {
      "text/plain": [
       "[Document(id='e84c3e95-f365-497d-878d-f88f30c6cbd2', metadata={'parent_id': '97a4fe3f7cf75b893b0c058cd61d887a', 'element_id': 'b373aa446f6fd7009219d2ebf7ba0fe2', 'source': './example_inputs/audi_a4_2024.txt', 'last_modified': '2025-07-24T15:17:12', 'filename': 'audi_a4_2024.txt', 'category': 'NarrativeText', 'filetype': 'text/plain', 'file_directory': './example_inputs'}, page_content=\"Virtual Cockpit Technology The 2024 A4 features Audi's revolutionary Virtual Cockpit, a 12.3-inch high-resolution digital instrument display that replaces traditional analog gauges. This advanced system provides customizable layouts for vehicle information, navigation maps, entertainment controls, and performance data. Drivers can switch between Classic view that mimics traditional gauges and Infotainment view that prioritizes navigation and media information.\"),\n",
       " Document(id='a6bc85c1-5534-4ca4-8da1-21bf95b97154', metadata={'parent_id': '2259b4a98394c3141eb5a2b1cfd2d020', 'file_directory': './example_inputs', 'last_modified': '2025-07-24T15:17:12', 'category': 'NarrativeText', 'filename': 'bmw_3series_2024.txt', 'filetype': 'text/plain', 'element_id': '13ef0961df231caad8d9f14677373220', 'source': './example_inputs/bmw_3series_2024.txt'}, page_content='The available 12.3-inch digital instrument cluster provides customizable displays for vehicle information, navigation, and performance data. The head-up display projects critical information directly onto the windshield, allowing drivers to maintain focus on the road ahead.'),\n",
       " Document(id='0b6edc4c-9083-427d-909f-a39fc594518b', metadata={'element_id': 'cd16d11e267fac458dee2d26cfa5016f', 'filename': 'ford_f150_lightning_2024.txt', 'category': 'NarrativeText', 'source': './example_inputs/ford_f150_lightning_2024.txt', 'filetype': 'text/plain', 'file_directory': './example_inputs', 'parent_id': '2d6915279208a589ce54feed1e029f22', 'last_modified': '2025-07-24T15:17:12'}, page_content='The available 12-inch digital instrument cluster provides customizable displays for vehicle information, range estimation, and power consumption data. The head-up display projects critical information directly onto the windshield for enhanced safety and convenience.'),\n",
       " Document(id='f4303958-2fec-4ab5-b66b-58d046dfdd24', metadata={'category': 'NarrativeText', 'last_modified': '2025-07-24T15:17:12', 'element_id': 'a01fed164f41ba43fc982efee5f10e35', 'parent_id': '1a4a331e138857ce7cd9e98af0931339', 'filename': 'mercedes_cclass_2024.txt', 'source': './example_inputs/mercedes_cclass_2024.txt', 'filetype': 'text/plain', 'file_directory': './example_inputs'}, page_content='The available 12.3-inch digital instrument cluster offers customizable displays for vehicle information, navigation, and performance data. The augmented reality navigation system overlays directional arrows and points of interest directly onto the live camera feed, making navigation more intuitive and safer.')]"
      ]
     },
     "execution_count": 14,
     "metadata": {},
     "output_type": "execute_result"
    }
   ],
   "source": [
    "test_retriever = retriever(corpus_dir = \"./example_inputs/\", debug = True)\n",
    "docs = test_retriever.get_relevant_documents(\"Which car model features a 12.3-inch high-resolution digital instrument display that replaces traditional analog gauges?\"\n",
    "                                             +\n",
    "                                             \"The Audi 2024 features a 12.3-inch high-resolution digital instrument display that replaces traditional analog gauges.\"\n",
    ")\n",
    "docs"
   ]
  },
  {
   "cell_type": "markdown",
   "id": "08a6a439",
   "metadata": {},
   "source": [
    "In the following code block, we join the retrievals for the question and answer separately in order to provide a greater context to the system."
   ]
  },
  {
   "cell_type": "code",
   "execution_count": 15,
   "id": "a355369c",
   "metadata": {},
   "outputs": [
    {
     "name": "stdout",
     "output_type": "stream",
     "text": [
      "Loading documents from ./example_inputs/...\n",
      "Loading ford_f150_lightning_2024.txt...\n",
      "Loading audi_a4_2024.txt...\n",
      "Loading mercedes_cclass_2024.txt...\n",
      "Loading tesla_model_s_2024.txt...\n",
      "Loading toyota_camry_2024.txt...\n",
      "Loading bmw_3series_2024.txt...\n",
      "Loading jeep_wrangler_2024.txt...\n",
      "Loading porsche_911_carrera_2024.txt...\n",
      "Loading subaru_outback_2024.txt...\n",
      "Loading honda_accord_2024.txt...\n",
      "Filtering complex metadata...\n",
      "Splitting 271 documents into chunks...\n",
      "Initializing embeddings with model: text-embedding-3-small, deployment: text-embedding-3-small\n",
      "Creating retriever from vector database...\n"
     ]
    },
    {
     "name": "stderr",
     "output_type": "stream",
     "text": [
      "INFO: HTTP Request: POST https://paulo-mcw0r95x-eastus2.cognitiveservices.azure.com/openai/deployments/text-embedding-3-small/embeddings?api-version=2024-12-01-preview \"HTTP/1.1 200 OK\"\n",
      "INFO: HTTP Request: POST https://paulo-mcw0r95x-eastus2.cognitiveservices.azure.com/openai/deployments/text-embedding-3-small/embeddings?api-version=2024-12-01-preview \"HTTP/1.1 200 OK\"\n"
     ]
    },
    {
     "data": {
      "text/plain": [
       "[Document(id='a6bc85c1-5534-4ca4-8da1-21bf95b97154', metadata={'category': 'NarrativeText', 'last_modified': '2025-07-24T15:17:12', 'parent_id': '2259b4a98394c3141eb5a2b1cfd2d020', 'element_id': '13ef0961df231caad8d9f14677373220', 'source': './example_inputs/bmw_3series_2024.txt', 'file_directory': './example_inputs', 'filetype': 'text/plain', 'filename': 'bmw_3series_2024.txt'}, page_content='The available 12.3-inch digital instrument cluster provides customizable displays for vehicle information, navigation, and performance data. The head-up display projects critical information directly onto the windshield, allowing drivers to maintain focus on the road ahead.'),\n",
       " Document(id='0b6edc4c-9083-427d-909f-a39fc594518b', metadata={'file_directory': './example_inputs', 'source': './example_inputs/ford_f150_lightning_2024.txt', 'last_modified': '2025-07-24T15:17:12', 'category': 'NarrativeText', 'filetype': 'text/plain', 'parent_id': '2d6915279208a589ce54feed1e029f22', 'element_id': 'cd16d11e267fac458dee2d26cfa5016f', 'filename': 'ford_f150_lightning_2024.txt'}, page_content='The available 12-inch digital instrument cluster provides customizable displays for vehicle information, range estimation, and power consumption data. The head-up display projects critical information directly onto the windshield for enhanced safety and convenience.'),\n",
       " Document(id='f4303958-2fec-4ab5-b66b-58d046dfdd24', metadata={'parent_id': '1a4a331e138857ce7cd9e98af0931339', 'file_directory': './example_inputs', 'last_modified': '2025-07-24T15:17:12', 'category': 'NarrativeText', 'filetype': 'text/plain', 'source': './example_inputs/mercedes_cclass_2024.txt', 'filename': 'mercedes_cclass_2024.txt', 'element_id': 'a01fed164f41ba43fc982efee5f10e35'}, page_content='The available 12.3-inch digital instrument cluster offers customizable displays for vehicle information, navigation, and performance data. The augmented reality navigation system overlays directional arrows and points of interest directly onto the live camera feed, making navigation more intuitive and safer.'),\n",
       " Document(id='83e05975-bcb1-414d-a120-90c1ab9df88f', metadata={'source': './example_inputs/jeep_wrangler_2024.txt', 'last_modified': '2025-07-24T15:17:12', 'filetype': 'text/plain', 'parent_id': 'b9969aeb058e1fa36bfef9b1c44ddd1c', 'filename': 'jeep_wrangler_2024.txt', 'element_id': 'efd0fdb50be1929e7faa68c9e59d2928', 'category': 'NarrativeText', 'file_directory': './example_inputs'}, page_content='The dashboard layout emphasizes functionality with large, easy-to-read gauges and controls that can be operated while wearing gloves. Available technology features include an 8.4-inch touchscreen infotainment system with navigation and off-road performance monitoring.'),\n",
       " Document(id='e84c3e95-f365-497d-878d-f88f30c6cbd2', metadata={'filetype': 'text/plain', 'file_directory': './example_inputs', 'category': 'NarrativeText', 'element_id': 'b373aa446f6fd7009219d2ebf7ba0fe2', 'source': './example_inputs/audi_a4_2024.txt', 'last_modified': '2025-07-24T15:17:12', 'filename': 'audi_a4_2024.txt', 'parent_id': '97a4fe3f7cf75b893b0c058cd61d887a'}, page_content=\"Virtual Cockpit Technology The 2024 A4 features Audi's revolutionary Virtual Cockpit, a 12.3-inch high-resolution digital instrument display that replaces traditional analog gauges. This advanced system provides customizable layouts for vehicle information, navigation maps, entertainment controls, and performance data. Drivers can switch between Classic view that mimics traditional gauges and Infotainment view that prioritizes navigation and media information.\"),\n",
       " Document(id='a6bc85c1-5534-4ca4-8da1-21bf95b97154', metadata={'source': './example_inputs/bmw_3series_2024.txt', 'file_directory': './example_inputs', 'last_modified': '2025-07-24T15:17:12', 'filetype': 'text/plain', 'category': 'NarrativeText', 'element_id': '13ef0961df231caad8d9f14677373220', 'parent_id': '2259b4a98394c3141eb5a2b1cfd2d020', 'filename': 'bmw_3series_2024.txt'}, page_content='The available 12.3-inch digital instrument cluster provides customizable displays for vehicle information, navigation, and performance data. The head-up display projects critical information directly onto the windshield, allowing drivers to maintain focus on the road ahead.'),\n",
       " Document(id='0b6edc4c-9083-427d-909f-a39fc594518b', metadata={'element_id': 'cd16d11e267fac458dee2d26cfa5016f', 'last_modified': '2025-07-24T15:17:12', 'filename': 'ford_f150_lightning_2024.txt', 'parent_id': '2d6915279208a589ce54feed1e029f22', 'file_directory': './example_inputs', 'category': 'NarrativeText', 'source': './example_inputs/ford_f150_lightning_2024.txt', 'filetype': 'text/plain'}, page_content='The available 12-inch digital instrument cluster provides customizable displays for vehicle information, range estimation, and power consumption data. The head-up display projects critical information directly onto the windshield for enhanced safety and convenience.'),\n",
       " Document(id='f4303958-2fec-4ab5-b66b-58d046dfdd24', metadata={'source': './example_inputs/mercedes_cclass_2024.txt', 'last_modified': '2025-07-24T15:17:12', 'parent_id': '1a4a331e138857ce7cd9e98af0931339', 'filetype': 'text/plain', 'filename': 'mercedes_cclass_2024.txt', 'element_id': 'a01fed164f41ba43fc982efee5f10e35', 'category': 'NarrativeText', 'file_directory': './example_inputs'}, page_content='The available 12.3-inch digital instrument cluster offers customizable displays for vehicle information, navigation, and performance data. The augmented reality navigation system overlays directional arrows and points of interest directly onto the live camera feed, making navigation more intuitive and safer.')]"
      ]
     },
     "execution_count": 15,
     "metadata": {},
     "output_type": "execute_result"
    }
   ],
   "source": [
    "test_retriever = retriever(corpus_dir = \"./example_inputs/\", debug = True)\n",
    "docs_question = test_retriever.get_relevant_documents(\"Which car model features a 12.3-inch high-resolution digital instrument display that replaces traditional analog gauges?\")\n",
    "docs_answer = test_retriever.get_relevant_documents(\"The Audi 2024 features a 12.3-inch high-resolution digital instrument display that replaces traditional analog gauges.\")\n",
    "docs_question + docs_answer"
   ]
  },
  {
   "cell_type": "markdown",
   "id": "1abdfdb2",
   "metadata": {},
   "source": [
    "**Conclusion**\n",
    "\n",
    "We chose to retrieve documents for the question and answer separately, then combine them, to ensure both the context of the query and the specific entities or facts in the answer are represented. This prevents missing relevant information and reduces false positives in hallucination detection. Separate retrievals maintain clarity and provide LettuceDetect with a fuller context for accurate verification.\n",
    "\n",
    "Additionally, providing more comprehensive context reduces the risk of false negatives, as it increases the likelihood that supporting evidence for true statements will be included in the verification process.\n"
   ]
  },
  {
   "cell_type": "markdown",
   "id": "147e58f8",
   "metadata": {},
   "source": [
    "### Test 3\n",
    "\n",
    "In this case, we successfully trick the model by providing a wrong response but combining actual information present in the retrieved documents.\n",
    "\n",
    "**Question:** Which car features a 12.3-inch high-resolution digital instrument display that replaces traditional analog gauges?\n",
    "\n",
    "**Answer (correct):** The Virtual Cockpit Technology features a 12.3-inch high-resolution digital instrument display that replaces traditional analog gauges\n",
    "\n",
    "**Status:** No hallucinations detected\n",
    "\n",
    "**Detected hallucinations:**"
   ]
  },
  {
   "cell_type": "markdown",
   "id": "5d756aae",
   "metadata": {},
   "source": [
    "### Test 4\n",
    "\n",
    "In this test, we take advantage of the txt files being small in size so we can pass them directly to the system without splittig them into chunks, hoping that keeping all the information together will help in guiding the model."
   ]
  },
  {
   "cell_type": "code",
   "execution_count": 28,
   "id": "60e9364e",
   "metadata": {},
   "outputs": [],
   "source": [
    "def merge_documents(documents: list[Document]) -> Document:\n",
    "    # Combine the content of all the documents into a single string\n",
    "    combined_content = \"\\n\\n\".join(doc.page_content for doc in documents)\n",
    "\n",
    "    # Combine the metadata of all documents into a single dictionary\n",
    "    combined_metadata = {\"sources\": [doc.metadata for doc in documents]}\n",
    "\n",
    "    # Create a new Document with the combined content and metadata\n",
    "    return Document(page_content=combined_content, metadata=combined_metadata)"
   ]
  },
  {
   "cell_type": "code",
   "execution_count": 29,
   "id": "519db76c",
   "metadata": {},
   "outputs": [],
   "source": [
    "def load_full_documents(corpus_dir = \"./corpus/\", debug = False) -> list[str]:\n",
    "    # Load all documents from the corpus directory\n",
    "    loaded_docs = []\n",
    "    if debug:\n",
    "        print(f\"Loading documents from {corpus_dir}...\")\n",
    "    for file in os.listdir(corpus_dir):\n",
    "        # Load the file using UnstructuredLoader\n",
    "        loader = UnstructuredLoader(corpus_dir + file, mode = 'single')\n",
    "        loaded_docs = loader.load()\n",
    "\n",
    "        # Join all the documents into a single string\n",
    "        merged_docs = merge_documents(loaded_docs)\n",
    "\n",
    "        # Append the document to the list of loaded documents\n",
    "        loaded_docs.append(merged_docs)\n",
    "\n",
    "    # Filter complex metadata from loaded documents\n",
    "    if debug:\n",
    "        print(\"Filtering complex metadata...\")\n",
    "    filtered_docs = filter_complex_metadata(loaded_docs)\n",
    "\n",
    "    return filtered_docs"
   ]
  },
  {
   "cell_type": "code",
   "execution_count": 30,
   "id": "e5900d58",
   "metadata": {},
   "outputs": [],
   "source": [
    "def retriever_nosplit(corpus_dir = \"./corpus/\", debug = False):\n",
    "    docs = load_full_documents(corpus_dir, debug = debug)\n",
    "    vectordb = create_database(docs, \"./nosplitdb/\", debug = debug)\n",
    "    if debug:\n",
    "        print(\"Creating retriever from vector database...\")\n",
    "    retriever = vectordb.as_retriever()\n",
    "    return retriever"
   ]
  },
  {
   "cell_type": "code",
   "execution_count": 31,
   "id": "72f9b73a",
   "metadata": {},
   "outputs": [
    {
     "name": "stdout",
     "output_type": "stream",
     "text": [
      "Loading documents from ./example_inputs/...\n",
      "Filtering complex metadata...\n",
      "Initializing embeddings with model: text-embedding-3-small, deployment: text-embedding-3-small\n",
      "Creating retriever from vector database...\n"
     ]
    },
    {
     "name": "stderr",
     "output_type": "stream",
     "text": [
      "INFO: HTTP Request: POST https://paulo-mcw0r95x-eastus2.cognitiveservices.azure.com/openai/deployments/text-embedding-3-small/embeddings?api-version=2024-12-01-preview \"HTTP/1.1 200 OK\"\n",
      "INFO: HTTP Request: POST https://paulo-mcw0r95x-eastus2.cognitiveservices.azure.com/openai/deployments/text-embedding-3-small/embeddings?api-version=2024-12-01-preview \"HTTP/1.1 200 OK\"\n"
     ]
    },
    {
     "data": {
      "text/plain": [
       "[]"
      ]
     },
     "execution_count": 31,
     "metadata": {},
     "output_type": "execute_result"
    }
   ],
   "source": [
    "test_retriever = retriever_nosplit(corpus_dir = \"./example_inputs/\", debug = True)\n",
    "docs_question = test_retriever.get_relevant_documents(\"Which car model features a 12.3-inch high-resolution digital instrument display that replaces traditional analog gauges?\")\n",
    "docs_answer = test_retriever.get_relevant_documents(\"The Audi 2024 features a 12.3-inch high-resolution digital instrument display that replaces traditional analog gauges.\")\n",
    "docs_question + docs_answer"
   ]
  }
 ],
 "metadata": {
  "kernelspec": {
   "display_name": ".venv (3.12.3)",
   "language": "python",
   "name": "python3"
  },
  "language_info": {
   "codemirror_mode": {
    "name": "ipython",
    "version": 3
   },
   "file_extension": ".py",
   "mimetype": "text/x-python",
   "name": "python",
   "nbconvert_exporter": "python",
   "pygments_lexer": "ipython3",
   "version": "3.12.3"
  }
 },
 "nbformat": 4,
 "nbformat_minor": 5
}
